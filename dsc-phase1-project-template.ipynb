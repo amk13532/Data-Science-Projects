{
 "cells": [
  {
   "cell_type": "markdown",
   "metadata": {},
   "source": [
    "![example](images/director_shot.jpeg)"
   ]
  },
  {
   "cell_type": "markdown",
   "metadata": {},
   "source": [
    "# Microsoft Box Office\n",
    "\n",
    "**Author:** Matthew Gayanelo\n",
    "***"
   ]
  },
  {
   "cell_type": "markdown",
   "metadata": {},
   "source": [
    "## Overview\n",
    "\n",
    "Due to the success of original content creation in various streaming platforms, Microsoft will be launching an in house movie studio. In order to optimize this venture, Microsoft has tasked us with conducting a data study that will produce actionable insights and guide them on creating optimum content. "
   ]
  },
  {
   "cell_type": "markdown",
   "metadata": {},
   "source": [
    "## Business Problem\n",
    "\n",
    "Summary of the business problem you are trying to solve, and the data questions that you plan to answer to solve them.\n",
    "\n",
    "There are several data sets available to preform insight analysis, and moreover several metrics that could define success. Fundamentally, this study will look to answer the following questions:\n",
    "\n",
    "1. Which genres generated the highest amount of domestic revenue per movie?\n",
    "2. Which genres had the highest measurable amount of engagement?\n",
    "3. When an audience does engage, which genres garnered the most positive response?\n",
    "\n",
    "In order to address these questions, the following will be used as succcess metrics:\n",
    "\n",
    "1. Average Domestic Gross per Movie by Genre\n",
    "2. Average Votes per Movie by Genre\n",
    "3. Average Rating per Movie by Genre\n",
    "\n",
    "A firm unerstanidng of these metrics will provide a holistic understanding of revenue generation, the measured emotional engagement of the audience, and how positive/negative nature of that audience engagement is."
   ]
  },
  {
   "cell_type": "markdown",
   "metadata": {},
   "source": [
    "## Data Understanding\n",
    "\n",
    "In order to meet the time requirements, and achieve an optimal data study, the following data sets have been chosen to conduct our analytics:\n",
    "\n",
    "1. **IMDB Titles / Genre Classificaitons**\n",
    "\n",
    "    * **Source**: IMDB\n",
    "    * **Analytical Prupose**: General Classification\n",
    "    * **Target Variable**: 'tconst' (unique identifier) & 'genres'\n",
    "    * **Target Variable Use**: 'tconst' will be used to match IMDB titles with IMDB Ratings in order to bucket the final dataset\n",
    "\n",
    "\n",
    "2. **IMDB Ratings**\n",
    "\n",
    "    * **Source**: IMDB\n",
    "    * **Analytical Prupose**: Measure Engagement & Average Rating\n",
    "    * **Target Variable**: 'tconst' (unique identifier), 'averagerating' & 'numvotes'\n",
    "    * **Target Variable Use**: 'tconst' will be used to match IMDB titles with IMDB Ratings in order to bucket the final dataset, 'averagerating' will be used to measure positivity/negativity of engagement & 'numvotes' will be used to measure size of engagement\n",
    "    \n",
    "\n",
    "3. **Box Office Movie Gross**\n",
    "\n",
    "    * **Source**: Box Office Mojo\n",
    "    * **Analytical Prupose**: Measure Domestic Gross\n",
    "    * **Target Variable**: 'title' & 'domestic gross'\n",
    "    * **Target Variable Use**: 'title' will be used to merge this data set into the final data frame, while 'domestic gross' will be used to measure revenue generation on a per genre basis."
   ]
  },
  {
   "cell_type": "markdown",
   "metadata": {},
   "source": [
    "## Data Preparation: IMDB Titles / Genre Classificaitons (df_basics)\n",
    "\n",
    "**Variables Dropped / Created**:\n",
    "   \n",
    "   'updated_original_title' was created to mitigate 21 NaN Values in 'original_title'. Values in the 'updated_original_title' were derived from the 'primary_title' when available or the 'original_title' if found to be NaN. This column would act as a placeholder for future merges in the event that 'original_title' would be required\n",
    "    \n",
    "**Missing/NaN Values Solutions**:\n",
    "        \n",
    "   5,408 rows were dropped due to the missing 'genres' data, since 'genres' were the main data point required from the set\n",
    "        \n",
    "   2,072 rows were dropped due to being 'studio', 'year', and 'primary_title' duplicates.\n",
    "        \n",
    "   31,739 NaN values were found in the 'runtime_minutes' column, but since this data point was not relevant to our core analytics these rows were left intact\n",
    "          \n",
    "**Justification**:\n",
    "\n",
    "Data cleanup primarily focused on 'genres' and 'updated_primary_title' as the former would act as the main data point needed to bucket revenue, ratings, and votes in the IMDB ratings Data Set while the former would act as a potential unique identifier in future mergers. Dropping the selected rows was deemed permissable as this only comprised less than ~5% of the total database."
   ]
  },
  {
   "cell_type": "code",
   "execution_count": 1,
   "metadata": {},
   "outputs": [],
   "source": [
    "# Import standard packages\n",
    "import pandas as pd\n",
    "import numpy as np\n",
    "import matplotlib.pyplot as plt\n",
    "import seaborn as sns\n",
    "import plotly.express as px\n",
    "\n",
    "pd.set_option('display.max_columns', None)\n",
    "\n",
    "%matplotlib inline"
   ]
  },
  {
   "cell_type": "code",
   "execution_count": 2,
   "metadata": {},
   "outputs": [],
   "source": [
    "#Creating Core Data Frames\n",
    "\n",
    "df_basics = pd.read_csv('data/zippedData/imdb.title.basics.csv.gz')\n",
    "df_ratings = pd.read_csv('data/zippedData/imdb.title.ratings.csv.gz')\n",
    "df_gross = pd.read_csv('data/zippedData/bom.movie_gross.csv.gz')"
   ]
  },
  {
   "cell_type": "code",
   "execution_count": 3,
   "metadata": {},
   "outputs": [
    {
     "data": {
      "text/html": [
       "<div>\n",
       "<style scoped>\n",
       "    .dataframe tbody tr th:only-of-type {\n",
       "        vertical-align: middle;\n",
       "    }\n",
       "\n",
       "    .dataframe tbody tr th {\n",
       "        vertical-align: top;\n",
       "    }\n",
       "\n",
       "    .dataframe thead th {\n",
       "        text-align: right;\n",
       "    }\n",
       "</style>\n",
       "<table border=\"1\" class=\"dataframe\">\n",
       "  <thead>\n",
       "    <tr style=\"text-align: right;\">\n",
       "      <th></th>\n",
       "      <th>tconst</th>\n",
       "      <th>primary_title</th>\n",
       "      <th>original_title</th>\n",
       "      <th>start_year</th>\n",
       "      <th>runtime_minutes</th>\n",
       "      <th>genres</th>\n",
       "    </tr>\n",
       "  </thead>\n",
       "  <tbody>\n",
       "    <tr>\n",
       "      <th>0</th>\n",
       "      <td>tt0063540</td>\n",
       "      <td>Sunghursh</td>\n",
       "      <td>Sunghursh</td>\n",
       "      <td>2013</td>\n",
       "      <td>175.0</td>\n",
       "      <td>Action,Crime,Drama</td>\n",
       "    </tr>\n",
       "    <tr>\n",
       "      <th>1</th>\n",
       "      <td>tt0066787</td>\n",
       "      <td>One Day Before the Rainy Season</td>\n",
       "      <td>Ashad Ka Ek Din</td>\n",
       "      <td>2019</td>\n",
       "      <td>114.0</td>\n",
       "      <td>Biography,Drama</td>\n",
       "    </tr>\n",
       "    <tr>\n",
       "      <th>2</th>\n",
       "      <td>tt0069049</td>\n",
       "      <td>The Other Side of the Wind</td>\n",
       "      <td>The Other Side of the Wind</td>\n",
       "      <td>2018</td>\n",
       "      <td>122.0</td>\n",
       "      <td>Drama</td>\n",
       "    </tr>\n",
       "    <tr>\n",
       "      <th>3</th>\n",
       "      <td>tt0069204</td>\n",
       "      <td>Sabse Bada Sukh</td>\n",
       "      <td>Sabse Bada Sukh</td>\n",
       "      <td>2018</td>\n",
       "      <td>NaN</td>\n",
       "      <td>Comedy,Drama</td>\n",
       "    </tr>\n",
       "    <tr>\n",
       "      <th>4</th>\n",
       "      <td>tt0100275</td>\n",
       "      <td>The Wandering Soap Opera</td>\n",
       "      <td>La Telenovela Errante</td>\n",
       "      <td>2017</td>\n",
       "      <td>80.0</td>\n",
       "      <td>Comedy,Drama,Fantasy</td>\n",
       "    </tr>\n",
       "  </tbody>\n",
       "</table>\n",
       "</div>"
      ],
      "text/plain": [
       "      tconst                    primary_title              original_title  \\\n",
       "0  tt0063540                        Sunghursh                   Sunghursh   \n",
       "1  tt0066787  One Day Before the Rainy Season             Ashad Ka Ek Din   \n",
       "2  tt0069049       The Other Side of the Wind  The Other Side of the Wind   \n",
       "3  tt0069204                  Sabse Bada Sukh             Sabse Bada Sukh   \n",
       "4  tt0100275         The Wandering Soap Opera       La Telenovela Errante   \n",
       "\n",
       "   start_year  runtime_minutes                genres  \n",
       "0        2013            175.0    Action,Crime,Drama  \n",
       "1        2019            114.0       Biography,Drama  \n",
       "2        2018            122.0                 Drama  \n",
       "3        2018              NaN          Comedy,Drama  \n",
       "4        2017             80.0  Comedy,Drama,Fantasy  "
      ]
     },
     "execution_count": 3,
     "metadata": {},
     "output_type": "execute_result"
    }
   ],
   "source": [
    "#Quick snapshot of df_basics\n",
    "\n",
    "df_basics.head()"
   ]
  },
  {
   "cell_type": "code",
   "execution_count": 4,
   "metadata": {
    "scrolled": true
   },
   "outputs": [
    {
     "name": "stdout",
     "output_type": "stream",
     "text": [
      "Total amount of NA Values per column:\n",
      " \n",
      "tconst                 0\n",
      "primary_title          0\n",
      "original_title        21\n",
      "start_year             0\n",
      "runtime_minutes    31739\n",
      "genres              5408\n",
      "dtype: int64\n",
      " \n",
      "Duplicated Title & Year Combinations =  2072\n",
      "Original total line items =  146144\n"
     ]
    }
   ],
   "source": [
    "#Checking For NAs & Duplicates in df_basics\n",
    "\n",
    "print(f'Total amount of NA Values per column:')\n",
    "print(f' ')\n",
    "print(df_basics.isna().sum())\n",
    "print(\" \")\n",
    "\n",
    "df_basics_duplicated = df_basics.duplicated(subset = ['primary_title', 'start_year'])\n",
    "\n",
    "print(f'Duplicated Title & Year Combinations = ', df_basics_duplicated.sum())\n",
    "print(f'Original total line items = ', len(df_basics))\n",
    "\n"
   ]
  },
  {
   "cell_type": "code",
   "execution_count": 5,
   "metadata": {},
   "outputs": [
    {
     "name": "stdout",
     "output_type": "stream",
     "text": [
      "144072\n",
      " \n",
      "Total amount of NA Values per column:\n",
      " \n",
      "tconst                 0\n",
      "primary_title          0\n",
      "original_title        19\n",
      "start_year             0\n",
      "runtime_minutes    31337\n",
      "genres                 0\n",
      "dtype: int64\n"
     ]
    }
   ],
   "source": [
    "# Drop Duplicated Original Titles and Years & replace 'genre' NA with 'None'\n",
    "\n",
    "df_basics = df_basics.drop_duplicates(subset=['primary_title', 'start_year'], keep = 'last')\n",
    "df_basics['genres'] = df_basics['genres'].fillna('No Genre')\n",
    "\n",
    "print(len(df_basics))\n",
    "print(f' ')\n",
    "print(f'Total amount of NA Values per column:')\n",
    "print(f' ')\n",
    "print(df_basics.isna().sum())"
   ]
  },
  {
   "cell_type": "code",
   "execution_count": 6,
   "metadata": {},
   "outputs": [
    {
     "data": {
      "text/html": [
       "<div>\n",
       "<style scoped>\n",
       "    .dataframe tbody tr th:only-of-type {\n",
       "        vertical-align: middle;\n",
       "    }\n",
       "\n",
       "    .dataframe tbody tr th {\n",
       "        vertical-align: top;\n",
       "    }\n",
       "\n",
       "    .dataframe thead th {\n",
       "        text-align: right;\n",
       "    }\n",
       "</style>\n",
       "<table border=\"1\" class=\"dataframe\">\n",
       "  <thead>\n",
       "    <tr style=\"text-align: right;\">\n",
       "      <th></th>\n",
       "      <th>tconst</th>\n",
       "      <th>primary_title</th>\n",
       "      <th>original_title</th>\n",
       "      <th>start_year</th>\n",
       "      <th>runtime_minutes</th>\n",
       "      <th>genres</th>\n",
       "      <th>updated_orginal_title</th>\n",
       "    </tr>\n",
       "  </thead>\n",
       "  <tbody>\n",
       "    <tr>\n",
       "      <th>39095</th>\n",
       "      <td>tt2397619</td>\n",
       "      <td>Woody Allen: A Documentary</td>\n",
       "      <td>NaN</td>\n",
       "      <td>2012</td>\n",
       "      <td>195.0</td>\n",
       "      <td>No Genre</td>\n",
       "      <td>Woody Allen: A Documentary</td>\n",
       "    </tr>\n",
       "    <tr>\n",
       "      <th>58624</th>\n",
       "      <td>tt3414266</td>\n",
       "      <td>The Outer Loop</td>\n",
       "      <td>NaN</td>\n",
       "      <td>2013</td>\n",
       "      <td>78.0</td>\n",
       "      <td>No Genre</td>\n",
       "      <td>The Outer Loop</td>\n",
       "    </tr>\n",
       "    <tr>\n",
       "      <th>62944</th>\n",
       "      <td>tt3616658</td>\n",
       "      <td>The Hangman</td>\n",
       "      <td>NaN</td>\n",
       "      <td>2017</td>\n",
       "      <td>NaN</td>\n",
       "      <td>No Genre</td>\n",
       "      <td>The Hangman</td>\n",
       "    </tr>\n",
       "    <tr>\n",
       "      <th>79274</th>\n",
       "      <td>tt4548042</td>\n",
       "      <td>Urban Legend: The Blind Side Strangler</td>\n",
       "      <td>NaN</td>\n",
       "      <td>2016</td>\n",
       "      <td>NaN</td>\n",
       "      <td>No Genre</td>\n",
       "      <td>Urban Legend: The Blind Side Strangler</td>\n",
       "    </tr>\n",
       "    <tr>\n",
       "      <th>80116</th>\n",
       "      <td>tt4599436</td>\n",
       "      <td>Please Don't Eat the Pansies</td>\n",
       "      <td>NaN</td>\n",
       "      <td>2016</td>\n",
       "      <td>NaN</td>\n",
       "      <td>No Genre</td>\n",
       "      <td>Please Don't Eat the Pansies</td>\n",
       "    </tr>\n",
       "    <tr>\n",
       "      <th>82058</th>\n",
       "      <td>tt4715728</td>\n",
       "      <td>Regen</td>\n",
       "      <td>NaN</td>\n",
       "      <td>2016</td>\n",
       "      <td>NaN</td>\n",
       "      <td>No Genre</td>\n",
       "      <td>Regen</td>\n",
       "    </tr>\n",
       "    <tr>\n",
       "      <th>82308</th>\n",
       "      <td>tt4732998</td>\n",
       "      <td>Limbo</td>\n",
       "      <td>NaN</td>\n",
       "      <td>2017</td>\n",
       "      <td>NaN</td>\n",
       "      <td>No Genre</td>\n",
       "      <td>Limbo</td>\n",
       "    </tr>\n",
       "    <tr>\n",
       "      <th>85353</th>\n",
       "      <td>tt4940426</td>\n",
       "      <td>OldZilla</td>\n",
       "      <td>NaN</td>\n",
       "      <td>2018</td>\n",
       "      <td>NaN</td>\n",
       "      <td>No Genre</td>\n",
       "      <td>OldZilla</td>\n",
       "    </tr>\n",
       "    <tr>\n",
       "      <th>107378</th>\n",
       "      <td>tt6288348</td>\n",
       "      <td>Deadly Affection</td>\n",
       "      <td>NaN</td>\n",
       "      <td>2017</td>\n",
       "      <td>NaN</td>\n",
       "      <td>No Genre</td>\n",
       "      <td>Deadly Affection</td>\n",
       "    </tr>\n",
       "    <tr>\n",
       "      <th>108971</th>\n",
       "      <td>tt6403090</td>\n",
       "      <td>What It Takes to Win</td>\n",
       "      <td>NaN</td>\n",
       "      <td>2017</td>\n",
       "      <td>NaN</td>\n",
       "      <td>No Genre</td>\n",
       "      <td>What It Takes to Win</td>\n",
       "    </tr>\n",
       "    <tr>\n",
       "      <th>108983</th>\n",
       "      <td>tt6404278</td>\n",
       "      <td>Over Nor Out</td>\n",
       "      <td>NaN</td>\n",
       "      <td>2018</td>\n",
       "      <td>NaN</td>\n",
       "      <td>No Genre</td>\n",
       "      <td>Over Nor Out</td>\n",
       "    </tr>\n",
       "    <tr>\n",
       "      <th>111377</th>\n",
       "      <td>tt6509234</td>\n",
       "      <td>Samurai Cop 3</td>\n",
       "      <td>NaN</td>\n",
       "      <td>2019</td>\n",
       "      <td>NaN</td>\n",
       "      <td>No Genre</td>\n",
       "      <td>Samurai Cop 3</td>\n",
       "    </tr>\n",
       "    <tr>\n",
       "      <th>111899</th>\n",
       "      <td>tt6543294</td>\n",
       "      <td>The Work</td>\n",
       "      <td>NaN</td>\n",
       "      <td>2017</td>\n",
       "      <td>NaN</td>\n",
       "      <td>No Genre</td>\n",
       "      <td>The Work</td>\n",
       "    </tr>\n",
       "    <tr>\n",
       "      <th>112608</th>\n",
       "      <td>tt6603544</td>\n",
       "      <td>Utopians</td>\n",
       "      <td>NaN</td>\n",
       "      <td>2015</td>\n",
       "      <td>NaN</td>\n",
       "      <td>No Genre</td>\n",
       "      <td>Utopians</td>\n",
       "    </tr>\n",
       "    <tr>\n",
       "      <th>115131</th>\n",
       "      <td>tt6823030</td>\n",
       "      <td>Hilfe, ich hab meine Eltern geschrumpft</td>\n",
       "      <td>NaN</td>\n",
       "      <td>2018</td>\n",
       "      <td>NaN</td>\n",
       "      <td>Adventure</td>\n",
       "      <td>Hilfe, ich hab meine Eltern geschrumpft</td>\n",
       "    </tr>\n",
       "    <tr>\n",
       "      <th>115934</th>\n",
       "      <td>tt6877572</td>\n",
       "      <td>X A 7</td>\n",
       "      <td>NaN</td>\n",
       "      <td>2020</td>\n",
       "      <td>NaN</td>\n",
       "      <td>No Genre</td>\n",
       "      <td>X A 7</td>\n",
       "    </tr>\n",
       "    <tr>\n",
       "      <th>115983</th>\n",
       "      <td>tt6882442</td>\n",
       "      <td>Hirugao: Love Affairs in the Afternoon</td>\n",
       "      <td>NaN</td>\n",
       "      <td>2017</td>\n",
       "      <td>125.0</td>\n",
       "      <td>Romance</td>\n",
       "      <td>Hirugao: Love Affairs in the Afternoon</td>\n",
       "    </tr>\n",
       "    <tr>\n",
       "      <th>116205</th>\n",
       "      <td>tt6900940</td>\n",
       "      <td>Hasan Minhaj: Homecoming King</td>\n",
       "      <td>NaN</td>\n",
       "      <td>2017</td>\n",
       "      <td>NaN</td>\n",
       "      <td>No Genre</td>\n",
       "      <td>Hasan Minhaj: Homecoming King</td>\n",
       "    </tr>\n",
       "    <tr>\n",
       "      <th>116350</th>\n",
       "      <td>tt6911842</td>\n",
       "      <td>Senioritus</td>\n",
       "      <td>NaN</td>\n",
       "      <td>2017</td>\n",
       "      <td>75.0</td>\n",
       "      <td>No Genre</td>\n",
       "      <td>Senioritus</td>\n",
       "    </tr>\n",
       "  </tbody>\n",
       "</table>\n",
       "</div>"
      ],
      "text/plain": [
       "           tconst                            primary_title original_title  \\\n",
       "39095   tt2397619               Woody Allen: A Documentary            NaN   \n",
       "58624   tt3414266                           The Outer Loop            NaN   \n",
       "62944   tt3616658                              The Hangman            NaN   \n",
       "79274   tt4548042   Urban Legend: The Blind Side Strangler            NaN   \n",
       "80116   tt4599436             Please Don't Eat the Pansies            NaN   \n",
       "82058   tt4715728                                    Regen            NaN   \n",
       "82308   tt4732998                                    Limbo            NaN   \n",
       "85353   tt4940426                                 OldZilla            NaN   \n",
       "107378  tt6288348                         Deadly Affection            NaN   \n",
       "108971  tt6403090                     What It Takes to Win            NaN   \n",
       "108983  tt6404278                             Over Nor Out            NaN   \n",
       "111377  tt6509234                            Samurai Cop 3            NaN   \n",
       "111899  tt6543294                                 The Work            NaN   \n",
       "112608  tt6603544                                 Utopians            NaN   \n",
       "115131  tt6823030  Hilfe, ich hab meine Eltern geschrumpft            NaN   \n",
       "115934  tt6877572                                    X A 7            NaN   \n",
       "115983  tt6882442   Hirugao: Love Affairs in the Afternoon            NaN   \n",
       "116205  tt6900940            Hasan Minhaj: Homecoming King            NaN   \n",
       "116350  tt6911842                               Senioritus            NaN   \n",
       "\n",
       "        start_year  runtime_minutes     genres  \\\n",
       "39095         2012            195.0   No Genre   \n",
       "58624         2013             78.0   No Genre   \n",
       "62944         2017              NaN   No Genre   \n",
       "79274         2016              NaN   No Genre   \n",
       "80116         2016              NaN   No Genre   \n",
       "82058         2016              NaN   No Genre   \n",
       "82308         2017              NaN   No Genre   \n",
       "85353         2018              NaN   No Genre   \n",
       "107378        2017              NaN   No Genre   \n",
       "108971        2017              NaN   No Genre   \n",
       "108983        2018              NaN   No Genre   \n",
       "111377        2019              NaN   No Genre   \n",
       "111899        2017              NaN   No Genre   \n",
       "112608        2015              NaN   No Genre   \n",
       "115131        2018              NaN  Adventure   \n",
       "115934        2020              NaN   No Genre   \n",
       "115983        2017            125.0    Romance   \n",
       "116205        2017              NaN   No Genre   \n",
       "116350        2017             75.0   No Genre   \n",
       "\n",
       "                          updated_orginal_title  \n",
       "39095                Woody Allen: A Documentary  \n",
       "58624                            The Outer Loop  \n",
       "62944                               The Hangman  \n",
       "79274    Urban Legend: The Blind Side Strangler  \n",
       "80116              Please Don't Eat the Pansies  \n",
       "82058                                     Regen  \n",
       "82308                                     Limbo  \n",
       "85353                                  OldZilla  \n",
       "107378                         Deadly Affection  \n",
       "108971                     What It Takes to Win  \n",
       "108983                             Over Nor Out  \n",
       "111377                            Samurai Cop 3  \n",
       "111899                                 The Work  \n",
       "112608                                 Utopians  \n",
       "115131  Hilfe, ich hab meine Eltern geschrumpft  \n",
       "115934                                    X A 7  \n",
       "115983   Hirugao: Love Affairs in the Afternoon  \n",
       "116205            Hasan Minhaj: Homecoming King  \n",
       "116350                               Senioritus  "
      ]
     },
     "execution_count": 6,
     "metadata": {},
     "output_type": "execute_result"
    }
   ],
   "source": [
    "#Creating an updated_original_title columnn that replaced NaN values in original_title with the primary_title\n",
    "\n",
    "df_basics['updated_orginal_title'] = np.where(df_basics['original_title'].isna(), df_basics['primary_title'], df_basics['original_title'])\n",
    "\n",
    "df_basics[df_basics['original_title'].isna()]"
   ]
  },
  {
   "cell_type": "markdown",
   "metadata": {},
   "source": [
    "## Data Preparation: IMDB Title Ratings (df_ratings)\n",
    "\n",
    "**Variables Dropped / Created**:\n",
    "   \n",
    "   None\n",
    "    \n",
    "**Missing/NaN Values Solutions**:\n",
    "        \n",
    "   None\n",
    "          \n",
    "**Justification**:\n",
    "\n",
    "   None"
   ]
  },
  {
   "cell_type": "code",
   "execution_count": 7,
   "metadata": {},
   "outputs": [
    {
     "data": {
      "text/html": [
       "<div>\n",
       "<style scoped>\n",
       "    .dataframe tbody tr th:only-of-type {\n",
       "        vertical-align: middle;\n",
       "    }\n",
       "\n",
       "    .dataframe tbody tr th {\n",
       "        vertical-align: top;\n",
       "    }\n",
       "\n",
       "    .dataframe thead th {\n",
       "        text-align: right;\n",
       "    }\n",
       "</style>\n",
       "<table border=\"1\" class=\"dataframe\">\n",
       "  <thead>\n",
       "    <tr style=\"text-align: right;\">\n",
       "      <th></th>\n",
       "      <th>tconst</th>\n",
       "      <th>averagerating</th>\n",
       "      <th>numvotes</th>\n",
       "    </tr>\n",
       "  </thead>\n",
       "  <tbody>\n",
       "    <tr>\n",
       "      <th>0</th>\n",
       "      <td>tt10356526</td>\n",
       "      <td>8.3</td>\n",
       "      <td>31</td>\n",
       "    </tr>\n",
       "    <tr>\n",
       "      <th>1</th>\n",
       "      <td>tt10384606</td>\n",
       "      <td>8.9</td>\n",
       "      <td>559</td>\n",
       "    </tr>\n",
       "    <tr>\n",
       "      <th>2</th>\n",
       "      <td>tt1042974</td>\n",
       "      <td>6.4</td>\n",
       "      <td>20</td>\n",
       "    </tr>\n",
       "    <tr>\n",
       "      <th>3</th>\n",
       "      <td>tt1043726</td>\n",
       "      <td>4.2</td>\n",
       "      <td>50352</td>\n",
       "    </tr>\n",
       "    <tr>\n",
       "      <th>4</th>\n",
       "      <td>tt1060240</td>\n",
       "      <td>6.5</td>\n",
       "      <td>21</td>\n",
       "    </tr>\n",
       "  </tbody>\n",
       "</table>\n",
       "</div>"
      ],
      "text/plain": [
       "       tconst  averagerating  numvotes\n",
       "0  tt10356526            8.3        31\n",
       "1  tt10384606            8.9       559\n",
       "2   tt1042974            6.4        20\n",
       "3   tt1043726            4.2     50352\n",
       "4   tt1060240            6.5        21"
      ]
     },
     "execution_count": 7,
     "metadata": {},
     "output_type": "execute_result"
    }
   ],
   "source": [
    "#Quick snapshot of df_ratings\n",
    "\n",
    "df_ratings.head()"
   ]
  },
  {
   "cell_type": "code",
   "execution_count": 8,
   "metadata": {},
   "outputs": [
    {
     "name": "stdout",
     "output_type": "stream",
     "text": [
      "Total amount of NA Values per column:\n",
      " \n",
      "tconst           0\n",
      "averagerating    0\n",
      "numvotes         0\n",
      "dtype: int64\n",
      " \n",
      "Duplicate values:  0\n"
     ]
    }
   ],
   "source": [
    "#Checking For NAs & Duplicates in df_ratings\n",
    "\n",
    "print(f'Total amount of NA Values per column:')\n",
    "print(f' ')\n",
    "print(df_ratings.isna().sum())\n",
    "print(\" \")\n",
    "\n",
    "df_ratings_duplicated = df_ratings.duplicated(subset = ['tconst'])\n",
    "\n",
    "print(f'Duplicate values: ',df_ratings_duplicated.sum())"
   ]
  },
  {
   "cell_type": "markdown",
   "metadata": {},
   "source": [
    "## Data Preparation: IMDB Title Ratings (df_gross)\n",
    "\n",
    "**Variables Dropped / Created**:\n",
    "   \n",
    "   None\n",
    "    \n",
    "**Missing/NaN Values Solutions**:\n",
    "        \n",
    "   28 'domestic_gross' line items dropped due to NaN values\n",
    "          \n",
    "**Justification**:\n",
    "\n",
    "   All other NaN values were retained as they would not influence the analytics moving forward"
   ]
  },
  {
   "cell_type": "code",
   "execution_count": 9,
   "metadata": {},
   "outputs": [
    {
     "data": {
      "text/html": [
       "<div>\n",
       "<style scoped>\n",
       "    .dataframe tbody tr th:only-of-type {\n",
       "        vertical-align: middle;\n",
       "    }\n",
       "\n",
       "    .dataframe tbody tr th {\n",
       "        vertical-align: top;\n",
       "    }\n",
       "\n",
       "    .dataframe thead th {\n",
       "        text-align: right;\n",
       "    }\n",
       "</style>\n",
       "<table border=\"1\" class=\"dataframe\">\n",
       "  <thead>\n",
       "    <tr style=\"text-align: right;\">\n",
       "      <th></th>\n",
       "      <th>title</th>\n",
       "      <th>studio</th>\n",
       "      <th>domestic_gross</th>\n",
       "      <th>foreign_gross</th>\n",
       "      <th>year</th>\n",
       "    </tr>\n",
       "  </thead>\n",
       "  <tbody>\n",
       "    <tr>\n",
       "      <th>0</th>\n",
       "      <td>Toy Story 3</td>\n",
       "      <td>BV</td>\n",
       "      <td>415000000.0</td>\n",
       "      <td>652000000</td>\n",
       "      <td>2010</td>\n",
       "    </tr>\n",
       "    <tr>\n",
       "      <th>1</th>\n",
       "      <td>Alice in Wonderland (2010)</td>\n",
       "      <td>BV</td>\n",
       "      <td>334200000.0</td>\n",
       "      <td>691300000</td>\n",
       "      <td>2010</td>\n",
       "    </tr>\n",
       "    <tr>\n",
       "      <th>2</th>\n",
       "      <td>Harry Potter and the Deathly Hallows Part 1</td>\n",
       "      <td>WB</td>\n",
       "      <td>296000000.0</td>\n",
       "      <td>664300000</td>\n",
       "      <td>2010</td>\n",
       "    </tr>\n",
       "    <tr>\n",
       "      <th>3</th>\n",
       "      <td>Inception</td>\n",
       "      <td>WB</td>\n",
       "      <td>292600000.0</td>\n",
       "      <td>535700000</td>\n",
       "      <td>2010</td>\n",
       "    </tr>\n",
       "    <tr>\n",
       "      <th>4</th>\n",
       "      <td>Shrek Forever After</td>\n",
       "      <td>P/DW</td>\n",
       "      <td>238700000.0</td>\n",
       "      <td>513900000</td>\n",
       "      <td>2010</td>\n",
       "    </tr>\n",
       "  </tbody>\n",
       "</table>\n",
       "</div>"
      ],
      "text/plain": [
       "                                         title studio  domestic_gross  \\\n",
       "0                                  Toy Story 3     BV     415000000.0   \n",
       "1                   Alice in Wonderland (2010)     BV     334200000.0   \n",
       "2  Harry Potter and the Deathly Hallows Part 1     WB     296000000.0   \n",
       "3                                    Inception     WB     292600000.0   \n",
       "4                          Shrek Forever After   P/DW     238700000.0   \n",
       "\n",
       "  foreign_gross  year  \n",
       "0     652000000  2010  \n",
       "1     691300000  2010  \n",
       "2     664300000  2010  \n",
       "3     535700000  2010  \n",
       "4     513900000  2010  "
      ]
     },
     "execution_count": 9,
     "metadata": {},
     "output_type": "execute_result"
    }
   ],
   "source": [
    "#Snapshot of df_gross\n",
    "\n",
    "df_gross.head()"
   ]
  },
  {
   "cell_type": "code",
   "execution_count": 10,
   "metadata": {},
   "outputs": [
    {
     "name": "stdout",
     "output_type": "stream",
     "text": [
      "Total amount of NA Values per column:\n",
      " \n",
      "title                0\n",
      "studio               5\n",
      "domestic_gross      28\n",
      "foreign_gross     1350\n",
      "year                 0\n",
      "dtype: int64\n",
      " \n",
      "Duplicated Title, Year & Studio Combinations =  0\n",
      "Original total line items =  3387\n"
     ]
    }
   ],
   "source": [
    "#Checking For NaNs & Duplicates in df_gross\n",
    "\n",
    "print(f'Total amount of NA Values per column:')\n",
    "print(f' ')\n",
    "print(df_gross.isna().sum())\n",
    "print(\" \")\n",
    "\n",
    "df_gross_duplicated = df_gross.duplicated(subset = ['title', 'year', 'studio']) #Consider title year vs. title year studio\n",
    "\n",
    "print(f'Duplicated Title, Year & Studio Combinations = ', df_gross_duplicated.sum())\n",
    "print(f'Original total line items = ', len(df_gross))"
   ]
  },
  {
   "cell_type": "code",
   "execution_count": 11,
   "metadata": {},
   "outputs": [
    {
     "data": {
      "text/plain": [
       "'28,745,845.07'"
      ]
     },
     "execution_count": 11,
     "metadata": {},
     "output_type": "execute_result"
    }
   ],
   "source": [
    "#Since domestic_gross NaN values represent a small percentage of the data, we will drop them\n",
    "\n",
    "df_gross.dropna(subset= ['domestic_gross', ], inplace = True)\n",
    "\n",
    "df_gross.isna().sum()\n",
    "\n",
    "\"{:,}\".format(round(df_gross['domestic_gross'].mean(), 2))"
   ]
  },
  {
   "cell_type": "code",
   "execution_count": 12,
   "metadata": {},
   "outputs": [
    {
     "data": {
      "text/html": [
       "<div>\n",
       "<style scoped>\n",
       "    .dataframe tbody tr th:only-of-type {\n",
       "        vertical-align: middle;\n",
       "    }\n",
       "\n",
       "    .dataframe tbody tr th {\n",
       "        vertical-align: top;\n",
       "    }\n",
       "\n",
       "    .dataframe thead th {\n",
       "        text-align: right;\n",
       "    }\n",
       "</style>\n",
       "<table border=\"1\" class=\"dataframe\">\n",
       "  <thead>\n",
       "    <tr style=\"text-align: right;\">\n",
       "      <th></th>\n",
       "      <th>title</th>\n",
       "      <th>studio</th>\n",
       "      <th>domestic_gross</th>\n",
       "      <th>foreign_gross</th>\n",
       "      <th>year</th>\n",
       "    </tr>\n",
       "  </thead>\n",
       "  <tbody>\n",
       "    <tr>\n",
       "      <th>210</th>\n",
       "      <td>Outside the Law (Hors-la-loi)</td>\n",
       "      <td>NaN</td>\n",
       "      <td>96900.0</td>\n",
       "      <td>3300000</td>\n",
       "      <td>2010</td>\n",
       "    </tr>\n",
       "    <tr>\n",
       "      <th>555</th>\n",
       "      <td>Fireflies in the Garden</td>\n",
       "      <td>NaN</td>\n",
       "      <td>70600.0</td>\n",
       "      <td>3300000</td>\n",
       "      <td>2011</td>\n",
       "    </tr>\n",
       "    <tr>\n",
       "      <th>1862</th>\n",
       "      <td>Plot for Peace</td>\n",
       "      <td>NaN</td>\n",
       "      <td>7100.0</td>\n",
       "      <td>NaN</td>\n",
       "      <td>2014</td>\n",
       "    </tr>\n",
       "  </tbody>\n",
       "</table>\n",
       "</div>"
      ],
      "text/plain": [
       "                              title studio  domestic_gross foreign_gross  year\n",
       "210   Outside the Law (Hors-la-loi)    NaN         96900.0       3300000  2010\n",
       "555         Fireflies in the Garden    NaN         70600.0       3300000  2011\n",
       "1862                 Plot for Peace    NaN          7100.0           NaN  2014"
      ]
     },
     "execution_count": 12,
     "metadata": {},
     "output_type": "execute_result"
    }
   ],
   "source": [
    "df_gross[df_gross['studio'].isna()]"
   ]
  },
  {
   "cell_type": "markdown",
   "metadata": {},
   "source": [
    "## Data Preparation: Joining df_basics and df_ratings  (df_titles_and_ratings)\n",
    "\n",
    "**Variables Dropped / Created**:\n",
    "   \n",
    "   Genre Columns: Genre categories were isolated into seperate columns to determine their isolated revenue, engagement and ratings metrics.\n",
    "   \n",
    "   Weighted Score: Created to determine the weighted rating of each genre, basing the statistical weight of each movie by the votes garnered.\n",
    "    \n",
    "**Missing/NaN Values Solutions**:\n",
    "        \n",
    "   All relevant missing data/NaN line items solved for before merge"
   ]
  },
  {
   "cell_type": "code",
   "execution_count": 13,
   "metadata": {},
   "outputs": [
    {
     "name": "stdout",
     "output_type": "stream",
     "text": [
      "<class 'pandas.core.frame.DataFrame'>\n",
      "Int64Index: 72557 entries, 0 to 72556\n",
      "Data columns (total 9 columns):\n",
      " #   Column                 Non-Null Count  Dtype  \n",
      "---  ------                 --------------  -----  \n",
      " 0   tconst                 72557 non-null  object \n",
      " 1   averagerating          72557 non-null  float64\n",
      " 2   numvotes               72557 non-null  int64  \n",
      " 3   primary_title          72557 non-null  object \n",
      " 4   original_title         72557 non-null  object \n",
      " 5   start_year             72557 non-null  int64  \n",
      " 6   runtime_minutes        65057 non-null  float64\n",
      " 7   genres                 72557 non-null  object \n",
      " 8   updated_orginal_title  72557 non-null  object \n",
      "dtypes: float64(2), int64(2), object(5)\n",
      "memory usage: 5.5+ MB\n"
     ]
    }
   ],
   "source": [
    "# Joining df_ratings and df_basiscs --> when I joined the dfs, I lost a few line items, why?\n",
    "\n",
    "df_titles_and_ratings = pd.merge(df_ratings, df_basics, how = 'inner', on = 'tconst')\n",
    "\n",
    "df_titles_and_ratings.info()"
   ]
  },
  {
   "cell_type": "code",
   "execution_count": 14,
   "metadata": {},
   "outputs": [
    {
     "data": {
      "text/plain": [
       "0"
      ]
     },
     "execution_count": 14,
     "metadata": {},
     "output_type": "execute_result"
    }
   ],
   "source": [
    "#Checking for duplicates in merged data frame\n",
    "\n",
    "df_titles_and_ratings.duplicated(subset=['primary_title', 'start_year']).sum()"
   ]
  },
  {
   "cell_type": "code",
   "execution_count": 15,
   "metadata": {},
   "outputs": [
    {
     "data": {
      "text/plain": [
       "{'Action',\n",
       " 'Adult',\n",
       " 'Adventure',\n",
       " 'Animation',\n",
       " 'Biography',\n",
       " 'Comedy',\n",
       " 'Crime',\n",
       " 'Documentary',\n",
       " 'Drama',\n",
       " 'Family',\n",
       " 'Fantasy',\n",
       " 'Game-Show',\n",
       " 'History',\n",
       " 'Horror',\n",
       " 'Music',\n",
       " 'Musical',\n",
       " 'Mystery',\n",
       " 'News',\n",
       " 'No Genre',\n",
       " 'Reality-TV',\n",
       " 'Romance',\n",
       " 'Sci-Fi',\n",
       " 'Short',\n",
       " 'Sport',\n",
       " 'Thriller',\n",
       " 'War',\n",
       " 'Western'}"
      ]
     },
     "execution_count": 15,
     "metadata": {},
     "output_type": "execute_result"
    }
   ],
   "source": [
    "#Identifying all the unique Genres\n",
    "\n",
    "unique_genres = []\n",
    "for genres in df_titles_and_ratings['genres']:\n",
    "    genre_list = genres.split(',')\n",
    "    for genre in genre_list:\n",
    "        unique_genres.append(genre)\n",
    "    \n",
    "unique_genres_list = set(unique_genres)\n",
    "\n",
    "unique_genres_list"
   ]
  },
  {
   "cell_type": "code",
   "execution_count": 16,
   "metadata": {},
   "outputs": [],
   "source": [
    "#Adding genres as columns\n",
    "\n",
    "for genre in unique_genres_list:\n",
    "    df_titles_and_ratings[genre] = np.where(df_titles_and_ratings.genres.str.contains(genre), 1, 0)\n"
   ]
  },
  {
   "cell_type": "code",
   "execution_count": 17,
   "metadata": {},
   "outputs": [
    {
     "data": {
      "text/html": [
       "<div>\n",
       "<style scoped>\n",
       "    .dataframe tbody tr th:only-of-type {\n",
       "        vertical-align: middle;\n",
       "    }\n",
       "\n",
       "    .dataframe tbody tr th {\n",
       "        vertical-align: top;\n",
       "    }\n",
       "\n",
       "    .dataframe thead th {\n",
       "        text-align: right;\n",
       "    }\n",
       "</style>\n",
       "<table border=\"1\" class=\"dataframe\">\n",
       "  <thead>\n",
       "    <tr style=\"text-align: right;\">\n",
       "      <th></th>\n",
       "      <th>tconst</th>\n",
       "      <th>averagerating</th>\n",
       "      <th>numvotes</th>\n",
       "      <th>primary_title</th>\n",
       "      <th>original_title</th>\n",
       "      <th>start_year</th>\n",
       "      <th>runtime_minutes</th>\n",
       "      <th>genres</th>\n",
       "      <th>updated_orginal_title</th>\n",
       "      <th>Family</th>\n",
       "      <th>Crime</th>\n",
       "      <th>Drama</th>\n",
       "      <th>Comedy</th>\n",
       "      <th>Horror</th>\n",
       "      <th>Sci-Fi</th>\n",
       "      <th>Documentary</th>\n",
       "      <th>Thriller</th>\n",
       "      <th>Musical</th>\n",
       "      <th>Adventure</th>\n",
       "      <th>History</th>\n",
       "      <th>Biography</th>\n",
       "      <th>Fantasy</th>\n",
       "      <th>Mystery</th>\n",
       "      <th>Short</th>\n",
       "      <th>Game-Show</th>\n",
       "      <th>Adult</th>\n",
       "      <th>Music</th>\n",
       "      <th>No Genre</th>\n",
       "      <th>Western</th>\n",
       "      <th>Romance</th>\n",
       "      <th>News</th>\n",
       "      <th>Sport</th>\n",
       "      <th>Animation</th>\n",
       "      <th>Reality-TV</th>\n",
       "      <th>Action</th>\n",
       "      <th>War</th>\n",
       "    </tr>\n",
       "  </thead>\n",
       "  <tbody>\n",
       "    <tr>\n",
       "      <th>3</th>\n",
       "      <td>tt1043726</td>\n",
       "      <td>4.2</td>\n",
       "      <td>50352</td>\n",
       "      <td>The Legend of Hercules</td>\n",
       "      <td>The Legend of Hercules</td>\n",
       "      <td>2014</td>\n",
       "      <td>99.0</td>\n",
       "      <td>Action,Adventure,Fantasy</td>\n",
       "      <td>The Legend of Hercules</td>\n",
       "      <td>0</td>\n",
       "      <td>0</td>\n",
       "      <td>0</td>\n",
       "      <td>0</td>\n",
       "      <td>0</td>\n",
       "      <td>0</td>\n",
       "      <td>0</td>\n",
       "      <td>0</td>\n",
       "      <td>0</td>\n",
       "      <td>1</td>\n",
       "      <td>0</td>\n",
       "      <td>0</td>\n",
       "      <td>1</td>\n",
       "      <td>0</td>\n",
       "      <td>0</td>\n",
       "      <td>0</td>\n",
       "      <td>0</td>\n",
       "      <td>0</td>\n",
       "      <td>0</td>\n",
       "      <td>0</td>\n",
       "      <td>0</td>\n",
       "      <td>0</td>\n",
       "      <td>0</td>\n",
       "      <td>0</td>\n",
       "      <td>0</td>\n",
       "      <td>1</td>\n",
       "      <td>0</td>\n",
       "    </tr>\n",
       "    <tr>\n",
       "      <th>9</th>\n",
       "      <td>tt1161457</td>\n",
       "      <td>4.2</td>\n",
       "      <td>148</td>\n",
       "      <td>Vanquisher</td>\n",
       "      <td>The Vanquisher</td>\n",
       "      <td>2016</td>\n",
       "      <td>90.0</td>\n",
       "      <td>Action,Adventure,Sci-Fi</td>\n",
       "      <td>The Vanquisher</td>\n",
       "      <td>0</td>\n",
       "      <td>0</td>\n",
       "      <td>0</td>\n",
       "      <td>0</td>\n",
       "      <td>0</td>\n",
       "      <td>1</td>\n",
       "      <td>0</td>\n",
       "      <td>0</td>\n",
       "      <td>0</td>\n",
       "      <td>1</td>\n",
       "      <td>0</td>\n",
       "      <td>0</td>\n",
       "      <td>0</td>\n",
       "      <td>0</td>\n",
       "      <td>0</td>\n",
       "      <td>0</td>\n",
       "      <td>0</td>\n",
       "      <td>0</td>\n",
       "      <td>0</td>\n",
       "      <td>0</td>\n",
       "      <td>0</td>\n",
       "      <td>0</td>\n",
       "      <td>0</td>\n",
       "      <td>0</td>\n",
       "      <td>0</td>\n",
       "      <td>1</td>\n",
       "      <td>0</td>\n",
       "    </tr>\n",
       "    <tr>\n",
       "      <th>19</th>\n",
       "      <td>tt1229238</td>\n",
       "      <td>7.4</td>\n",
       "      <td>428142</td>\n",
       "      <td>Mission: Impossible - Ghost Protocol</td>\n",
       "      <td>Mission: Impossible - Ghost Protocol</td>\n",
       "      <td>2011</td>\n",
       "      <td>132.0</td>\n",
       "      <td>Action,Adventure,Thriller</td>\n",
       "      <td>Mission: Impossible - Ghost Protocol</td>\n",
       "      <td>0</td>\n",
       "      <td>0</td>\n",
       "      <td>0</td>\n",
       "      <td>0</td>\n",
       "      <td>0</td>\n",
       "      <td>0</td>\n",
       "      <td>0</td>\n",
       "      <td>1</td>\n",
       "      <td>0</td>\n",
       "      <td>1</td>\n",
       "      <td>0</td>\n",
       "      <td>0</td>\n",
       "      <td>0</td>\n",
       "      <td>0</td>\n",
       "      <td>0</td>\n",
       "      <td>0</td>\n",
       "      <td>0</td>\n",
       "      <td>0</td>\n",
       "      <td>0</td>\n",
       "      <td>0</td>\n",
       "      <td>0</td>\n",
       "      <td>0</td>\n",
       "      <td>0</td>\n",
       "      <td>0</td>\n",
       "      <td>0</td>\n",
       "      <td>1</td>\n",
       "      <td>0</td>\n",
       "    </tr>\n",
       "    <tr>\n",
       "      <th>20</th>\n",
       "      <td>tt1232829</td>\n",
       "      <td>7.2</td>\n",
       "      <td>477771</td>\n",
       "      <td>21 Jump Street</td>\n",
       "      <td>21 Jump Street</td>\n",
       "      <td>2012</td>\n",
       "      <td>109.0</td>\n",
       "      <td>Action,Comedy,Crime</td>\n",
       "      <td>21 Jump Street</td>\n",
       "      <td>0</td>\n",
       "      <td>1</td>\n",
       "      <td>0</td>\n",
       "      <td>1</td>\n",
       "      <td>0</td>\n",
       "      <td>0</td>\n",
       "      <td>0</td>\n",
       "      <td>0</td>\n",
       "      <td>0</td>\n",
       "      <td>0</td>\n",
       "      <td>0</td>\n",
       "      <td>0</td>\n",
       "      <td>0</td>\n",
       "      <td>0</td>\n",
       "      <td>0</td>\n",
       "      <td>0</td>\n",
       "      <td>0</td>\n",
       "      <td>0</td>\n",
       "      <td>0</td>\n",
       "      <td>0</td>\n",
       "      <td>0</td>\n",
       "      <td>0</td>\n",
       "      <td>0</td>\n",
       "      <td>0</td>\n",
       "      <td>0</td>\n",
       "      <td>1</td>\n",
       "      <td>0</td>\n",
       "    </tr>\n",
       "    <tr>\n",
       "      <th>35</th>\n",
       "      <td>tt1294141</td>\n",
       "      <td>4.5</td>\n",
       "      <td>113</td>\n",
       "      <td>Dancing Ninja</td>\n",
       "      <td>Dancing Ninja</td>\n",
       "      <td>2010</td>\n",
       "      <td>98.0</td>\n",
       "      <td>Action,Comedy,Crime</td>\n",
       "      <td>Dancing Ninja</td>\n",
       "      <td>0</td>\n",
       "      <td>1</td>\n",
       "      <td>0</td>\n",
       "      <td>1</td>\n",
       "      <td>0</td>\n",
       "      <td>0</td>\n",
       "      <td>0</td>\n",
       "      <td>0</td>\n",
       "      <td>0</td>\n",
       "      <td>0</td>\n",
       "      <td>0</td>\n",
       "      <td>0</td>\n",
       "      <td>0</td>\n",
       "      <td>0</td>\n",
       "      <td>0</td>\n",
       "      <td>0</td>\n",
       "      <td>0</td>\n",
       "      <td>0</td>\n",
       "      <td>0</td>\n",
       "      <td>0</td>\n",
       "      <td>0</td>\n",
       "      <td>0</td>\n",
       "      <td>0</td>\n",
       "      <td>0</td>\n",
       "      <td>0</td>\n",
       "      <td>1</td>\n",
       "      <td>0</td>\n",
       "    </tr>\n",
       "    <tr>\n",
       "      <th>...</th>\n",
       "      <td>...</td>\n",
       "      <td>...</td>\n",
       "      <td>...</td>\n",
       "      <td>...</td>\n",
       "      <td>...</td>\n",
       "      <td>...</td>\n",
       "      <td>...</td>\n",
       "      <td>...</td>\n",
       "      <td>...</td>\n",
       "      <td>...</td>\n",
       "      <td>...</td>\n",
       "      <td>...</td>\n",
       "      <td>...</td>\n",
       "      <td>...</td>\n",
       "      <td>...</td>\n",
       "      <td>...</td>\n",
       "      <td>...</td>\n",
       "      <td>...</td>\n",
       "      <td>...</td>\n",
       "      <td>...</td>\n",
       "      <td>...</td>\n",
       "      <td>...</td>\n",
       "      <td>...</td>\n",
       "      <td>...</td>\n",
       "      <td>...</td>\n",
       "      <td>...</td>\n",
       "      <td>...</td>\n",
       "      <td>...</td>\n",
       "      <td>...</td>\n",
       "      <td>...</td>\n",
       "      <td>...</td>\n",
       "      <td>...</td>\n",
       "      <td>...</td>\n",
       "      <td>...</td>\n",
       "      <td>...</td>\n",
       "      <td>...</td>\n",
       "    </tr>\n",
       "    <tr>\n",
       "      <th>72524</th>\n",
       "      <td>tt9378850</td>\n",
       "      <td>3.8</td>\n",
       "      <td>114</td>\n",
       "      <td>Kung Fu Monster</td>\n",
       "      <td>Wu lin guai shou</td>\n",
       "      <td>2018</td>\n",
       "      <td>104.0</td>\n",
       "      <td>Action,Fantasy</td>\n",
       "      <td>Wu lin guai shou</td>\n",
       "      <td>0</td>\n",
       "      <td>0</td>\n",
       "      <td>0</td>\n",
       "      <td>0</td>\n",
       "      <td>0</td>\n",
       "      <td>0</td>\n",
       "      <td>0</td>\n",
       "      <td>0</td>\n",
       "      <td>0</td>\n",
       "      <td>0</td>\n",
       "      <td>0</td>\n",
       "      <td>0</td>\n",
       "      <td>1</td>\n",
       "      <td>0</td>\n",
       "      <td>0</td>\n",
       "      <td>0</td>\n",
       "      <td>0</td>\n",
       "      <td>0</td>\n",
       "      <td>0</td>\n",
       "      <td>0</td>\n",
       "      <td>0</td>\n",
       "      <td>0</td>\n",
       "      <td>0</td>\n",
       "      <td>0</td>\n",
       "      <td>0</td>\n",
       "      <td>1</td>\n",
       "      <td>0</td>\n",
       "    </tr>\n",
       "    <tr>\n",
       "      <th>72525</th>\n",
       "      <td>tt9382596</td>\n",
       "      <td>4.1</td>\n",
       "      <td>293</td>\n",
       "      <td>The Car: Road to Revenge</td>\n",
       "      <td>The Car: Road to Revenge</td>\n",
       "      <td>2019</td>\n",
       "      <td>89.0</td>\n",
       "      <td>Action,Horror,Thriller</td>\n",
       "      <td>The Car: Road to Revenge</td>\n",
       "      <td>0</td>\n",
       "      <td>0</td>\n",
       "      <td>0</td>\n",
       "      <td>0</td>\n",
       "      <td>1</td>\n",
       "      <td>0</td>\n",
       "      <td>0</td>\n",
       "      <td>1</td>\n",
       "      <td>0</td>\n",
       "      <td>0</td>\n",
       "      <td>0</td>\n",
       "      <td>0</td>\n",
       "      <td>0</td>\n",
       "      <td>0</td>\n",
       "      <td>0</td>\n",
       "      <td>0</td>\n",
       "      <td>0</td>\n",
       "      <td>0</td>\n",
       "      <td>0</td>\n",
       "      <td>0</td>\n",
       "      <td>0</td>\n",
       "      <td>0</td>\n",
       "      <td>0</td>\n",
       "      <td>0</td>\n",
       "      <td>0</td>\n",
       "      <td>1</td>\n",
       "      <td>0</td>\n",
       "    </tr>\n",
       "    <tr>\n",
       "      <th>72530</th>\n",
       "      <td>tt9526152</td>\n",
       "      <td>7.6</td>\n",
       "      <td>29</td>\n",
       "      <td>DanMachi: Is It Wrong to Try to Pick Up Girls ...</td>\n",
       "      <td>Gekijouban danjon ni deai o motomeru no wa mac...</td>\n",
       "      <td>2019</td>\n",
       "      <td>82.0</td>\n",
       "      <td>Action,Adventure,Animation</td>\n",
       "      <td>Gekijouban danjon ni deai o motomeru no wa mac...</td>\n",
       "      <td>0</td>\n",
       "      <td>0</td>\n",
       "      <td>0</td>\n",
       "      <td>0</td>\n",
       "      <td>0</td>\n",
       "      <td>0</td>\n",
       "      <td>0</td>\n",
       "      <td>0</td>\n",
       "      <td>0</td>\n",
       "      <td>1</td>\n",
       "      <td>0</td>\n",
       "      <td>0</td>\n",
       "      <td>0</td>\n",
       "      <td>0</td>\n",
       "      <td>0</td>\n",
       "      <td>0</td>\n",
       "      <td>0</td>\n",
       "      <td>0</td>\n",
       "      <td>0</td>\n",
       "      <td>0</td>\n",
       "      <td>0</td>\n",
       "      <td>0</td>\n",
       "      <td>0</td>\n",
       "      <td>1</td>\n",
       "      <td>0</td>\n",
       "      <td>1</td>\n",
       "      <td>0</td>\n",
       "    </tr>\n",
       "    <tr>\n",
       "      <th>72553</th>\n",
       "      <td>tt9844256</td>\n",
       "      <td>7.5</td>\n",
       "      <td>24</td>\n",
       "      <td>Code Geass: Lelouch of the Rebellion - Glorifi...</td>\n",
       "      <td>Code Geass: Lelouch of the Rebellion Episode III</td>\n",
       "      <td>2018</td>\n",
       "      <td>120.0</td>\n",
       "      <td>Action,Animation,Sci-Fi</td>\n",
       "      <td>Code Geass: Lelouch of the Rebellion Episode III</td>\n",
       "      <td>0</td>\n",
       "      <td>0</td>\n",
       "      <td>0</td>\n",
       "      <td>0</td>\n",
       "      <td>0</td>\n",
       "      <td>1</td>\n",
       "      <td>0</td>\n",
       "      <td>0</td>\n",
       "      <td>0</td>\n",
       "      <td>0</td>\n",
       "      <td>0</td>\n",
       "      <td>0</td>\n",
       "      <td>0</td>\n",
       "      <td>0</td>\n",
       "      <td>0</td>\n",
       "      <td>0</td>\n",
       "      <td>0</td>\n",
       "      <td>0</td>\n",
       "      <td>0</td>\n",
       "      <td>0</td>\n",
       "      <td>0</td>\n",
       "      <td>0</td>\n",
       "      <td>0</td>\n",
       "      <td>1</td>\n",
       "      <td>0</td>\n",
       "      <td>1</td>\n",
       "      <td>0</td>\n",
       "    </tr>\n",
       "    <tr>\n",
       "      <th>72554</th>\n",
       "      <td>tt9851050</td>\n",
       "      <td>4.7</td>\n",
       "      <td>14</td>\n",
       "      <td>Sisters</td>\n",
       "      <td>Sisters</td>\n",
       "      <td>2019</td>\n",
       "      <td>NaN</td>\n",
       "      <td>Action,Drama</td>\n",
       "      <td>Sisters</td>\n",
       "      <td>0</td>\n",
       "      <td>0</td>\n",
       "      <td>1</td>\n",
       "      <td>0</td>\n",
       "      <td>0</td>\n",
       "      <td>0</td>\n",
       "      <td>0</td>\n",
       "      <td>0</td>\n",
       "      <td>0</td>\n",
       "      <td>0</td>\n",
       "      <td>0</td>\n",
       "      <td>0</td>\n",
       "      <td>0</td>\n",
       "      <td>0</td>\n",
       "      <td>0</td>\n",
       "      <td>0</td>\n",
       "      <td>0</td>\n",
       "      <td>0</td>\n",
       "      <td>0</td>\n",
       "      <td>0</td>\n",
       "      <td>0</td>\n",
       "      <td>0</td>\n",
       "      <td>0</td>\n",
       "      <td>0</td>\n",
       "      <td>0</td>\n",
       "      <td>1</td>\n",
       "      <td>0</td>\n",
       "    </tr>\n",
       "  </tbody>\n",
       "</table>\n",
       "<p>6836 rows × 36 columns</p>\n",
       "</div>"
      ],
      "text/plain": [
       "          tconst  averagerating  numvotes  \\\n",
       "3      tt1043726            4.2     50352   \n",
       "9      tt1161457            4.2       148   \n",
       "19     tt1229238            7.4    428142   \n",
       "20     tt1232829            7.2    477771   \n",
       "35     tt1294141            4.5       113   \n",
       "...          ...            ...       ...   \n",
       "72524  tt9378850            3.8       114   \n",
       "72525  tt9382596            4.1       293   \n",
       "72530  tt9526152            7.6        29   \n",
       "72553  tt9844256            7.5        24   \n",
       "72554  tt9851050            4.7        14   \n",
       "\n",
       "                                           primary_title  \\\n",
       "3                                 The Legend of Hercules   \n",
       "9                                             Vanquisher   \n",
       "19                  Mission: Impossible - Ghost Protocol   \n",
       "20                                        21 Jump Street   \n",
       "35                                         Dancing Ninja   \n",
       "...                                                  ...   \n",
       "72524                                    Kung Fu Monster   \n",
       "72525                           The Car: Road to Revenge   \n",
       "72530  DanMachi: Is It Wrong to Try to Pick Up Girls ...   \n",
       "72553  Code Geass: Lelouch of the Rebellion - Glorifi...   \n",
       "72554                                            Sisters   \n",
       "\n",
       "                                          original_title  start_year  \\\n",
       "3                                 The Legend of Hercules        2014   \n",
       "9                                         The Vanquisher        2016   \n",
       "19                  Mission: Impossible - Ghost Protocol        2011   \n",
       "20                                        21 Jump Street        2012   \n",
       "35                                         Dancing Ninja        2010   \n",
       "...                                                  ...         ...   \n",
       "72524                                   Wu lin guai shou        2018   \n",
       "72525                           The Car: Road to Revenge        2019   \n",
       "72530  Gekijouban danjon ni deai o motomeru no wa mac...        2019   \n",
       "72553   Code Geass: Lelouch of the Rebellion Episode III        2018   \n",
       "72554                                            Sisters        2019   \n",
       "\n",
       "       runtime_minutes                      genres  \\\n",
       "3                 99.0    Action,Adventure,Fantasy   \n",
       "9                 90.0     Action,Adventure,Sci-Fi   \n",
       "19               132.0   Action,Adventure,Thriller   \n",
       "20               109.0         Action,Comedy,Crime   \n",
       "35                98.0         Action,Comedy,Crime   \n",
       "...                ...                         ...   \n",
       "72524            104.0              Action,Fantasy   \n",
       "72525             89.0      Action,Horror,Thriller   \n",
       "72530             82.0  Action,Adventure,Animation   \n",
       "72553            120.0     Action,Animation,Sci-Fi   \n",
       "72554              NaN                Action,Drama   \n",
       "\n",
       "                                   updated_orginal_title  Family  Crime  \\\n",
       "3                                 The Legend of Hercules       0      0   \n",
       "9                                         The Vanquisher       0      0   \n",
       "19                  Mission: Impossible - Ghost Protocol       0      0   \n",
       "20                                        21 Jump Street       0      1   \n",
       "35                                         Dancing Ninja       0      1   \n",
       "...                                                  ...     ...    ...   \n",
       "72524                                   Wu lin guai shou       0      0   \n",
       "72525                           The Car: Road to Revenge       0      0   \n",
       "72530  Gekijouban danjon ni deai o motomeru no wa mac...       0      0   \n",
       "72553   Code Geass: Lelouch of the Rebellion Episode III       0      0   \n",
       "72554                                            Sisters       0      0   \n",
       "\n",
       "       Drama  Comedy  Horror  Sci-Fi  Documentary  Thriller  Musical  \\\n",
       "3          0       0       0       0            0         0        0   \n",
       "9          0       0       0       1            0         0        0   \n",
       "19         0       0       0       0            0         1        0   \n",
       "20         0       1       0       0            0         0        0   \n",
       "35         0       1       0       0            0         0        0   \n",
       "...      ...     ...     ...     ...          ...       ...      ...   \n",
       "72524      0       0       0       0            0         0        0   \n",
       "72525      0       0       1       0            0         1        0   \n",
       "72530      0       0       0       0            0         0        0   \n",
       "72553      0       0       0       1            0         0        0   \n",
       "72554      1       0       0       0            0         0        0   \n",
       "\n",
       "       Adventure  History  Biography  Fantasy  Mystery  Short  Game-Show  \\\n",
       "3              1        0          0        1        0      0          0   \n",
       "9              1        0          0        0        0      0          0   \n",
       "19             1        0          0        0        0      0          0   \n",
       "20             0        0          0        0        0      0          0   \n",
       "35             0        0          0        0        0      0          0   \n",
       "...          ...      ...        ...      ...      ...    ...        ...   \n",
       "72524          0        0          0        1        0      0          0   \n",
       "72525          0        0          0        0        0      0          0   \n",
       "72530          1        0          0        0        0      0          0   \n",
       "72553          0        0          0        0        0      0          0   \n",
       "72554          0        0          0        0        0      0          0   \n",
       "\n",
       "       Adult  Music  No Genre  Western  Romance  News  Sport  Animation  \\\n",
       "3          0      0         0        0        0     0      0          0   \n",
       "9          0      0         0        0        0     0      0          0   \n",
       "19         0      0         0        0        0     0      0          0   \n",
       "20         0      0         0        0        0     0      0          0   \n",
       "35         0      0         0        0        0     0      0          0   \n",
       "...      ...    ...       ...      ...      ...   ...    ...        ...   \n",
       "72524      0      0         0        0        0     0      0          0   \n",
       "72525      0      0         0        0        0     0      0          0   \n",
       "72530      0      0         0        0        0     0      0          1   \n",
       "72553      0      0         0        0        0     0      0          1   \n",
       "72554      0      0         0        0        0     0      0          0   \n",
       "\n",
       "       Reality-TV  Action  War  \n",
       "3               0       1    0  \n",
       "9               0       1    0  \n",
       "19              0       1    0  \n",
       "20              0       1    0  \n",
       "35              0       1    0  \n",
       "...           ...     ...  ...  \n",
       "72524           0       1    0  \n",
       "72525           0       1    0  \n",
       "72530           0       1    0  \n",
       "72553           0       1    0  \n",
       "72554           0       1    0  \n",
       "\n",
       "[6836 rows x 36 columns]"
      ]
     },
     "execution_count": 17,
     "metadata": {},
     "output_type": "execute_result"
    }
   ],
   "source": [
    "#Sense checking new genre columns\n",
    "\n",
    "df_titles_and_ratings[df_titles_and_ratings['Action'] == 1]"
   ]
  },
  {
   "cell_type": "code",
   "execution_count": 18,
   "metadata": {},
   "outputs": [],
   "source": [
    "#Create an Average Weighted Score\n",
    "\n",
    "# df_titles_and_ratings['Average_Genre_Weighted_Score'] = df_titles_and_ratings['numvotes'] // df_titles_and_ratings[df_titles_and_ratings['Action']== 1].sum()['numvotes']\n",
    "\n",
    "for genre in unique_genres_list:\n",
    "    df_titles_and_ratings[genre + ' WS'] = np.where(df_titles_and_ratings[genre] == 1,\n",
    "                                        df_titles_and_ratings['numvotes'] / \n",
    "                                        df_titles_and_ratings[df_titles_and_ratings[genre] == 1].sum()['numvotes'], 0) * df_titles_and_ratings['averagerating']\n"
   ]
  },
  {
   "cell_type": "code",
   "execution_count": 19,
   "metadata": {},
   "outputs": [
    {
     "data": {
      "text/plain": [
       "6.66377620330602"
      ]
     },
     "execution_count": 19,
     "metadata": {},
     "output_type": "execute_result"
    }
   ],
   "source": [
    "#WS Sense Check\n",
    "\n",
    "df_titles_and_ratings[df_titles_and_ratings['Romance'] == 1].sum()['Romance WS']"
   ]
  },
  {
   "cell_type": "markdown",
   "metadata": {},
   "source": [
    "## Data Preparation: Creating df_rev_and_ratings  (df_titles_and_ratings + df_gross)\n",
    "\n",
    "**Variables Dropped / Created**:\n",
    "   \n",
    "   \n",
    "   'unique id': A unique identifier created out of the 'primary_title' and the 'year for df_gross and made out of the 'title' and 'year' for df_titles_and_ratings. This identifier will be used to merge both dataframes. \n",
    "   \n",
    "**Missing/NaN Values Solutions**:\n",
    "        \n",
    "   All relevant missing data/NaN line items solved for before merge"
   ]
  },
  {
   "cell_type": "code",
   "execution_count": 20,
   "metadata": {},
   "outputs": [],
   "source": [
    "#Remove punctuation from df_titles_and_ratings and df_gross\n",
    "\n",
    "import string\n",
    "\n",
    "punc = string.punctuation\n",
    "\n",
    "for i in punc:\n",
    "    df_titles_and_ratings['primary_title'] = df_titles_and_ratings['primary_title'].apply(lambda x: x.replace(i, \"\"))\n",
    "\n",
    "for i in punc:\n",
    "    df_gross['title'] = df_gross['title'].apply(lambda x: x.replace(i, \"\"))\n"
   ]
  },
  {
   "cell_type": "code",
   "execution_count": 21,
   "metadata": {},
   "outputs": [
    {
     "data": {
      "text/html": [
       "<div>\n",
       "<style scoped>\n",
       "    .dataframe tbody tr th:only-of-type {\n",
       "        vertical-align: middle;\n",
       "    }\n",
       "\n",
       "    .dataframe tbody tr th {\n",
       "        vertical-align: top;\n",
       "    }\n",
       "\n",
       "    .dataframe thead th {\n",
       "        text-align: right;\n",
       "    }\n",
       "</style>\n",
       "<table border=\"1\" class=\"dataframe\">\n",
       "  <thead>\n",
       "    <tr style=\"text-align: right;\">\n",
       "      <th></th>\n",
       "      <th>title</th>\n",
       "      <th>studio</th>\n",
       "      <th>domestic_gross</th>\n",
       "      <th>foreign_gross</th>\n",
       "      <th>year</th>\n",
       "      <th>unique id</th>\n",
       "      <th>tconst</th>\n",
       "      <th>averagerating</th>\n",
       "      <th>numvotes</th>\n",
       "      <th>primary_title</th>\n",
       "      <th>original_title</th>\n",
       "      <th>start_year</th>\n",
       "      <th>runtime_minutes</th>\n",
       "      <th>genres</th>\n",
       "      <th>updated_orginal_title</th>\n",
       "      <th>Family</th>\n",
       "      <th>Crime</th>\n",
       "      <th>Drama</th>\n",
       "      <th>Comedy</th>\n",
       "      <th>Horror</th>\n",
       "      <th>Sci-Fi</th>\n",
       "      <th>Documentary</th>\n",
       "      <th>Thriller</th>\n",
       "      <th>Musical</th>\n",
       "      <th>Adventure</th>\n",
       "      <th>History</th>\n",
       "      <th>Biography</th>\n",
       "      <th>Fantasy</th>\n",
       "      <th>Mystery</th>\n",
       "      <th>Short</th>\n",
       "      <th>Game-Show</th>\n",
       "      <th>Adult</th>\n",
       "      <th>Music</th>\n",
       "      <th>No Genre</th>\n",
       "      <th>Western</th>\n",
       "      <th>Romance</th>\n",
       "      <th>News</th>\n",
       "      <th>Sport</th>\n",
       "      <th>Animation</th>\n",
       "      <th>Reality-TV</th>\n",
       "      <th>Action</th>\n",
       "      <th>War</th>\n",
       "      <th>Family WS</th>\n",
       "      <th>Crime WS</th>\n",
       "      <th>Drama WS</th>\n",
       "      <th>Comedy WS</th>\n",
       "      <th>Horror WS</th>\n",
       "      <th>Sci-Fi WS</th>\n",
       "      <th>Documentary WS</th>\n",
       "      <th>Thriller WS</th>\n",
       "      <th>Musical WS</th>\n",
       "      <th>Adventure WS</th>\n",
       "      <th>History WS</th>\n",
       "      <th>Biography WS</th>\n",
       "      <th>Fantasy WS</th>\n",
       "      <th>Mystery WS</th>\n",
       "      <th>Short WS</th>\n",
       "      <th>Game-Show WS</th>\n",
       "      <th>Adult WS</th>\n",
       "      <th>Music WS</th>\n",
       "      <th>No Genre WS</th>\n",
       "      <th>Western WS</th>\n",
       "      <th>Romance WS</th>\n",
       "      <th>News WS</th>\n",
       "      <th>Sport WS</th>\n",
       "      <th>Animation WS</th>\n",
       "      <th>Reality-TV WS</th>\n",
       "      <th>Action WS</th>\n",
       "      <th>War WS</th>\n",
       "    </tr>\n",
       "  </thead>\n",
       "  <tbody>\n",
       "    <tr>\n",
       "      <th>0</th>\n",
       "      <td>Toy Story 3</td>\n",
       "      <td>BV</td>\n",
       "      <td>415000000.0</td>\n",
       "      <td>652000000</td>\n",
       "      <td>2010</td>\n",
       "      <td>Toy Story 32010</td>\n",
       "      <td>tt0435761</td>\n",
       "      <td>8.3</td>\n",
       "      <td>682218</td>\n",
       "      <td>Toy Story 3</td>\n",
       "      <td>Toy Story 3</td>\n",
       "      <td>2010</td>\n",
       "      <td>103.0</td>\n",
       "      <td>Adventure,Animation,Comedy</td>\n",
       "      <td>Toy Story 3</td>\n",
       "      <td>0</td>\n",
       "      <td>0</td>\n",
       "      <td>0</td>\n",
       "      <td>1</td>\n",
       "      <td>0</td>\n",
       "      <td>0</td>\n",
       "      <td>0</td>\n",
       "      <td>0</td>\n",
       "      <td>0</td>\n",
       "      <td>1</td>\n",
       "      <td>0</td>\n",
       "      <td>0</td>\n",
       "      <td>0</td>\n",
       "      <td>0</td>\n",
       "      <td>0</td>\n",
       "      <td>0</td>\n",
       "      <td>0</td>\n",
       "      <td>0</td>\n",
       "      <td>0</td>\n",
       "      <td>0</td>\n",
       "      <td>0</td>\n",
       "      <td>0</td>\n",
       "      <td>0</td>\n",
       "      <td>1</td>\n",
       "      <td>0</td>\n",
       "      <td>0</td>\n",
       "      <td>0</td>\n",
       "      <td>0.0</td>\n",
       "      <td>0.0</td>\n",
       "      <td>0.000000</td>\n",
       "      <td>0.077839</td>\n",
       "      <td>0.0</td>\n",
       "      <td>0.000000</td>\n",
       "      <td>0.0</td>\n",
       "      <td>0.0000</td>\n",
       "      <td>0.0</td>\n",
       "      <td>0.068224</td>\n",
       "      <td>0.0</td>\n",
       "      <td>0.0</td>\n",
       "      <td>0.000000</td>\n",
       "      <td>0.000000</td>\n",
       "      <td>0.0</td>\n",
       "      <td>0.0</td>\n",
       "      <td>0.0</td>\n",
       "      <td>0.0</td>\n",
       "      <td>0.0</td>\n",
       "      <td>0.0</td>\n",
       "      <td>0.0</td>\n",
       "      <td>0.0</td>\n",
       "      <td>0.0</td>\n",
       "      <td>0.379288</td>\n",
       "      <td>0.0</td>\n",
       "      <td>0.000000</td>\n",
       "      <td>0.0</td>\n",
       "    </tr>\n",
       "    <tr>\n",
       "      <th>1</th>\n",
       "      <td>Harry Potter and the Deathly Hallows Part 1</td>\n",
       "      <td>WB</td>\n",
       "      <td>296000000.0</td>\n",
       "      <td>664300000</td>\n",
       "      <td>2010</td>\n",
       "      <td>Harry Potter and the Deathly Hallows Part 12010</td>\n",
       "      <td>tt0926084</td>\n",
       "      <td>7.7</td>\n",
       "      <td>425530</td>\n",
       "      <td>Harry Potter and the Deathly Hallows Part 1</td>\n",
       "      <td>Harry Potter and the Deathly Hallows: Part 1</td>\n",
       "      <td>2010</td>\n",
       "      <td>146.0</td>\n",
       "      <td>Adventure,Fantasy,Mystery</td>\n",
       "      <td>Harry Potter and the Deathly Hallows: Part 1</td>\n",
       "      <td>0</td>\n",
       "      <td>0</td>\n",
       "      <td>0</td>\n",
       "      <td>0</td>\n",
       "      <td>0</td>\n",
       "      <td>0</td>\n",
       "      <td>0</td>\n",
       "      <td>0</td>\n",
       "      <td>0</td>\n",
       "      <td>1</td>\n",
       "      <td>0</td>\n",
       "      <td>0</td>\n",
       "      <td>1</td>\n",
       "      <td>1</td>\n",
       "      <td>0</td>\n",
       "      <td>0</td>\n",
       "      <td>0</td>\n",
       "      <td>0</td>\n",
       "      <td>0</td>\n",
       "      <td>0</td>\n",
       "      <td>0</td>\n",
       "      <td>0</td>\n",
       "      <td>0</td>\n",
       "      <td>0</td>\n",
       "      <td>0</td>\n",
       "      <td>0</td>\n",
       "      <td>0</td>\n",
       "      <td>0.0</td>\n",
       "      <td>0.0</td>\n",
       "      <td>0.000000</td>\n",
       "      <td>0.000000</td>\n",
       "      <td>0.0</td>\n",
       "      <td>0.000000</td>\n",
       "      <td>0.0</td>\n",
       "      <td>0.0000</td>\n",
       "      <td>0.0</td>\n",
       "      <td>0.039478</td>\n",
       "      <td>0.0</td>\n",
       "      <td>0.0</td>\n",
       "      <td>0.128492</td>\n",
       "      <td>0.135967</td>\n",
       "      <td>0.0</td>\n",
       "      <td>0.0</td>\n",
       "      <td>0.0</td>\n",
       "      <td>0.0</td>\n",
       "      <td>0.0</td>\n",
       "      <td>0.0</td>\n",
       "      <td>0.0</td>\n",
       "      <td>0.0</td>\n",
       "      <td>0.0</td>\n",
       "      <td>0.000000</td>\n",
       "      <td>0.0</td>\n",
       "      <td>0.000000</td>\n",
       "      <td>0.0</td>\n",
       "    </tr>\n",
       "    <tr>\n",
       "      <th>2</th>\n",
       "      <td>Inception</td>\n",
       "      <td>WB</td>\n",
       "      <td>292600000.0</td>\n",
       "      <td>535700000</td>\n",
       "      <td>2010</td>\n",
       "      <td>Inception2010</td>\n",
       "      <td>tt1375666</td>\n",
       "      <td>8.8</td>\n",
       "      <td>1841066</td>\n",
       "      <td>Inception</td>\n",
       "      <td>Inception</td>\n",
       "      <td>2010</td>\n",
       "      <td>148.0</td>\n",
       "      <td>Action,Adventure,Sci-Fi</td>\n",
       "      <td>Inception</td>\n",
       "      <td>0</td>\n",
       "      <td>0</td>\n",
       "      <td>0</td>\n",
       "      <td>0</td>\n",
       "      <td>0</td>\n",
       "      <td>1</td>\n",
       "      <td>0</td>\n",
       "      <td>0</td>\n",
       "      <td>0</td>\n",
       "      <td>1</td>\n",
       "      <td>0</td>\n",
       "      <td>0</td>\n",
       "      <td>0</td>\n",
       "      <td>0</td>\n",
       "      <td>0</td>\n",
       "      <td>0</td>\n",
       "      <td>0</td>\n",
       "      <td>0</td>\n",
       "      <td>0</td>\n",
       "      <td>0</td>\n",
       "      <td>0</td>\n",
       "      <td>0</td>\n",
       "      <td>0</td>\n",
       "      <td>0</td>\n",
       "      <td>0</td>\n",
       "      <td>1</td>\n",
       "      <td>0</td>\n",
       "      <td>0.0</td>\n",
       "      <td>0.0</td>\n",
       "      <td>0.000000</td>\n",
       "      <td>0.000000</td>\n",
       "      <td>0.0</td>\n",
       "      <td>0.379747</td>\n",
       "      <td>0.0</td>\n",
       "      <td>0.0000</td>\n",
       "      <td>0.0</td>\n",
       "      <td>0.195203</td>\n",
       "      <td>0.0</td>\n",
       "      <td>0.0</td>\n",
       "      <td>0.000000</td>\n",
       "      <td>0.000000</td>\n",
       "      <td>0.0</td>\n",
       "      <td>0.0</td>\n",
       "      <td>0.0</td>\n",
       "      <td>0.0</td>\n",
       "      <td>0.0</td>\n",
       "      <td>0.0</td>\n",
       "      <td>0.0</td>\n",
       "      <td>0.0</td>\n",
       "      <td>0.0</td>\n",
       "      <td>0.000000</td>\n",
       "      <td>0.0</td>\n",
       "      <td>0.162001</td>\n",
       "      <td>0.0</td>\n",
       "    </tr>\n",
       "    <tr>\n",
       "      <th>3</th>\n",
       "      <td>Shrek Forever After</td>\n",
       "      <td>P/DW</td>\n",
       "      <td>238700000.0</td>\n",
       "      <td>513900000</td>\n",
       "      <td>2010</td>\n",
       "      <td>Shrek Forever After2010</td>\n",
       "      <td>tt0892791</td>\n",
       "      <td>6.3</td>\n",
       "      <td>167532</td>\n",
       "      <td>Shrek Forever After</td>\n",
       "      <td>Shrek Forever After</td>\n",
       "      <td>2010</td>\n",
       "      <td>93.0</td>\n",
       "      <td>Adventure,Animation,Comedy</td>\n",
       "      <td>Shrek Forever After</td>\n",
       "      <td>0</td>\n",
       "      <td>0</td>\n",
       "      <td>0</td>\n",
       "      <td>1</td>\n",
       "      <td>0</td>\n",
       "      <td>0</td>\n",
       "      <td>0</td>\n",
       "      <td>0</td>\n",
       "      <td>0</td>\n",
       "      <td>1</td>\n",
       "      <td>0</td>\n",
       "      <td>0</td>\n",
       "      <td>0</td>\n",
       "      <td>0</td>\n",
       "      <td>0</td>\n",
       "      <td>0</td>\n",
       "      <td>0</td>\n",
       "      <td>0</td>\n",
       "      <td>0</td>\n",
       "      <td>0</td>\n",
       "      <td>0</td>\n",
       "      <td>0</td>\n",
       "      <td>0</td>\n",
       "      <td>1</td>\n",
       "      <td>0</td>\n",
       "      <td>0</td>\n",
       "      <td>0</td>\n",
       "      <td>0.0</td>\n",
       "      <td>0.0</td>\n",
       "      <td>0.000000</td>\n",
       "      <td>0.014509</td>\n",
       "      <td>0.0</td>\n",
       "      <td>0.000000</td>\n",
       "      <td>0.0</td>\n",
       "      <td>0.0000</td>\n",
       "      <td>0.0</td>\n",
       "      <td>0.012717</td>\n",
       "      <td>0.0</td>\n",
       "      <td>0.0</td>\n",
       "      <td>0.000000</td>\n",
       "      <td>0.000000</td>\n",
       "      <td>0.0</td>\n",
       "      <td>0.0</td>\n",
       "      <td>0.0</td>\n",
       "      <td>0.0</td>\n",
       "      <td>0.0</td>\n",
       "      <td>0.0</td>\n",
       "      <td>0.0</td>\n",
       "      <td>0.0</td>\n",
       "      <td>0.0</td>\n",
       "      <td>0.070698</td>\n",
       "      <td>0.0</td>\n",
       "      <td>0.000000</td>\n",
       "      <td>0.0</td>\n",
       "    </tr>\n",
       "    <tr>\n",
       "      <th>4</th>\n",
       "      <td>The Twilight Saga Eclipse</td>\n",
       "      <td>Sum.</td>\n",
       "      <td>300500000.0</td>\n",
       "      <td>398000000</td>\n",
       "      <td>2010</td>\n",
       "      <td>The Twilight Saga Eclipse2010</td>\n",
       "      <td>tt1325004</td>\n",
       "      <td>5.0</td>\n",
       "      <td>211733</td>\n",
       "      <td>The Twilight Saga Eclipse</td>\n",
       "      <td>The Twilight Saga: Eclipse</td>\n",
       "      <td>2010</td>\n",
       "      <td>124.0</td>\n",
       "      <td>Adventure,Drama,Fantasy</td>\n",
       "      <td>The Twilight Saga: Eclipse</td>\n",
       "      <td>0</td>\n",
       "      <td>0</td>\n",
       "      <td>1</td>\n",
       "      <td>0</td>\n",
       "      <td>0</td>\n",
       "      <td>0</td>\n",
       "      <td>0</td>\n",
       "      <td>0</td>\n",
       "      <td>0</td>\n",
       "      <td>1</td>\n",
       "      <td>0</td>\n",
       "      <td>0</td>\n",
       "      <td>1</td>\n",
       "      <td>0</td>\n",
       "      <td>0</td>\n",
       "      <td>0</td>\n",
       "      <td>0</td>\n",
       "      <td>0</td>\n",
       "      <td>0</td>\n",
       "      <td>0</td>\n",
       "      <td>0</td>\n",
       "      <td>0</td>\n",
       "      <td>0</td>\n",
       "      <td>0</td>\n",
       "      <td>0</td>\n",
       "      <td>0</td>\n",
       "      <td>0</td>\n",
       "      <td>0.0</td>\n",
       "      <td>0.0</td>\n",
       "      <td>0.009124</td>\n",
       "      <td>0.000000</td>\n",
       "      <td>0.0</td>\n",
       "      <td>0.000000</td>\n",
       "      <td>0.0</td>\n",
       "      <td>0.0000</td>\n",
       "      <td>0.0</td>\n",
       "      <td>0.012755</td>\n",
       "      <td>0.0</td>\n",
       "      <td>0.0</td>\n",
       "      <td>0.041516</td>\n",
       "      <td>0.000000</td>\n",
       "      <td>0.0</td>\n",
       "      <td>0.0</td>\n",
       "      <td>0.0</td>\n",
       "      <td>0.0</td>\n",
       "      <td>0.0</td>\n",
       "      <td>0.0</td>\n",
       "      <td>0.0</td>\n",
       "      <td>0.0</td>\n",
       "      <td>0.0</td>\n",
       "      <td>0.000000</td>\n",
       "      <td>0.0</td>\n",
       "      <td>0.000000</td>\n",
       "      <td>0.0</td>\n",
       "    </tr>\n",
       "    <tr>\n",
       "      <th>...</th>\n",
       "      <td>...</td>\n",
       "      <td>...</td>\n",
       "      <td>...</td>\n",
       "      <td>...</td>\n",
       "      <td>...</td>\n",
       "      <td>...</td>\n",
       "      <td>...</td>\n",
       "      <td>...</td>\n",
       "      <td>...</td>\n",
       "      <td>...</td>\n",
       "      <td>...</td>\n",
       "      <td>...</td>\n",
       "      <td>...</td>\n",
       "      <td>...</td>\n",
       "      <td>...</td>\n",
       "      <td>...</td>\n",
       "      <td>...</td>\n",
       "      <td>...</td>\n",
       "      <td>...</td>\n",
       "      <td>...</td>\n",
       "      <td>...</td>\n",
       "      <td>...</td>\n",
       "      <td>...</td>\n",
       "      <td>...</td>\n",
       "      <td>...</td>\n",
       "      <td>...</td>\n",
       "      <td>...</td>\n",
       "      <td>...</td>\n",
       "      <td>...</td>\n",
       "      <td>...</td>\n",
       "      <td>...</td>\n",
       "      <td>...</td>\n",
       "      <td>...</td>\n",
       "      <td>...</td>\n",
       "      <td>...</td>\n",
       "      <td>...</td>\n",
       "      <td>...</td>\n",
       "      <td>...</td>\n",
       "      <td>...</td>\n",
       "      <td>...</td>\n",
       "      <td>...</td>\n",
       "      <td>...</td>\n",
       "      <td>...</td>\n",
       "      <td>...</td>\n",
       "      <td>...</td>\n",
       "      <td>...</td>\n",
       "      <td>...</td>\n",
       "      <td>...</td>\n",
       "      <td>...</td>\n",
       "      <td>...</td>\n",
       "      <td>...</td>\n",
       "      <td>...</td>\n",
       "      <td>...</td>\n",
       "      <td>...</td>\n",
       "      <td>...</td>\n",
       "      <td>...</td>\n",
       "      <td>...</td>\n",
       "      <td>...</td>\n",
       "      <td>...</td>\n",
       "      <td>...</td>\n",
       "      <td>...</td>\n",
       "      <td>...</td>\n",
       "      <td>...</td>\n",
       "      <td>...</td>\n",
       "      <td>...</td>\n",
       "      <td>...</td>\n",
       "      <td>...</td>\n",
       "      <td>...</td>\n",
       "      <td>...</td>\n",
       "    </tr>\n",
       "    <tr>\n",
       "      <th>1828</th>\n",
       "      <td>Helicopter Eela</td>\n",
       "      <td>Eros</td>\n",
       "      <td>72000.0</td>\n",
       "      <td>NaN</td>\n",
       "      <td>2018</td>\n",
       "      <td>Helicopter Eela2018</td>\n",
       "      <td>tt8427036</td>\n",
       "      <td>5.4</td>\n",
       "      <td>673</td>\n",
       "      <td>Helicopter Eela</td>\n",
       "      <td>Helicopter Eela</td>\n",
       "      <td>2018</td>\n",
       "      <td>135.0</td>\n",
       "      <td>Drama</td>\n",
       "      <td>Helicopter Eela</td>\n",
       "      <td>0</td>\n",
       "      <td>0</td>\n",
       "      <td>1</td>\n",
       "      <td>0</td>\n",
       "      <td>0</td>\n",
       "      <td>0</td>\n",
       "      <td>0</td>\n",
       "      <td>0</td>\n",
       "      <td>0</td>\n",
       "      <td>0</td>\n",
       "      <td>0</td>\n",
       "      <td>0</td>\n",
       "      <td>0</td>\n",
       "      <td>0</td>\n",
       "      <td>0</td>\n",
       "      <td>0</td>\n",
       "      <td>0</td>\n",
       "      <td>0</td>\n",
       "      <td>0</td>\n",
       "      <td>0</td>\n",
       "      <td>0</td>\n",
       "      <td>0</td>\n",
       "      <td>0</td>\n",
       "      <td>0</td>\n",
       "      <td>0</td>\n",
       "      <td>0</td>\n",
       "      <td>0</td>\n",
       "      <td>0.0</td>\n",
       "      <td>0.0</td>\n",
       "      <td>0.000031</td>\n",
       "      <td>0.000000</td>\n",
       "      <td>0.0</td>\n",
       "      <td>0.000000</td>\n",
       "      <td>0.0</td>\n",
       "      <td>0.0000</td>\n",
       "      <td>0.0</td>\n",
       "      <td>0.000000</td>\n",
       "      <td>0.0</td>\n",
       "      <td>0.0</td>\n",
       "      <td>0.000000</td>\n",
       "      <td>0.000000</td>\n",
       "      <td>0.0</td>\n",
       "      <td>0.0</td>\n",
       "      <td>0.0</td>\n",
       "      <td>0.0</td>\n",
       "      <td>0.0</td>\n",
       "      <td>0.0</td>\n",
       "      <td>0.0</td>\n",
       "      <td>0.0</td>\n",
       "      <td>0.0</td>\n",
       "      <td>0.000000</td>\n",
       "      <td>0.0</td>\n",
       "      <td>0.000000</td>\n",
       "      <td>0.0</td>\n",
       "    </tr>\n",
       "    <tr>\n",
       "      <th>1829</th>\n",
       "      <td>Girls vs Gangsters</td>\n",
       "      <td>WGUSA</td>\n",
       "      <td>37100.0</td>\n",
       "      <td>NaN</td>\n",
       "      <td>2018</td>\n",
       "      <td>Girls vs Gangsters2018</td>\n",
       "      <td>tt7870578</td>\n",
       "      <td>3.3</td>\n",
       "      <td>148</td>\n",
       "      <td>Girls vs Gangsters</td>\n",
       "      <td>Gui mi 2</td>\n",
       "      <td>2018</td>\n",
       "      <td>120.0</td>\n",
       "      <td>Comedy,Drama</td>\n",
       "      <td>Gui mi 2</td>\n",
       "      <td>0</td>\n",
       "      <td>0</td>\n",
       "      <td>1</td>\n",
       "      <td>1</td>\n",
       "      <td>0</td>\n",
       "      <td>0</td>\n",
       "      <td>0</td>\n",
       "      <td>0</td>\n",
       "      <td>0</td>\n",
       "      <td>0</td>\n",
       "      <td>0</td>\n",
       "      <td>0</td>\n",
       "      <td>0</td>\n",
       "      <td>0</td>\n",
       "      <td>0</td>\n",
       "      <td>0</td>\n",
       "      <td>0</td>\n",
       "      <td>0</td>\n",
       "      <td>0</td>\n",
       "      <td>0</td>\n",
       "      <td>0</td>\n",
       "      <td>0</td>\n",
       "      <td>0</td>\n",
       "      <td>0</td>\n",
       "      <td>0</td>\n",
       "      <td>0</td>\n",
       "      <td>0</td>\n",
       "      <td>0.0</td>\n",
       "      <td>0.0</td>\n",
       "      <td>0.000004</td>\n",
       "      <td>0.000007</td>\n",
       "      <td>0.0</td>\n",
       "      <td>0.000000</td>\n",
       "      <td>0.0</td>\n",
       "      <td>0.0000</td>\n",
       "      <td>0.0</td>\n",
       "      <td>0.000000</td>\n",
       "      <td>0.0</td>\n",
       "      <td>0.0</td>\n",
       "      <td>0.000000</td>\n",
       "      <td>0.000000</td>\n",
       "      <td>0.0</td>\n",
       "      <td>0.0</td>\n",
       "      <td>0.0</td>\n",
       "      <td>0.0</td>\n",
       "      <td>0.0</td>\n",
       "      <td>0.0</td>\n",
       "      <td>0.0</td>\n",
       "      <td>0.0</td>\n",
       "      <td>0.0</td>\n",
       "      <td>0.000000</td>\n",
       "      <td>0.0</td>\n",
       "      <td>0.000000</td>\n",
       "      <td>0.0</td>\n",
       "    </tr>\n",
       "    <tr>\n",
       "      <th>1830</th>\n",
       "      <td>A Paris Education</td>\n",
       "      <td>KL</td>\n",
       "      <td>21600.0</td>\n",
       "      <td>NaN</td>\n",
       "      <td>2018</td>\n",
       "      <td>A Paris Education2018</td>\n",
       "      <td>tt6593240</td>\n",
       "      <td>6.3</td>\n",
       "      <td>371</td>\n",
       "      <td>A Paris Education</td>\n",
       "      <td>Mes provinciales</td>\n",
       "      <td>2018</td>\n",
       "      <td>137.0</td>\n",
       "      <td>Drama</td>\n",
       "      <td>Mes provinciales</td>\n",
       "      <td>0</td>\n",
       "      <td>0</td>\n",
       "      <td>1</td>\n",
       "      <td>0</td>\n",
       "      <td>0</td>\n",
       "      <td>0</td>\n",
       "      <td>0</td>\n",
       "      <td>0</td>\n",
       "      <td>0</td>\n",
       "      <td>0</td>\n",
       "      <td>0</td>\n",
       "      <td>0</td>\n",
       "      <td>0</td>\n",
       "      <td>0</td>\n",
       "      <td>0</td>\n",
       "      <td>0</td>\n",
       "      <td>0</td>\n",
       "      <td>0</td>\n",
       "      <td>0</td>\n",
       "      <td>0</td>\n",
       "      <td>0</td>\n",
       "      <td>0</td>\n",
       "      <td>0</td>\n",
       "      <td>0</td>\n",
       "      <td>0</td>\n",
       "      <td>0</td>\n",
       "      <td>0</td>\n",
       "      <td>0.0</td>\n",
       "      <td>0.0</td>\n",
       "      <td>0.000020</td>\n",
       "      <td>0.000000</td>\n",
       "      <td>0.0</td>\n",
       "      <td>0.000000</td>\n",
       "      <td>0.0</td>\n",
       "      <td>0.0000</td>\n",
       "      <td>0.0</td>\n",
       "      <td>0.000000</td>\n",
       "      <td>0.0</td>\n",
       "      <td>0.0</td>\n",
       "      <td>0.000000</td>\n",
       "      <td>0.000000</td>\n",
       "      <td>0.0</td>\n",
       "      <td>0.0</td>\n",
       "      <td>0.0</td>\n",
       "      <td>0.0</td>\n",
       "      <td>0.0</td>\n",
       "      <td>0.0</td>\n",
       "      <td>0.0</td>\n",
       "      <td>0.0</td>\n",
       "      <td>0.0</td>\n",
       "      <td>0.000000</td>\n",
       "      <td>0.0</td>\n",
       "      <td>0.000000</td>\n",
       "      <td>0.0</td>\n",
       "    </tr>\n",
       "    <tr>\n",
       "      <th>1831</th>\n",
       "      <td>The Quake</td>\n",
       "      <td>Magn.</td>\n",
       "      <td>6200.0</td>\n",
       "      <td>NaN</td>\n",
       "      <td>2018</td>\n",
       "      <td>The Quake2018</td>\n",
       "      <td>tt6523720</td>\n",
       "      <td>6.2</td>\n",
       "      <td>5270</td>\n",
       "      <td>The Quake</td>\n",
       "      <td>Skjelvet</td>\n",
       "      <td>2018</td>\n",
       "      <td>106.0</td>\n",
       "      <td>Action,Drama,Thriller</td>\n",
       "      <td>Skjelvet</td>\n",
       "      <td>0</td>\n",
       "      <td>0</td>\n",
       "      <td>1</td>\n",
       "      <td>0</td>\n",
       "      <td>0</td>\n",
       "      <td>0</td>\n",
       "      <td>0</td>\n",
       "      <td>1</td>\n",
       "      <td>0</td>\n",
       "      <td>0</td>\n",
       "      <td>0</td>\n",
       "      <td>0</td>\n",
       "      <td>0</td>\n",
       "      <td>0</td>\n",
       "      <td>0</td>\n",
       "      <td>0</td>\n",
       "      <td>0</td>\n",
       "      <td>0</td>\n",
       "      <td>0</td>\n",
       "      <td>0</td>\n",
       "      <td>0</td>\n",
       "      <td>0</td>\n",
       "      <td>0</td>\n",
       "      <td>0</td>\n",
       "      <td>0</td>\n",
       "      <td>1</td>\n",
       "      <td>0</td>\n",
       "      <td>0.0</td>\n",
       "      <td>0.0</td>\n",
       "      <td>0.000282</td>\n",
       "      <td>0.000000</td>\n",
       "      <td>0.0</td>\n",
       "      <td>0.000000</td>\n",
       "      <td>0.0</td>\n",
       "      <td>0.0007</td>\n",
       "      <td>0.0</td>\n",
       "      <td>0.000000</td>\n",
       "      <td>0.0</td>\n",
       "      <td>0.0</td>\n",
       "      <td>0.000000</td>\n",
       "      <td>0.000000</td>\n",
       "      <td>0.0</td>\n",
       "      <td>0.0</td>\n",
       "      <td>0.0</td>\n",
       "      <td>0.0</td>\n",
       "      <td>0.0</td>\n",
       "      <td>0.0</td>\n",
       "      <td>0.0</td>\n",
       "      <td>0.0</td>\n",
       "      <td>0.0</td>\n",
       "      <td>0.000000</td>\n",
       "      <td>0.0</td>\n",
       "      <td>0.000327</td>\n",
       "      <td>0.0</td>\n",
       "    </tr>\n",
       "    <tr>\n",
       "      <th>1832</th>\n",
       "      <td>An Actor Prepares</td>\n",
       "      <td>Grav.</td>\n",
       "      <td>1700.0</td>\n",
       "      <td>NaN</td>\n",
       "      <td>2018</td>\n",
       "      <td>An Actor Prepares2018</td>\n",
       "      <td>tt5718046</td>\n",
       "      <td>5.0</td>\n",
       "      <td>388</td>\n",
       "      <td>An Actor Prepares</td>\n",
       "      <td>An Actor Prepares</td>\n",
       "      <td>2018</td>\n",
       "      <td>97.0</td>\n",
       "      <td>Comedy</td>\n",
       "      <td>An Actor Prepares</td>\n",
       "      <td>0</td>\n",
       "      <td>0</td>\n",
       "      <td>0</td>\n",
       "      <td>1</td>\n",
       "      <td>0</td>\n",
       "      <td>0</td>\n",
       "      <td>0</td>\n",
       "      <td>0</td>\n",
       "      <td>0</td>\n",
       "      <td>0</td>\n",
       "      <td>0</td>\n",
       "      <td>0</td>\n",
       "      <td>0</td>\n",
       "      <td>0</td>\n",
       "      <td>0</td>\n",
       "      <td>0</td>\n",
       "      <td>0</td>\n",
       "      <td>0</td>\n",
       "      <td>0</td>\n",
       "      <td>0</td>\n",
       "      <td>0</td>\n",
       "      <td>0</td>\n",
       "      <td>0</td>\n",
       "      <td>0</td>\n",
       "      <td>0</td>\n",
       "      <td>0</td>\n",
       "      <td>0</td>\n",
       "      <td>0.0</td>\n",
       "      <td>0.0</td>\n",
       "      <td>0.000000</td>\n",
       "      <td>0.000027</td>\n",
       "      <td>0.0</td>\n",
       "      <td>0.000000</td>\n",
       "      <td>0.0</td>\n",
       "      <td>0.0000</td>\n",
       "      <td>0.0</td>\n",
       "      <td>0.000000</td>\n",
       "      <td>0.0</td>\n",
       "      <td>0.0</td>\n",
       "      <td>0.000000</td>\n",
       "      <td>0.000000</td>\n",
       "      <td>0.0</td>\n",
       "      <td>0.0</td>\n",
       "      <td>0.0</td>\n",
       "      <td>0.0</td>\n",
       "      <td>0.0</td>\n",
       "      <td>0.0</td>\n",
       "      <td>0.0</td>\n",
       "      <td>0.0</td>\n",
       "      <td>0.0</td>\n",
       "      <td>0.000000</td>\n",
       "      <td>0.0</td>\n",
       "      <td>0.000000</td>\n",
       "      <td>0.0</td>\n",
       "    </tr>\n",
       "  </tbody>\n",
       "</table>\n",
       "<p>1833 rows × 69 columns</p>\n",
       "</div>"
      ],
      "text/plain": [
       "                                            title studio  domestic_gross  \\\n",
       "0                                     Toy Story 3     BV     415000000.0   \n",
       "1     Harry Potter and the Deathly Hallows Part 1     WB     296000000.0   \n",
       "2                                       Inception     WB     292600000.0   \n",
       "3                             Shrek Forever After   P/DW     238700000.0   \n",
       "4                       The Twilight Saga Eclipse   Sum.     300500000.0   \n",
       "...                                           ...    ...             ...   \n",
       "1828                              Helicopter Eela   Eros         72000.0   \n",
       "1829                           Girls vs Gangsters  WGUSA         37100.0   \n",
       "1830                            A Paris Education     KL         21600.0   \n",
       "1831                                    The Quake  Magn.          6200.0   \n",
       "1832                            An Actor Prepares  Grav.          1700.0   \n",
       "\n",
       "     foreign_gross  year                                        unique id  \\\n",
       "0        652000000  2010                                  Toy Story 32010   \n",
       "1        664300000  2010  Harry Potter and the Deathly Hallows Part 12010   \n",
       "2        535700000  2010                                    Inception2010   \n",
       "3        513900000  2010                          Shrek Forever After2010   \n",
       "4        398000000  2010                    The Twilight Saga Eclipse2010   \n",
       "...            ...   ...                                              ...   \n",
       "1828           NaN  2018                              Helicopter Eela2018   \n",
       "1829           NaN  2018                           Girls vs Gangsters2018   \n",
       "1830           NaN  2018                            A Paris Education2018   \n",
       "1831           NaN  2018                                    The Quake2018   \n",
       "1832           NaN  2018                            An Actor Prepares2018   \n",
       "\n",
       "         tconst  averagerating  numvotes  \\\n",
       "0     tt0435761            8.3    682218   \n",
       "1     tt0926084            7.7    425530   \n",
       "2     tt1375666            8.8   1841066   \n",
       "3     tt0892791            6.3    167532   \n",
       "4     tt1325004            5.0    211733   \n",
       "...         ...            ...       ...   \n",
       "1828  tt8427036            5.4       673   \n",
       "1829  tt7870578            3.3       148   \n",
       "1830  tt6593240            6.3       371   \n",
       "1831  tt6523720            6.2      5270   \n",
       "1832  tt5718046            5.0       388   \n",
       "\n",
       "                                    primary_title  \\\n",
       "0                                     Toy Story 3   \n",
       "1     Harry Potter and the Deathly Hallows Part 1   \n",
       "2                                       Inception   \n",
       "3                             Shrek Forever After   \n",
       "4                       The Twilight Saga Eclipse   \n",
       "...                                           ...   \n",
       "1828                              Helicopter Eela   \n",
       "1829                           Girls vs Gangsters   \n",
       "1830                            A Paris Education   \n",
       "1831                                    The Quake   \n",
       "1832                            An Actor Prepares   \n",
       "\n",
       "                                    original_title  start_year  \\\n",
       "0                                      Toy Story 3        2010   \n",
       "1     Harry Potter and the Deathly Hallows: Part 1        2010   \n",
       "2                                        Inception        2010   \n",
       "3                              Shrek Forever After        2010   \n",
       "4                       The Twilight Saga: Eclipse        2010   \n",
       "...                                            ...         ...   \n",
       "1828                               Helicopter Eela        2018   \n",
       "1829                                      Gui mi 2        2018   \n",
       "1830                              Mes provinciales        2018   \n",
       "1831                                      Skjelvet        2018   \n",
       "1832                             An Actor Prepares        2018   \n",
       "\n",
       "      runtime_minutes                      genres  \\\n",
       "0               103.0  Adventure,Animation,Comedy   \n",
       "1               146.0   Adventure,Fantasy,Mystery   \n",
       "2               148.0     Action,Adventure,Sci-Fi   \n",
       "3                93.0  Adventure,Animation,Comedy   \n",
       "4               124.0     Adventure,Drama,Fantasy   \n",
       "...               ...                         ...   \n",
       "1828            135.0                       Drama   \n",
       "1829            120.0                Comedy,Drama   \n",
       "1830            137.0                       Drama   \n",
       "1831            106.0       Action,Drama,Thriller   \n",
       "1832             97.0                      Comedy   \n",
       "\n",
       "                             updated_orginal_title  Family  Crime  Drama  \\\n",
       "0                                      Toy Story 3       0      0      0   \n",
       "1     Harry Potter and the Deathly Hallows: Part 1       0      0      0   \n",
       "2                                        Inception       0      0      0   \n",
       "3                              Shrek Forever After       0      0      0   \n",
       "4                       The Twilight Saga: Eclipse       0      0      1   \n",
       "...                                            ...     ...    ...    ...   \n",
       "1828                               Helicopter Eela       0      0      1   \n",
       "1829                                      Gui mi 2       0      0      1   \n",
       "1830                              Mes provinciales       0      0      1   \n",
       "1831                                      Skjelvet       0      0      1   \n",
       "1832                             An Actor Prepares       0      0      0   \n",
       "\n",
       "      Comedy  Horror  Sci-Fi  Documentary  Thriller  Musical  Adventure  \\\n",
       "0          1       0       0            0         0        0          1   \n",
       "1          0       0       0            0         0        0          1   \n",
       "2          0       0       1            0         0        0          1   \n",
       "3          1       0       0            0         0        0          1   \n",
       "4          0       0       0            0         0        0          1   \n",
       "...      ...     ...     ...          ...       ...      ...        ...   \n",
       "1828       0       0       0            0         0        0          0   \n",
       "1829       1       0       0            0         0        0          0   \n",
       "1830       0       0       0            0         0        0          0   \n",
       "1831       0       0       0            0         1        0          0   \n",
       "1832       1       0       0            0         0        0          0   \n",
       "\n",
       "      History  Biography  Fantasy  Mystery  Short  Game-Show  Adult  Music  \\\n",
       "0           0          0        0        0      0          0      0      0   \n",
       "1           0          0        1        1      0          0      0      0   \n",
       "2           0          0        0        0      0          0      0      0   \n",
       "3           0          0        0        0      0          0      0      0   \n",
       "4           0          0        1        0      0          0      0      0   \n",
       "...       ...        ...      ...      ...    ...        ...    ...    ...   \n",
       "1828        0          0        0        0      0          0      0      0   \n",
       "1829        0          0        0        0      0          0      0      0   \n",
       "1830        0          0        0        0      0          0      0      0   \n",
       "1831        0          0        0        0      0          0      0      0   \n",
       "1832        0          0        0        0      0          0      0      0   \n",
       "\n",
       "      No Genre  Western  Romance  News  Sport  Animation  Reality-TV  Action  \\\n",
       "0            0        0        0     0      0          1           0       0   \n",
       "1            0        0        0     0      0          0           0       0   \n",
       "2            0        0        0     0      0          0           0       1   \n",
       "3            0        0        0     0      0          1           0       0   \n",
       "4            0        0        0     0      0          0           0       0   \n",
       "...        ...      ...      ...   ...    ...        ...         ...     ...   \n",
       "1828         0        0        0     0      0          0           0       0   \n",
       "1829         0        0        0     0      0          0           0       0   \n",
       "1830         0        0        0     0      0          0           0       0   \n",
       "1831         0        0        0     0      0          0           0       1   \n",
       "1832         0        0        0     0      0          0           0       0   \n",
       "\n",
       "      War  Family WS  Crime WS  Drama WS  Comedy WS  Horror WS  Sci-Fi WS  \\\n",
       "0       0        0.0       0.0  0.000000   0.077839        0.0   0.000000   \n",
       "1       0        0.0       0.0  0.000000   0.000000        0.0   0.000000   \n",
       "2       0        0.0       0.0  0.000000   0.000000        0.0   0.379747   \n",
       "3       0        0.0       0.0  0.000000   0.014509        0.0   0.000000   \n",
       "4       0        0.0       0.0  0.009124   0.000000        0.0   0.000000   \n",
       "...   ...        ...       ...       ...        ...        ...        ...   \n",
       "1828    0        0.0       0.0  0.000031   0.000000        0.0   0.000000   \n",
       "1829    0        0.0       0.0  0.000004   0.000007        0.0   0.000000   \n",
       "1830    0        0.0       0.0  0.000020   0.000000        0.0   0.000000   \n",
       "1831    0        0.0       0.0  0.000282   0.000000        0.0   0.000000   \n",
       "1832    0        0.0       0.0  0.000000   0.000027        0.0   0.000000   \n",
       "\n",
       "      Documentary WS  Thriller WS  Musical WS  Adventure WS  History WS  \\\n",
       "0                0.0       0.0000         0.0      0.068224         0.0   \n",
       "1                0.0       0.0000         0.0      0.039478         0.0   \n",
       "2                0.0       0.0000         0.0      0.195203         0.0   \n",
       "3                0.0       0.0000         0.0      0.012717         0.0   \n",
       "4                0.0       0.0000         0.0      0.012755         0.0   \n",
       "...              ...          ...         ...           ...         ...   \n",
       "1828             0.0       0.0000         0.0      0.000000         0.0   \n",
       "1829             0.0       0.0000         0.0      0.000000         0.0   \n",
       "1830             0.0       0.0000         0.0      0.000000         0.0   \n",
       "1831             0.0       0.0007         0.0      0.000000         0.0   \n",
       "1832             0.0       0.0000         0.0      0.000000         0.0   \n",
       "\n",
       "      Biography WS  Fantasy WS  Mystery WS  Short WS  Game-Show WS  Adult WS  \\\n",
       "0              0.0    0.000000    0.000000       0.0           0.0       0.0   \n",
       "1              0.0    0.128492    0.135967       0.0           0.0       0.0   \n",
       "2              0.0    0.000000    0.000000       0.0           0.0       0.0   \n",
       "3              0.0    0.000000    0.000000       0.0           0.0       0.0   \n",
       "4              0.0    0.041516    0.000000       0.0           0.0       0.0   \n",
       "...            ...         ...         ...       ...           ...       ...   \n",
       "1828           0.0    0.000000    0.000000       0.0           0.0       0.0   \n",
       "1829           0.0    0.000000    0.000000       0.0           0.0       0.0   \n",
       "1830           0.0    0.000000    0.000000       0.0           0.0       0.0   \n",
       "1831           0.0    0.000000    0.000000       0.0           0.0       0.0   \n",
       "1832           0.0    0.000000    0.000000       0.0           0.0       0.0   \n",
       "\n",
       "      Music WS  No Genre WS  Western WS  Romance WS  News WS  Sport WS  \\\n",
       "0          0.0          0.0         0.0         0.0      0.0       0.0   \n",
       "1          0.0          0.0         0.0         0.0      0.0       0.0   \n",
       "2          0.0          0.0         0.0         0.0      0.0       0.0   \n",
       "3          0.0          0.0         0.0         0.0      0.0       0.0   \n",
       "4          0.0          0.0         0.0         0.0      0.0       0.0   \n",
       "...        ...          ...         ...         ...      ...       ...   \n",
       "1828       0.0          0.0         0.0         0.0      0.0       0.0   \n",
       "1829       0.0          0.0         0.0         0.0      0.0       0.0   \n",
       "1830       0.0          0.0         0.0         0.0      0.0       0.0   \n",
       "1831       0.0          0.0         0.0         0.0      0.0       0.0   \n",
       "1832       0.0          0.0         0.0         0.0      0.0       0.0   \n",
       "\n",
       "      Animation WS  Reality-TV WS  Action WS  War WS  \n",
       "0         0.379288            0.0   0.000000     0.0  \n",
       "1         0.000000            0.0   0.000000     0.0  \n",
       "2         0.000000            0.0   0.162001     0.0  \n",
       "3         0.070698            0.0   0.000000     0.0  \n",
       "4         0.000000            0.0   0.000000     0.0  \n",
       "...            ...            ...        ...     ...  \n",
       "1828      0.000000            0.0   0.000000     0.0  \n",
       "1829      0.000000            0.0   0.000000     0.0  \n",
       "1830      0.000000            0.0   0.000000     0.0  \n",
       "1831      0.000000            0.0   0.000327     0.0  \n",
       "1832      0.000000            0.0   0.000000     0.0  \n",
       "\n",
       "[1833 rows x 69 columns]"
      ]
     },
     "execution_count": 21,
     "metadata": {},
     "output_type": "execute_result"
    }
   ],
   "source": [
    "#Create 'unique id' to merge df_titles_and_ratings and df_gross\n",
    "\n",
    "df_gross['unique id'] = df_gross['title'] + df_gross['year'].astype(str)\n",
    "\n",
    "df_titles_and_ratings['unique id'] = df_titles_and_ratings['primary_title'] + df_titles_and_ratings['start_year'].astype(str)\n",
    "\n",
    "df_titles_and_ratings.head()\n",
    "\n",
    "df_rev_and_ratings = pd.merge(df_gross, df_titles_and_ratings, how = 'inner', on = 'unique id')\n",
    "\n",
    "df_rev_and_ratings"
   ]
  },
  {
   "cell_type": "markdown",
   "metadata": {},
   "source": [
    "## Data Preparation: Creating the Final Aggregated Data Frame \n",
    "\n",
    "**Variables Dropped / Created**:\n",
    "   \n",
    "   \n",
    "   * 'ADG per Movie' was created to determine the average Domestic Gross a movie in each genre would generate\n",
    "   * 'Average Votes per Movie' was created to determine to total amount of engagement each movie genre recieved per movie\n",
    "   * 'Total Movies' was created to help calculate the two metrics above\n",
    "   * All NaN values in 'Domestic Gross' were dropped, due to this being the main data point\n",
    "   * All 'No Genre' line items were dropped, as this was a nescessary unique classifier\n",
    "   * 'News' was dropped as a genre type as only 1 movie in our data set was categroized under this genre\n",
    "   \n",
    "   \n",
    "**Missing/NaN Values Solutions**:\n",
    "        \n",
    "   * All relevant missing data/NaN line items solved for before merge"
   ]
  },
  {
   "cell_type": "code",
   "execution_count": 22,
   "metadata": {},
   "outputs": [],
   "source": [
    "#Creating Final Data Frame\n",
    "\n",
    "genre_names = list(unique_genres_list)\n",
    "genre_ws = []\n",
    "genre_votes = []\n",
    "\n",
    "genre_ws_names = []\n",
    "for genre in genre_names:\n",
    "    genre_ws_names.append(genre + \" WS\")\n",
    "\n",
    "for genre in unique_genres_list:\n",
    "    genre_votes.append(int(df_titles_and_ratings[df_titles_and_ratings[genre] == 1].sum()['numvotes']))\n",
    "\n",
    "for ws in genre_ws_names:\n",
    "    genre_ws.append(df_titles_and_ratings[df_titles_and_ratings[ws] > 0].sum()[ws])\n",
    "\n",
    "domestic_gross = []\n",
    "\n",
    "for genre in unique_genres_list:\n",
    "    domestic_gross.append(int(df_rev_and_ratings[df_rev_and_ratings[genre] == 1].sum()['domestic_gross']))\n",
    "\n",
    "final_df = pd.DataFrame(np.column_stack([genre_names, genre_ws, genre_votes, domestic_gross]), \n",
    "                               columns=['Genres', 'Weighted Score', 'Votes', 'Domestic Gross'])\n",
    "\n",
    "final_df.sort_values('Weighted Score', ascending = False).head()\n",
    "\n",
    "# Convert Weighted Score to Float and Round to 2 Decimal Points\n",
    "\n",
    "final_df['Weighted Score'] = final_df['Weighted Score'].map (lambda x: round((float(x)), 2))\n",
    "\n",
    "# Convert Votes into int type\n",
    "\n",
    "final_df['Votes'] = final_df['Votes'].map(lambda x: int(x))\n",
    "\n",
    "# Convert Domestic Gross into int type\n",
    "\n",
    "final_df['Domestic Gross'] = final_df['Domestic Gross'].map(lambda x: int(x))"
   ]
  },
  {
   "cell_type": "code",
   "execution_count": 23,
   "metadata": {},
   "outputs": [],
   "source": [
    "#Adding AVG Domestic Gross (Domestic Gross / Total Movies Made) and Average Votes per Movie\n",
    "\n",
    "total_movies = []\n",
    "for genre in unique_genres_list:\n",
    "    \n",
    "    total_movies.append(df_rev_and_ratings[df_rev_and_ratings[genre] == 1].sum()[genre])\n",
    "\n",
    "final_df['Total Movies'] = total_movies\n",
    "\n",
    "# Convert 'Total Movies' into int type\n",
    "\n",
    "final_df['Total Movies'] = final_df['Total Movies'].map(lambda x: int(x))\n",
    "\n",
    "final_df['ADG per Movie'] = (final_df['Domestic Gross'] // final_df['Total Movies'])\n",
    "\n",
    "final_df['Average Votes per Movie'] = (final_df['Votes'] // final_df['Total Movies'])\n",
    "\n"
   ]
  },
  {
   "cell_type": "code",
   "execution_count": 24,
   "metadata": {},
   "outputs": [],
   "source": [
    "#Dropping all 0 Domestic Gross Values\n",
    "\n",
    "final_df = final_df.loc[final_df['Domestic Gross'] > 0]"
   ]
  },
  {
   "cell_type": "code",
   "execution_count": 25,
   "metadata": {},
   "outputs": [
    {
     "data": {
      "text/html": [
       "<div>\n",
       "<style scoped>\n",
       "    .dataframe tbody tr th:only-of-type {\n",
       "        vertical-align: middle;\n",
       "    }\n",
       "\n",
       "    .dataframe tbody tr th {\n",
       "        vertical-align: top;\n",
       "    }\n",
       "\n",
       "    .dataframe thead th {\n",
       "        text-align: right;\n",
       "    }\n",
       "</style>\n",
       "<table border=\"1\" class=\"dataframe\">\n",
       "  <thead>\n",
       "    <tr style=\"text-align: right;\">\n",
       "      <th></th>\n",
       "      <th>Genres</th>\n",
       "      <th>Weighted Score</th>\n",
       "      <th>Votes</th>\n",
       "      <th>Domestic Gross</th>\n",
       "      <th>Total Movies</th>\n",
       "      <th>ADG per Movie</th>\n",
       "      <th>Average Votes per Movie</th>\n",
       "    </tr>\n",
       "  </thead>\n",
       "  <tbody>\n",
       "    <tr>\n",
       "      <th>0</th>\n",
       "      <td>Family</td>\n",
       "      <td>6.75</td>\n",
       "      <td>8122032</td>\n",
       "      <td>4914445400</td>\n",
       "      <td>81</td>\n",
       "      <td>60672165.0</td>\n",
       "      <td>100272.0</td>\n",
       "    </tr>\n",
       "    <tr>\n",
       "      <th>1</th>\n",
       "      <td>Crime</td>\n",
       "      <td>6.87</td>\n",
       "      <td>38504001</td>\n",
       "      <td>8044572800</td>\n",
       "      <td>258</td>\n",
       "      <td>31180514.0</td>\n",
       "      <td>149240.0</td>\n",
       "    </tr>\n",
       "    <tr>\n",
       "      <th>2</th>\n",
       "      <td>Drama</td>\n",
       "      <td>7.07</td>\n",
       "      <td>116034992</td>\n",
       "      <td>22417474297</td>\n",
       "      <td>950</td>\n",
       "      <td>23597341.0</td>\n",
       "      <td>122142.0</td>\n",
       "    </tr>\n",
       "    <tr>\n",
       "      <th>3</th>\n",
       "      <td>Comedy</td>\n",
       "      <td>6.72</td>\n",
       "      <td>72745599</td>\n",
       "      <td>29377658095</td>\n",
       "      <td>656</td>\n",
       "      <td>44783015.0</td>\n",
       "      <td>110892.0</td>\n",
       "    </tr>\n",
       "    <tr>\n",
       "      <th>4</th>\n",
       "      <td>Horror</td>\n",
       "      <td>6.11</td>\n",
       "      <td>22727000</td>\n",
       "      <td>5109835100</td>\n",
       "      <td>140</td>\n",
       "      <td>36498822.0</td>\n",
       "      <td>162335.0</td>\n",
       "    </tr>\n",
       "    <tr>\n",
       "      <th>5</th>\n",
       "      <td>Sci-Fi</td>\n",
       "      <td>7.13</td>\n",
       "      <td>42663593</td>\n",
       "      <td>14567714999</td>\n",
       "      <td>110</td>\n",
       "      <td>132433772.0</td>\n",
       "      <td>387850.0</td>\n",
       "    </tr>\n",
       "    <tr>\n",
       "      <th>6</th>\n",
       "      <td>Documentary</td>\n",
       "      <td>7.29</td>\n",
       "      <td>4655907</td>\n",
       "      <td>607499998</td>\n",
       "      <td>103</td>\n",
       "      <td>5898058.0</td>\n",
       "      <td>45202.0</td>\n",
       "    </tr>\n",
       "    <tr>\n",
       "      <th>7</th>\n",
       "      <td>Thriller</td>\n",
       "      <td>6.78</td>\n",
       "      <td>46687896</td>\n",
       "      <td>11448560600</td>\n",
       "      <td>277</td>\n",
       "      <td>41330543.0</td>\n",
       "      <td>168548.0</td>\n",
       "    </tr>\n",
       "    <tr>\n",
       "      <th>8</th>\n",
       "      <td>Musical</td>\n",
       "      <td>7.10</td>\n",
       "      <td>1316149</td>\n",
       "      <td>344582700</td>\n",
       "      <td>11</td>\n",
       "      <td>31325700.0</td>\n",
       "      <td>119649.0</td>\n",
       "    </tr>\n",
       "    <tr>\n",
       "      <th>9</th>\n",
       "      <td>Adventure</td>\n",
       "      <td>7.06</td>\n",
       "      <td>82997791</td>\n",
       "      <td>41129487795</td>\n",
       "      <td>364</td>\n",
       "      <td>112993098.0</td>\n",
       "      <td>228015.0</td>\n",
       "    </tr>\n",
       "    <tr>\n",
       "      <th>10</th>\n",
       "      <td>History</td>\n",
       "      <td>7.39</td>\n",
       "      <td>7615733</td>\n",
       "      <td>1873181799</td>\n",
       "      <td>72</td>\n",
       "      <td>26016413.0</td>\n",
       "      <td>105774.0</td>\n",
       "    </tr>\n",
       "    <tr>\n",
       "      <th>11</th>\n",
       "      <td>Biography</td>\n",
       "      <td>7.48</td>\n",
       "      <td>21404084</td>\n",
       "      <td>5192693999</td>\n",
       "      <td>187</td>\n",
       "      <td>27768417.0</td>\n",
       "      <td>114460.0</td>\n",
       "    </tr>\n",
       "    <tr>\n",
       "      <th>12</th>\n",
       "      <td>Fantasy</td>\n",
       "      <td>6.69</td>\n",
       "      <td>25500287</td>\n",
       "      <td>8913708499</td>\n",
       "      <td>124</td>\n",
       "      <td>71884745.0</td>\n",
       "      <td>205647.0</td>\n",
       "    </tr>\n",
       "    <tr>\n",
       "      <th>13</th>\n",
       "      <td>Mystery</td>\n",
       "      <td>6.88</td>\n",
       "      <td>24098372</td>\n",
       "      <td>4694026000</td>\n",
       "      <td>130</td>\n",
       "      <td>36107892.0</td>\n",
       "      <td>185372.0</td>\n",
       "    </tr>\n",
       "    <tr>\n",
       "      <th>17</th>\n",
       "      <td>Music</td>\n",
       "      <td>7.14</td>\n",
       "      <td>6573015</td>\n",
       "      <td>1823313200</td>\n",
       "      <td>68</td>\n",
       "      <td>26813429.0</td>\n",
       "      <td>96661.0</td>\n",
       "    </tr>\n",
       "    <tr>\n",
       "      <th>19</th>\n",
       "      <td>Western</td>\n",
       "      <td>7.52</td>\n",
       "      <td>2443038</td>\n",
       "      <td>506151100</td>\n",
       "      <td>11</td>\n",
       "      <td>46013736.0</td>\n",
       "      <td>222094.0</td>\n",
       "    </tr>\n",
       "    <tr>\n",
       "      <th>20</th>\n",
       "      <td>Romance</td>\n",
       "      <td>6.66</td>\n",
       "      <td>25908372</td>\n",
       "      <td>5824994700</td>\n",
       "      <td>300</td>\n",
       "      <td>19416649.0</td>\n",
       "      <td>86361.0</td>\n",
       "    </tr>\n",
       "    <tr>\n",
       "      <th>22</th>\n",
       "      <td>Sport</td>\n",
       "      <td>7.31</td>\n",
       "      <td>3648102</td>\n",
       "      <td>999294000</td>\n",
       "      <td>35</td>\n",
       "      <td>28551257.0</td>\n",
       "      <td>104231.0</td>\n",
       "    </tr>\n",
       "    <tr>\n",
       "      <th>23</th>\n",
       "      <td>Animation</td>\n",
       "      <td>7.25</td>\n",
       "      <td>14929064</td>\n",
       "      <td>12950305798</td>\n",
       "      <td>113</td>\n",
       "      <td>114604476.0</td>\n",
       "      <td>132115.0</td>\n",
       "    </tr>\n",
       "    <tr>\n",
       "      <th>25</th>\n",
       "      <td>Action</td>\n",
       "      <td>6.90</td>\n",
       "      <td>100007799</td>\n",
       "      <td>36490448997</td>\n",
       "      <td>518</td>\n",
       "      <td>70444882.0</td>\n",
       "      <td>193065.0</td>\n",
       "    </tr>\n",
       "    <tr>\n",
       "      <th>26</th>\n",
       "      <td>War</td>\n",
       "      <td>7.08</td>\n",
       "      <td>2643994</td>\n",
       "      <td>200781100</td>\n",
       "      <td>23</td>\n",
       "      <td>8729613.0</td>\n",
       "      <td>114956.0</td>\n",
       "    </tr>\n",
       "  </tbody>\n",
       "</table>\n",
       "</div>"
      ],
      "text/plain": [
       "         Genres  Weighted Score      Votes  Domestic Gross  Total Movies  \\\n",
       "0        Family            6.75    8122032      4914445400            81   \n",
       "1         Crime            6.87   38504001      8044572800           258   \n",
       "2         Drama            7.07  116034992     22417474297           950   \n",
       "3        Comedy            6.72   72745599     29377658095           656   \n",
       "4        Horror            6.11   22727000      5109835100           140   \n",
       "5        Sci-Fi            7.13   42663593     14567714999           110   \n",
       "6   Documentary            7.29    4655907       607499998           103   \n",
       "7      Thriller            6.78   46687896     11448560600           277   \n",
       "8       Musical            7.10    1316149       344582700            11   \n",
       "9     Adventure            7.06   82997791     41129487795           364   \n",
       "10      History            7.39    7615733      1873181799            72   \n",
       "11    Biography            7.48   21404084      5192693999           187   \n",
       "12      Fantasy            6.69   25500287      8913708499           124   \n",
       "13      Mystery            6.88   24098372      4694026000           130   \n",
       "17        Music            7.14    6573015      1823313200            68   \n",
       "19      Western            7.52    2443038       506151100            11   \n",
       "20      Romance            6.66   25908372      5824994700           300   \n",
       "22        Sport            7.31    3648102       999294000            35   \n",
       "23    Animation            7.25   14929064     12950305798           113   \n",
       "25       Action            6.90  100007799     36490448997           518   \n",
       "26          War            7.08    2643994       200781100            23   \n",
       "\n",
       "    ADG per Movie  Average Votes per Movie  \n",
       "0      60672165.0                 100272.0  \n",
       "1      31180514.0                 149240.0  \n",
       "2      23597341.0                 122142.0  \n",
       "3      44783015.0                 110892.0  \n",
       "4      36498822.0                 162335.0  \n",
       "5     132433772.0                 387850.0  \n",
       "6       5898058.0                  45202.0  \n",
       "7      41330543.0                 168548.0  \n",
       "8      31325700.0                 119649.0  \n",
       "9     112993098.0                 228015.0  \n",
       "10     26016413.0                 105774.0  \n",
       "11     27768417.0                 114460.0  \n",
       "12     71884745.0                 205647.0  \n",
       "13     36107892.0                 185372.0  \n",
       "17     26813429.0                  96661.0  \n",
       "19     46013736.0                 222094.0  \n",
       "20     19416649.0                  86361.0  \n",
       "22     28551257.0                 104231.0  \n",
       "23    114604476.0                 132115.0  \n",
       "25     70444882.0                 193065.0  \n",
       "26      8729613.0                 114956.0  "
      ]
     },
     "execution_count": 25,
     "metadata": {},
     "output_type": "execute_result"
    }
   ],
   "source": [
    "#Dropping No Genre & News\n",
    "\n",
    "final_df = final_df[final_df['Genres'] != 'No Genre']\n",
    "final_df = final_df[final_df['Genres'] != 'News']\n",
    "\n",
    "\n",
    "final_df"
   ]
  },
  {
   "cell_type": "markdown",
   "metadata": {},
   "source": [
    "## Data Modeling\n",
    "\n",
    "Our analytics took a simple 4 step approach to adress our 3 core questions.\n",
    "\n",
    "* Step 1: Determine the total land scape by first determining which Genre Type was used the most in our dataset\n",
    "* Step 2: Determine the highest Average Domestic Revenue per Genre\n",
    "* Step 3: Determine the highest Average Votes per Genre\n",
    "* Step 4: Determine the highest Weighted Score per Genre\n",
    "* Step 5: Determine the most balanced Genre Combinations in order to provide an adequate reccomendation to Microsoft\n",
    "\n",
    "These steps were purposely put in place in order to isolate those Genres that not only scored the highest ratings, earned the most money and garnered the most engagement, but to also determine of these genre combinations could provide the best competitive entry point for a new film studio.\n",
    "\n",
    "Initial analysis, without using a weighted average on scoring, or a per capita metric on votes and revenue would have yielded analytics that would have skewed our reccomendations towards those segments that had the most movies made. As such, niche metrics had to be created to balance our analytics and provide an optimum reccomendation.\n"
   ]
  },
  {
   "cell_type": "code",
   "execution_count": 44,
   "metadata": {},
   "outputs": [
    {
     "data": {
      "image/png": "[encoded data removed]",
      "text/plain": [
       "<Figure size 720x576 with 1 Axes>"
      ]
     },
     "metadata": {
      "needs_background": "light"
     },
     "output_type": "display_data"
    }
   ],
   "source": [
    "#STEP 1:\n",
    "\n",
    "final_df = final_df.sort_values('Total Movies', ascending = True)\n",
    "\n",
    "avg_total_movies = np.mean(final_df['Total Movies'])\n",
    "\n",
    "plt.figure(figsize=(10, 8))\n",
    "\n",
    "plt.barh(final_df['Genres'], final_df['Total Movies'])\n",
    "\n",
    "# plotting a line to show the average genre popularity\n",
    "plt.vlines(x=avg_total_movies, ymin=-0.5, ymax=20.5, color='red',\n",
    "           linestyles='dashed', label='Average Movies Made')\n",
    "plt.legend()\n",
    "\n",
    "plt.title('Total Movies')\n",
    "plt.xlabel('Movies Made')\n",
    "plt.ylabel('Genres')\n",
    "\n",
    "plt.show()\n",
    "\n"
   ]
  },
  {
   "cell_type": "code",
   "execution_count": 37,
   "metadata": {},
   "outputs": [
    {
     "data": {
      "text/html": [
       "<div>\n",
       "<style scoped>\n",
       "    .dataframe tbody tr th:only-of-type {\n",
       "        vertical-align: middle;\n",
       "    }\n",
       "\n",
       "    .dataframe tbody tr th {\n",
       "        vertical-align: top;\n",
       "    }\n",
       "\n",
       "    .dataframe thead th {\n",
       "        text-align: right;\n",
       "    }\n",
       "</style>\n",
       "<table border=\"1\" class=\"dataframe\">\n",
       "  <thead>\n",
       "    <tr style=\"text-align: right;\">\n",
       "      <th></th>\n",
       "      <th>Genres</th>\n",
       "      <th>Weighted Score</th>\n",
       "      <th>Votes</th>\n",
       "      <th>Domestic Gross</th>\n",
       "      <th>Total Movies</th>\n",
       "      <th>ADG per Movie</th>\n",
       "      <th>Average Votes per Movie</th>\n",
       "    </tr>\n",
       "  </thead>\n",
       "  <tbody>\n",
       "    <tr>\n",
       "      <th>6</th>\n",
       "      <td>Documentary</td>\n",
       "      <td>7.29</td>\n",
       "      <td>4655907</td>\n",
       "      <td>607499998</td>\n",
       "      <td>103</td>\n",
       "      <td>5898058.0</td>\n",
       "      <td>45202.0</td>\n",
       "    </tr>\n",
       "    <tr>\n",
       "      <th>26</th>\n",
       "      <td>War</td>\n",
       "      <td>7.08</td>\n",
       "      <td>2643994</td>\n",
       "      <td>200781100</td>\n",
       "      <td>23</td>\n",
       "      <td>8729613.0</td>\n",
       "      <td>114956.0</td>\n",
       "    </tr>\n",
       "    <tr>\n",
       "      <th>20</th>\n",
       "      <td>Romance</td>\n",
       "      <td>6.66</td>\n",
       "      <td>25908372</td>\n",
       "      <td>5824994700</td>\n",
       "      <td>300</td>\n",
       "      <td>19416649.0</td>\n",
       "      <td>86361.0</td>\n",
       "    </tr>\n",
       "    <tr>\n",
       "      <th>2</th>\n",
       "      <td>Drama</td>\n",
       "      <td>7.07</td>\n",
       "      <td>116034992</td>\n",
       "      <td>22417474297</td>\n",
       "      <td>950</td>\n",
       "      <td>23597341.0</td>\n",
       "      <td>122142.0</td>\n",
       "    </tr>\n",
       "    <tr>\n",
       "      <th>10</th>\n",
       "      <td>History</td>\n",
       "      <td>7.39</td>\n",
       "      <td>7615733</td>\n",
       "      <td>1873181799</td>\n",
       "      <td>72</td>\n",
       "      <td>26016413.0</td>\n",
       "      <td>105774.0</td>\n",
       "    </tr>\n",
       "    <tr>\n",
       "      <th>17</th>\n",
       "      <td>Music</td>\n",
       "      <td>7.14</td>\n",
       "      <td>6573015</td>\n",
       "      <td>1823313200</td>\n",
       "      <td>68</td>\n",
       "      <td>26813429.0</td>\n",
       "      <td>96661.0</td>\n",
       "    </tr>\n",
       "    <tr>\n",
       "      <th>11</th>\n",
       "      <td>Biography</td>\n",
       "      <td>7.48</td>\n",
       "      <td>21404084</td>\n",
       "      <td>5192693999</td>\n",
       "      <td>187</td>\n",
       "      <td>27768417.0</td>\n",
       "      <td>114460.0</td>\n",
       "    </tr>\n",
       "    <tr>\n",
       "      <th>22</th>\n",
       "      <td>Sport</td>\n",
       "      <td>7.31</td>\n",
       "      <td>3648102</td>\n",
       "      <td>999294000</td>\n",
       "      <td>35</td>\n",
       "      <td>28551257.0</td>\n",
       "      <td>104231.0</td>\n",
       "    </tr>\n",
       "    <tr>\n",
       "      <th>1</th>\n",
       "      <td>Crime</td>\n",
       "      <td>6.87</td>\n",
       "      <td>38504001</td>\n",
       "      <td>8044572800</td>\n",
       "      <td>258</td>\n",
       "      <td>31180514.0</td>\n",
       "      <td>149240.0</td>\n",
       "    </tr>\n",
       "    <tr>\n",
       "      <th>8</th>\n",
       "      <td>Musical</td>\n",
       "      <td>7.10</td>\n",
       "      <td>1316149</td>\n",
       "      <td>344582700</td>\n",
       "      <td>11</td>\n",
       "      <td>31325700.0</td>\n",
       "      <td>119649.0</td>\n",
       "    </tr>\n",
       "    <tr>\n",
       "      <th>13</th>\n",
       "      <td>Mystery</td>\n",
       "      <td>6.88</td>\n",
       "      <td>24098372</td>\n",
       "      <td>4694026000</td>\n",
       "      <td>130</td>\n",
       "      <td>36107892.0</td>\n",
       "      <td>185372.0</td>\n",
       "    </tr>\n",
       "    <tr>\n",
       "      <th>4</th>\n",
       "      <td>Horror</td>\n",
       "      <td>6.11</td>\n",
       "      <td>22727000</td>\n",
       "      <td>5109835100</td>\n",
       "      <td>140</td>\n",
       "      <td>36498822.0</td>\n",
       "      <td>162335.0</td>\n",
       "    </tr>\n",
       "    <tr>\n",
       "      <th>7</th>\n",
       "      <td>Thriller</td>\n",
       "      <td>6.78</td>\n",
       "      <td>46687896</td>\n",
       "      <td>11448560600</td>\n",
       "      <td>277</td>\n",
       "      <td>41330543.0</td>\n",
       "      <td>168548.0</td>\n",
       "    </tr>\n",
       "    <tr>\n",
       "      <th>3</th>\n",
       "      <td>Comedy</td>\n",
       "      <td>6.72</td>\n",
       "      <td>72745599</td>\n",
       "      <td>29377658095</td>\n",
       "      <td>656</td>\n",
       "      <td>44783015.0</td>\n",
       "      <td>110892.0</td>\n",
       "    </tr>\n",
       "    <tr>\n",
       "      <th>19</th>\n",
       "      <td>Western</td>\n",
       "      <td>7.52</td>\n",
       "      <td>2443038</td>\n",
       "      <td>506151100</td>\n",
       "      <td>11</td>\n",
       "      <td>46013736.0</td>\n",
       "      <td>222094.0</td>\n",
       "    </tr>\n",
       "    <tr>\n",
       "      <th>0</th>\n",
       "      <td>Family</td>\n",
       "      <td>6.75</td>\n",
       "      <td>8122032</td>\n",
       "      <td>4914445400</td>\n",
       "      <td>81</td>\n",
       "      <td>60672165.0</td>\n",
       "      <td>100272.0</td>\n",
       "    </tr>\n",
       "    <tr>\n",
       "      <th>25</th>\n",
       "      <td>Action</td>\n",
       "      <td>6.90</td>\n",
       "      <td>100007799</td>\n",
       "      <td>36490448997</td>\n",
       "      <td>518</td>\n",
       "      <td>70444882.0</td>\n",
       "      <td>193065.0</td>\n",
       "    </tr>\n",
       "    <tr>\n",
       "      <th>12</th>\n",
       "      <td>Fantasy</td>\n",
       "      <td>6.69</td>\n",
       "      <td>25500287</td>\n",
       "      <td>8913708499</td>\n",
       "      <td>124</td>\n",
       "      <td>71884745.0</td>\n",
       "      <td>205647.0</td>\n",
       "    </tr>\n",
       "    <tr>\n",
       "      <th>9</th>\n",
       "      <td>Adventure</td>\n",
       "      <td>7.06</td>\n",
       "      <td>82997791</td>\n",
       "      <td>41129487795</td>\n",
       "      <td>364</td>\n",
       "      <td>112993098.0</td>\n",
       "      <td>228015.0</td>\n",
       "    </tr>\n",
       "    <tr>\n",
       "      <th>23</th>\n",
       "      <td>Animation</td>\n",
       "      <td>7.25</td>\n",
       "      <td>14929064</td>\n",
       "      <td>12950305798</td>\n",
       "      <td>113</td>\n",
       "      <td>114604476.0</td>\n",
       "      <td>132115.0</td>\n",
       "    </tr>\n",
       "    <tr>\n",
       "      <th>5</th>\n",
       "      <td>Sci-Fi</td>\n",
       "      <td>7.13</td>\n",
       "      <td>42663593</td>\n",
       "      <td>14567714999</td>\n",
       "      <td>110</td>\n",
       "      <td>132433772.0</td>\n",
       "      <td>387850.0</td>\n",
       "    </tr>\n",
       "  </tbody>\n",
       "</table>\n",
       "</div>"
      ],
      "text/plain": [
       "         Genres  Weighted Score      Votes  Domestic Gross  Total Movies  \\\n",
       "6   Documentary            7.29    4655907       607499998           103   \n",
       "26          War            7.08    2643994       200781100            23   \n",
       "20      Romance            6.66   25908372      5824994700           300   \n",
       "2         Drama            7.07  116034992     22417474297           950   \n",
       "10      History            7.39    7615733      1873181799            72   \n",
       "17        Music            7.14    6573015      1823313200            68   \n",
       "11    Biography            7.48   21404084      5192693999           187   \n",
       "22        Sport            7.31    3648102       999294000            35   \n",
       "1         Crime            6.87   38504001      8044572800           258   \n",
       "8       Musical            7.10    1316149       344582700            11   \n",
       "13      Mystery            6.88   24098372      4694026000           130   \n",
       "4        Horror            6.11   22727000      5109835100           140   \n",
       "7      Thriller            6.78   46687896     11448560600           277   \n",
       "3        Comedy            6.72   72745599     29377658095           656   \n",
       "19      Western            7.52    2443038       506151100            11   \n",
       "0        Family            6.75    8122032      4914445400            81   \n",
       "25       Action            6.90  100007799     36490448997           518   \n",
       "12      Fantasy            6.69   25500287      8913708499           124   \n",
       "9     Adventure            7.06   82997791     41129487795           364   \n",
       "23    Animation            7.25   14929064     12950305798           113   \n",
       "5        Sci-Fi            7.13   42663593     14567714999           110   \n",
       "\n",
       "    ADG per Movie  Average Votes per Movie  \n",
       "6       5898058.0                  45202.0  \n",
       "26      8729613.0                 114956.0  \n",
       "20     19416649.0                  86361.0  \n",
       "2      23597341.0                 122142.0  \n",
       "10     26016413.0                 105774.0  \n",
       "17     26813429.0                  96661.0  \n",
       "11     27768417.0                 114460.0  \n",
       "22     28551257.0                 104231.0  \n",
       "1      31180514.0                 149240.0  \n",
       "8      31325700.0                 119649.0  \n",
       "13     36107892.0                 185372.0  \n",
       "4      36498822.0                 162335.0  \n",
       "7      41330543.0                 168548.0  \n",
       "3      44783015.0                 110892.0  \n",
       "19     46013736.0                 222094.0  \n",
       "0      60672165.0                 100272.0  \n",
       "25     70444882.0                 193065.0  \n",
       "12     71884745.0                 205647.0  \n",
       "9     112993098.0                 228015.0  \n",
       "23    114604476.0                 132115.0  \n",
       "5     132433772.0                 387850.0  "
      ]
     },
     "execution_count": 37,
     "metadata": {},
     "output_type": "execute_result"
    }
   ],
   "source": [
    "final_df.sort_values('ADG per Movie', ascending = True)"
   ]
  },
  {
   "cell_type": "code",
   "execution_count": 62,
   "metadata": {},
   "outputs": [
    {
     "data": {
      "text/plain": [
       "Text(0, 0.5, 'Genres')"
      ]
     },
     "execution_count": 62,
     "metadata": {},
     "output_type": "execute_result"
    },
    {
     "data": {
      "image/png": "[encoded data removed]",
      "text/plain": [
       "<Figure size 720x576 with 1 Axes>"
      ]
     },
     "metadata": {
      "needs_background": "light"
     },
     "output_type": "display_data"
    }
   ],
   "source": [
    "# #STEP 2:\n",
    "\n",
    "final_df = final_df.sort_values('ADG per Movie', ascending = True)\n",
    "\n",
    "avg_adg = np.mean(final_df['ADG per Movie'])\n",
    "\n",
    "plt.figure(figsize=(10, 8))\n",
    "\n",
    "plt.barh(final_df['Genres'], final_df['ADG per Movie'])\n",
    "\n",
    "# plotting a line to show the average genre popularity\n",
    "plt.vlines(x=avg_adg, ymin=-0.5, ymax=20.5, color='red',\n",
    "           linestyles='dashed', label='Average Gross per Movie')\n",
    "plt.legend()\n",
    "\n",
    "plt.title('Average Domestic Gross')\n",
    "plt.xlabel('Average Domestic Gross per Movie')\n",
    "plt.ylabel('Genres')"
   ]
  },
  {
   "cell_type": "code",
   "execution_count": 61,
   "metadata": {},
   "outputs": [
    {
     "data": {
      "text/plain": [
       "47479263.666666664"
      ]
     },
     "execution_count": 61,
     "metadata": {},
     "output_type": "execute_result"
    }
   ],
   "source": [
    "avg_adg"
   ]
  },
  {
   "cell_type": "code",
   "execution_count": 59,
   "metadata": {},
   "outputs": [
    {
     "data": {
      "text/plain": [
       "Text(0, 0.5, 'Genres')"
      ]
     },
     "execution_count": 59,
     "metadata": {},
     "output_type": "execute_result"
    },
    {
     "data": {
      "image/png": "[encoded data removed]",
      "text/plain": [
       "<Figure size 720x576 with 1 Axes>"
      ]
     },
     "metadata": {
      "needs_background": "light"
     },
     "output_type": "display_data"
    }
   ],
   "source": [
    "#STEP 3:\n",
    "\n",
    "#Bar Chart to determine highest Average Votes per Genre\n",
    "\n",
    "final_df = final_df.sort_values('Average Votes per Movie', ascending = True)\n",
    "\n",
    "avg_votes = np.mean(final_df['Average Votes per Movie'])\n",
    "\n",
    "plt.figure(figsize=(10, 8))\n",
    "\n",
    "plt.barh(final_df['Genres'], final_df['Average Votes per Movie'])\n",
    "\n",
    "# plotting a line to show the average genre popularity\n",
    "plt.vlines(x=avg_votes, ymin=-0.5, ymax=20.5, color='red',\n",
    "           linestyles='dashed', label='Average Gross per Movie')\n",
    "plt.legend()\n",
    "\n",
    "plt.title('Average Votes per Movie')\n",
    "plt.xlabel('Movies Made')\n",
    "plt.ylabel('Genres')"
   ]
  },
  {
   "cell_type": "code",
   "execution_count": 58,
   "metadata": {},
   "outputs": [
    {
     "data": {
      "text/plain": [
       "Text(0, 0.5, 'Genres')"
      ]
     },
     "execution_count": 58,
     "metadata": {},
     "output_type": "execute_result"
    },
    {
     "data": {
      "image/png": "[encoded data removed]",
      "text/plain": [
       "<Figure size 720x576 with 1 Axes>"
      ]
     },
     "metadata": {
      "needs_background": "light"
     },
     "output_type": "display_data"
    }
   ],
   "source": [
    "#STEP 4:\n",
    "\n",
    "#Bar Chart to determine highest weighted score\n",
    "\n",
    "final_df = final_df.sort_values('Weighted Score', ascending = True)\n",
    "\n",
    "avg_ws = np.mean(final_df['Weighted Score'])\n",
    "\n",
    "plt.figure(figsize=(10, 8))\n",
    "\n",
    "plt.barh(final_df['Genres'], final_df['Weighted Score'])\n",
    "\n",
    "# plotting a line to show the average genre popularity\n",
    "plt.vlines(x=avg_ws, ymin=-0.5, ymax=20.5, color='red',\n",
    "           linestyles='dashed', label='Average Weighted Score')\n",
    "plt.legend()\n",
    "\n",
    "plt.title('Weighted Score')\n",
    "plt.xlabel('Weighted Score')\n",
    "plt.ylabel('Genres')"
   ]
  },
  {
   "cell_type": "code",
   "execution_count": 102,
   "metadata": {},
   "outputs": [
    {
     "data": {
      "application/vnd.plotly.v1+json": {
       "config": {
        "plotlyServerURL": "https://plot.ly"
       },
       "data": [
        {
         "hovertemplate": "<b>%{hovertext}</b><br><br>Genres=Documentary<br>Average Votes per Movie=%{x}<br>Weighted Score=%{y}<br>ADG per Movie=%{marker.size}<extra></extra>",
         "hovertext": [
          "Documentary"
         ],
         "legendgroup": "Documentary",
         "marker": {
          "color": "#636efa",
          "size": [
           5898058
          ],
          "sizemode": "area",
          "sizeref": 36787.15888888889,
          "symbol": "circle"
         },
         "mode": "markers",
         "name": "Documentary",
         "orientation": "v",
         "showlegend": true,
         "type": "scatter",
         "x": [
          45202
         ],
         "xaxis": "x",
         "y": [
          7.29
         ],
         "yaxis": "y"
        },
        {
         "hovertemplate": "<b>%{hovertext}</b><br><br>Genres=War<br>Average Votes per Movie=%{x}<br>Weighted Score=%{y}<br>ADG per Movie=%{marker.size}<extra></extra>",
         "hovertext": [
          "War"
         ],
         "legendgroup": "War",
         "marker": {
          "color": "#EF553B",
          "size": [
           8729613
          ],
          "sizemode": "area",
          "sizeref": 36787.15888888889,
          "symbol": "circle"
         },
         "mode": "markers",
         "name": "War",
         "orientation": "v",
         "showlegend": true,
         "type": "scatter",
         "x": [
          114956
         ],
         "xaxis": "x",
         "y": [
          7.08
         ],
         "yaxis": "y"
        },
        {
         "hovertemplate": "<b>%{hovertext}</b><br><br>Genres=Romance<br>Average Votes per Movie=%{x}<br>Weighted Score=%{y}<br>ADG per Movie=%{marker.size}<extra></extra>",
         "hovertext": [
          "Romance"
         ],
         "legendgroup": "Romance",
         "marker": {
          "color": "#00cc96",
          "size": [
           19416649
          ],
          "sizemode": "area",
          "sizeref": 36787.15888888889,
          "symbol": "circle"
         },
         "mode": "markers",
         "name": "Romance",
         "orientation": "v",
         "showlegend": true,
         "type": "scatter",
         "x": [
          86361
         ],
         "xaxis": "x",
         "y": [
          6.66
         ],
         "yaxis": "y"
        },
        {
         "hovertemplate": "<b>%{hovertext}</b><br><br>Genres=Drama<br>Average Votes per Movie=%{x}<br>Weighted Score=%{y}<br>ADG per Movie=%{marker.size}<extra></extra>",
         "hovertext": [
          "Drama"
         ],
         "legendgroup": "Drama",
         "marker": {
          "color": "#ab63fa",
          "size": [
           23597341
          ],
          "sizemode": "area",
          "sizeref": 36787.15888888889,
          "symbol": "circle"
         },
         "mode": "markers",
         "name": "Drama",
         "orientation": "v",
         "showlegend": true,
         "type": "scatter",
         "x": [
          122142
         ],
         "xaxis": "x",
         "y": [
          7.07
         ],
         "yaxis": "y"
        },
        {
         "hovertemplate": "<b>%{hovertext}</b><br><br>Genres=History<br>Average Votes per Movie=%{x}<br>Weighted Score=%{y}<br>ADG per Movie=%{marker.size}<extra></extra>",
         "hovertext": [
          "History"
         ],
         "legendgroup": "History",
         "marker": {
          "color": "#FFA15A",
          "size": [
           26016413
          ],
          "sizemode": "area",
          "sizeref": 36787.15888888889,
          "symbol": "circle"
         },
         "mode": "markers",
         "name": "History",
         "orientation": "v",
         "showlegend": true,
         "type": "scatter",
         "x": [
          105774
         ],
         "xaxis": "x",
         "y": [
          7.39
         ],
         "yaxis": "y"
        },
        {
         "hovertemplate": "<b>%{hovertext}</b><br><br>Genres=Music<br>Average Votes per Movie=%{x}<br>Weighted Score=%{y}<br>ADG per Movie=%{marker.size}<extra></extra>",
         "hovertext": [
          "Music"
         ],
         "legendgroup": "Music",
         "marker": {
          "color": "#19d3f3",
          "size": [
           26813429
          ],
          "sizemode": "area",
          "sizeref": 36787.15888888889,
          "symbol": "circle"
         },
         "mode": "markers",
         "name": "Music",
         "orientation": "v",
         "showlegend": true,
         "type": "scatter",
         "x": [
          96661
         ],
         "xaxis": "x",
         "y": [
          7.14
         ],
         "yaxis": "y"
        },
        {
         "hovertemplate": "<b>%{hovertext}</b><br><br>Genres=Biography<br>Average Votes per Movie=%{x}<br>Weighted Score=%{y}<br>ADG per Movie=%{marker.size}<extra></extra>",
         "hovertext": [
          "Biography"
         ],
         "legendgroup": "Biography",
         "marker": {
          "color": "#FF6692",
          "size": [
           27768417
          ],
          "sizemode": "area",
          "sizeref": 36787.15888888889,
          "symbol": "circle"
         },
         "mode": "markers",
         "name": "Biography",
         "orientation": "v",
         "showlegend": true,
         "type": "scatter",
         "x": [
          114460
         ],
         "xaxis": "x",
         "y": [
          7.48
         ],
         "yaxis": "y"
        },
        {
         "hovertemplate": "<b>%{hovertext}</b><br><br>Genres=Sport<br>Average Votes per Movie=%{x}<br>Weighted Score=%{y}<br>ADG per Movie=%{marker.size}<extra></extra>",
         "hovertext": [
          "Sport"
         ],
         "legendgroup": "Sport",
         "marker": {
          "color": "#B6E880",
          "size": [
           28551257
          ],
          "sizemode": "area",
          "sizeref": 36787.15888888889,
          "symbol": "circle"
         },
         "mode": "markers",
         "name": "Sport",
         "orientation": "v",
         "showlegend": true,
         "type": "scatter",
         "x": [
          104231
         ],
         "xaxis": "x",
         "y": [
          7.31
         ],
         "yaxis": "y"
        },
        {
         "hovertemplate": "<b>%{hovertext}</b><br><br>Genres=Crime<br>Average Votes per Movie=%{x}<br>Weighted Score=%{y}<br>ADG per Movie=%{marker.size}<extra></extra>",
         "hovertext": [
          "Crime"
         ],
         "legendgroup": "Crime",
         "marker": {
          "color": "#FF97FF",
          "size": [
           31180514
          ],
          "sizemode": "area",
          "sizeref": 36787.15888888889,
          "symbol": "circle"
         },
         "mode": "markers",
         "name": "Crime",
         "orientation": "v",
         "showlegend": true,
         "type": "scatter",
         "x": [
          149240
         ],
         "xaxis": "x",
         "y": [
          6.87
         ],
         "yaxis": "y"
        },
        {
         "hovertemplate": "<b>%{hovertext}</b><br><br>Genres=Musical<br>Average Votes per Movie=%{x}<br>Weighted Score=%{y}<br>ADG per Movie=%{marker.size}<extra></extra>",
         "hovertext": [
          "Musical"
         ],
         "legendgroup": "Musical",
         "marker": {
          "color": "#FECB52",
          "size": [
           31325700
          ],
          "sizemode": "area",
          "sizeref": 36787.15888888889,
          "symbol": "circle"
         },
         "mode": "markers",
         "name": "Musical",
         "orientation": "v",
         "showlegend": true,
         "type": "scatter",
         "x": [
          119649
         ],
         "xaxis": "x",
         "y": [
          7.1
         ],
         "yaxis": "y"
        },
        {
         "hovertemplate": "<b>%{hovertext}</b><br><br>Genres=Mystery<br>Average Votes per Movie=%{x}<br>Weighted Score=%{y}<br>ADG per Movie=%{marker.size}<extra></extra>",
         "hovertext": [
          "Mystery"
         ],
         "legendgroup": "Mystery",
         "marker": {
          "color": "#636efa",
          "size": [
           36107892
          ],
          "sizemode": "area",
          "sizeref": 36787.15888888889,
          "symbol": "circle"
         },
         "mode": "markers",
         "name": "Mystery",
         "orientation": "v",
         "showlegend": true,
         "type": "scatter",
         "x": [
          185372
         ],
         "xaxis": "x",
         "y": [
          6.88
         ],
         "yaxis": "y"
        },
        {
         "hovertemplate": "<b>%{hovertext}</b><br><br>Genres=Horror<br>Average Votes per Movie=%{x}<br>Weighted Score=%{y}<br>ADG per Movie=%{marker.size}<extra></extra>",
         "hovertext": [
          "Horror"
         ],
         "legendgroup": "Horror",
         "marker": {
          "color": "#EF553B",
          "size": [
           36498822
          ],
          "sizemode": "area",
          "sizeref": 36787.15888888889,
          "symbol": "circle"
         },
         "mode": "markers",
         "name": "Horror",
         "orientation": "v",
         "showlegend": true,
         "type": "scatter",
         "x": [
          162335
         ],
         "xaxis": "x",
         "y": [
          6.11
         ],
         "yaxis": "y"
        },
        {
         "hovertemplate": "<b>%{hovertext}</b><br><br>Genres=Thriller<br>Average Votes per Movie=%{x}<br>Weighted Score=%{y}<br>ADG per Movie=%{marker.size}<extra></extra>",
         "hovertext": [
          "Thriller"
         ],
         "legendgroup": "Thriller",
         "marker": {
          "color": "#00cc96",
          "size": [
           41330543
          ],
          "sizemode": "area",
          "sizeref": 36787.15888888889,
          "symbol": "circle"
         },
         "mode": "markers",
         "name": "Thriller",
         "orientation": "v",
         "showlegend": true,
         "type": "scatter",
         "x": [
          168548
         ],
         "xaxis": "x",
         "y": [
          6.78
         ],
         "yaxis": "y"
        },
        {
         "hovertemplate": "<b>%{hovertext}</b><br><br>Genres=Comedy<br>Average Votes per Movie=%{x}<br>Weighted Score=%{y}<br>ADG per Movie=%{marker.size}<extra></extra>",
         "hovertext": [
          "Comedy"
         ],
         "legendgroup": "Comedy",
         "marker": {
          "color": "#ab63fa",
          "size": [
           44783015
          ],
          "sizemode": "area",
          "sizeref": 36787.15888888889,
          "symbol": "circle"
         },
         "mode": "markers",
         "name": "Comedy",
         "orientation": "v",
         "showlegend": true,
         "type": "scatter",
         "x": [
          110892
         ],
         "xaxis": "x",
         "y": [
          6.72
         ],
         "yaxis": "y"
        },
        {
         "hovertemplate": "<b>%{hovertext}</b><br><br>Genres=Western<br>Average Votes per Movie=%{x}<br>Weighted Score=%{y}<br>ADG per Movie=%{marker.size}<extra></extra>",
         "hovertext": [
          "Western"
         ],
         "legendgroup": "Western",
         "marker": {
          "color": "#FFA15A",
          "size": [
           46013736
          ],
          "sizemode": "area",
          "sizeref": 36787.15888888889,
          "symbol": "circle"
         },
         "mode": "markers",
         "name": "Western",
         "orientation": "v",
         "showlegend": true,
         "type": "scatter",
         "x": [
          222094
         ],
         "xaxis": "x",
         "y": [
          7.52
         ],
         "yaxis": "y"
        },
        {
         "hovertemplate": "<b>%{hovertext}</b><br><br>Genres=Family<br>Average Votes per Movie=%{x}<br>Weighted Score=%{y}<br>ADG per Movie=%{marker.size}<extra></extra>",
         "hovertext": [
          "Family"
         ],
         "legendgroup": "Family",
         "marker": {
          "color": "#19d3f3",
          "size": [
           60672165
          ],
          "sizemode": "area",
          "sizeref": 36787.15888888889,
          "symbol": "circle"
         },
         "mode": "markers",
         "name": "Family",
         "orientation": "v",
         "showlegend": true,
         "type": "scatter",
         "x": [
          100272
         ],
         "xaxis": "x",
         "y": [
          6.75
         ],
         "yaxis": "y"
        },
        {
         "hovertemplate": "<b>%{hovertext}</b><br><br>Genres=Action<br>Average Votes per Movie=%{x}<br>Weighted Score=%{y}<br>ADG per Movie=%{marker.size}<extra></extra>",
         "hovertext": [
          "Action"
         ],
         "legendgroup": "Action",
         "marker": {
          "color": "#FF6692",
          "size": [
           70444882
          ],
          "sizemode": "area",
          "sizeref": 36787.15888888889,
          "symbol": "circle"
         },
         "mode": "markers",
         "name": "Action",
         "orientation": "v",
         "showlegend": true,
         "type": "scatter",
         "x": [
          193065
         ],
         "xaxis": "x",
         "y": [
          6.9
         ],
         "yaxis": "y"
        },
        {
         "hovertemplate": "<b>%{hovertext}</b><br><br>Genres=Fantasy<br>Average Votes per Movie=%{x}<br>Weighted Score=%{y}<br>ADG per Movie=%{marker.size}<extra></extra>",
         "hovertext": [
          "Fantasy"
         ],
         "legendgroup": "Fantasy",
         "marker": {
          "color": "#B6E880",
          "size": [
           71884745
          ],
          "sizemode": "area",
          "sizeref": 36787.15888888889,
          "symbol": "circle"
         },
         "mode": "markers",
         "name": "Fantasy",
         "orientation": "v",
         "showlegend": true,
         "type": "scatter",
         "x": [
          205647
         ],
         "xaxis": "x",
         "y": [
          6.69
         ],
         "yaxis": "y"
        },
        {
         "hovertemplate": "<b>%{hovertext}</b><br><br>Genres=Adventure<br>Average Votes per Movie=%{x}<br>Weighted Score=%{y}<br>ADG per Movie=%{marker.size}<extra></extra>",
         "hovertext": [
          "Adventure"
         ],
         "legendgroup": "Adventure",
         "marker": {
          "color": "#FF97FF",
          "size": [
           112993098
          ],
          "sizemode": "area",
          "sizeref": 36787.15888888889,
          "symbol": "circle"
         },
         "mode": "markers",
         "name": "Adventure",
         "orientation": "v",
         "showlegend": true,
         "type": "scatter",
         "x": [
          228015
         ],
         "xaxis": "x",
         "y": [
          7.06
         ],
         "yaxis": "y"
        },
        {
         "hovertemplate": "<b>%{hovertext}</b><br><br>Genres=Animation<br>Average Votes per Movie=%{x}<br>Weighted Score=%{y}<br>ADG per Movie=%{marker.size}<extra></extra>",
         "hovertext": [
          "Animation"
         ],
         "legendgroup": "Animation",
         "marker": {
          "color": "#FECB52",
          "size": [
           114604476
          ],
          "sizemode": "area",
          "sizeref": 36787.15888888889,
          "symbol": "circle"
         },
         "mode": "markers",
         "name": "Animation",
         "orientation": "v",
         "showlegend": true,
         "type": "scatter",
         "x": [
          132115
         ],
         "xaxis": "x",
         "y": [
          7.25
         ],
         "yaxis": "y"
        },
        {
         "hovertemplate": "<b>%{hovertext}</b><br><br>Genres=Sci-Fi<br>Average Votes per Movie=%{x}<br>Weighted Score=%{y}<br>ADG per Movie=%{marker.size}<extra></extra>",
         "hovertext": [
          "Sci-Fi"
         ],
         "legendgroup": "Sci-Fi",
         "marker": {
          "color": "#636efa",
          "size": [
           132433772
          ],
          "sizemode": "area",
          "sizeref": 36787.15888888889,
          "symbol": "circle"
         },
         "mode": "markers",
         "name": "Sci-Fi",
         "orientation": "v",
         "showlegend": true,
         "type": "scatter",
         "x": [
          387850
         ],
         "xaxis": "x",
         "y": [
          7.13
         ],
         "yaxis": "y"
        }
       ],
       "layout": {
        "legend": {
         "itemsizing": "constant",
         "title": {
          "text": "Genres"
         },
         "tracegroupgap": 0
        },
        "template": {
         "data": {
          "bar": [
           {
            "error_x": {
             "color": "#2a3f5f"
            },
            "error_y": {
             "color": "#2a3f5f"
            },
            "marker": {
             "line": {
              "color": "#E5ECF6",
              "width": 0.5
             }
            },
            "type": "bar"
           }
          ],
          "barpolar": [
           {
            "marker": {
             "line": {
              "color": "#E5ECF6",
              "width": 0.5
             }
            },
            "type": "barpolar"
           }
          ],
          "carpet": [
           {
            "aaxis": {
             "endlinecolor": "#2a3f5f",
             "gridcolor": "white",
             "linecolor": "white",
             "minorgridcolor": "white",
             "startlinecolor": "#2a3f5f"
            },
            "baxis": {
             "endlinecolor": "#2a3f5f",
             "gridcolor": "white",
             "linecolor": "white",
             "minorgridcolor": "white",
             "startlinecolor": "#2a3f5f"
            },
            "type": "carpet"
           }
          ],
          "choropleth": [
           {
            "colorbar": {
             "outlinewidth": 0,
             "ticks": ""
            },
            "type": "choropleth"
           }
          ],
          "contour": [
           {
            "colorbar": {
             "outlinewidth": 0,
             "ticks": ""
            },
            "colorscale": [
             [
              0,
              "#0d0887"
             ],
             [
              0.1111111111111111,
              "#46039f"
             ],
             [
              0.2222222222222222,
              "#7201a8"
             ],
             [
              0.3333333333333333,
              "#9c179e"
             ],
             [
              0.4444444444444444,
              "#bd3786"
             ],
             [
              0.5555555555555556,
              "#d8576b"
             ],
             [
              0.6666666666666666,
              "#ed7953"
             ],
             [
              0.7777777777777778,
              "#fb9f3a"
             ],
             [
              0.8888888888888888,
              "#fdca26"
             ],
             [
              1,
              "#f0f921"
             ]
            ],
            "type": "contour"
           }
          ],
          "contourcarpet": [
           {
            "colorbar": {
             "outlinewidth": 0,
             "ticks": ""
            },
            "type": "contourcarpet"
           }
          ],
          "heatmap": [
           {
            "colorbar": {
             "outlinewidth": 0,
             "ticks": ""
            },
            "colorscale": [
             [
              0,
              "#0d0887"
             ],
             [
              0.1111111111111111,
              "#46039f"
             ],
             [
              0.2222222222222222,
              "#7201a8"
             ],
             [
              0.3333333333333333,
              "#9c179e"
             ],
             [
              0.4444444444444444,
              "#bd3786"
             ],
             [
              0.5555555555555556,
              "#d8576b"
             ],
             [
              0.6666666666666666,
              "#ed7953"
             ],
             [
              0.7777777777777778,
              "#fb9f3a"
             ],
             [
              0.8888888888888888,
              "#fdca26"
             ],
             [
              1,
              "#f0f921"
             ]
            ],
            "type": "heatmap"
           }
          ],
          "heatmapgl": [
           {
            "colorbar": {
             "outlinewidth": 0,
             "ticks": ""
            },
            "colorscale": [
             [
              0,
              "#0d0887"
             ],
             [
              0.1111111111111111,
              "#46039f"
             ],
             [
              0.2222222222222222,
              "#7201a8"
             ],
             [
              0.3333333333333333,
              "#9c179e"
             ],
             [
              0.4444444444444444,
              "#bd3786"
             ],
             [
              0.5555555555555556,
              "#d8576b"
             ],
             [
              0.6666666666666666,
              "#ed7953"
             ],
             [
              0.7777777777777778,
              "#fb9f3a"
             ],
             [
              0.8888888888888888,
              "#fdca26"
             ],
             [
              1,
              "#f0f921"
             ]
            ],
            "type": "heatmapgl"
           }
          ],
          "histogram": [
           {
            "marker": {
             "colorbar": {
              "outlinewidth": 0,
              "ticks": ""
             }
            },
            "type": "histogram"
           }
          ],
          "histogram2d": [
           {
            "colorbar": {
             "outlinewidth": 0,
             "ticks": ""
            },
            "colorscale": [
             [
              0,
              "#0d0887"
             ],
             [
              0.1111111111111111,
              "#46039f"
             ],
             [
              0.2222222222222222,
              "#7201a8"
             ],
             [
              0.3333333333333333,
              "#9c179e"
             ],
             [
              0.4444444444444444,
              "#bd3786"
             ],
             [
              0.5555555555555556,
              "#d8576b"
             ],
             [
              0.6666666666666666,
              "#ed7953"
             ],
             [
              0.7777777777777778,
              "#fb9f3a"
             ],
             [
              0.8888888888888888,
              "#fdca26"
             ],
             [
              1,
              "#f0f921"
             ]
            ],
            "type": "histogram2d"
           }
          ],
          "histogram2dcontour": [
           {
            "colorbar": {
             "outlinewidth": 0,
             "ticks": ""
            },
            "colorscale": [
             [
              0,
              "#0d0887"
             ],
             [
              0.1111111111111111,
              "#46039f"
             ],
             [
              0.2222222222222222,
              "#7201a8"
             ],
             [
              0.3333333333333333,
              "#9c179e"
             ],
             [
              0.4444444444444444,
              "#bd3786"
             ],
             [
              0.5555555555555556,
              "#d8576b"
             ],
             [
              0.6666666666666666,
              "#ed7953"
             ],
             [
              0.7777777777777778,
              "#fb9f3a"
             ],
             [
              0.8888888888888888,
              "#fdca26"
             ],
             [
              1,
              "#f0f921"
             ]
            ],
            "type": "histogram2dcontour"
           }
          ],
          "mesh3d": [
           {
            "colorbar": {
             "outlinewidth": 0,
             "ticks": ""
            },
            "type": "mesh3d"
           }
          ],
          "parcoords": [
           {
            "line": {
             "colorbar": {
              "outlinewidth": 0,
              "ticks": ""
             }
            },
            "type": "parcoords"
           }
          ],
          "pie": [
           {
            "automargin": true,
            "type": "pie"
           }
          ],
          "scatter": [
           {
            "marker": {
             "colorbar": {
              "outlinewidth": 0,
              "ticks": ""
             }
            },
            "type": "scatter"
           }
          ],
          "scatter3d": [
           {
            "line": {
             "colorbar": {
              "outlinewidth": 0,
              "ticks": ""
             }
            },
            "marker": {
             "colorbar": {
              "outlinewidth": 0,
              "ticks": ""
             }
            },
            "type": "scatter3d"
           }
          ],
          "scattercarpet": [
           {
            "marker": {
             "colorbar": {
              "outlinewidth": 0,
              "ticks": ""
             }
            },
            "type": "scattercarpet"
           }
          ],
          "scattergeo": [
           {
            "marker": {
             "colorbar": {
              "outlinewidth": 0,
              "ticks": ""
             }
            },
            "type": "scattergeo"
           }
          ],
          "scattergl": [
           {
            "marker": {
             "colorbar": {
              "outlinewidth": 0,
              "ticks": ""
             }
            },
            "type": "scattergl"
           }
          ],
          "scattermapbox": [
           {
            "marker": {
             "colorbar": {
              "outlinewidth": 0,
              "ticks": ""
             }
            },
            "type": "scattermapbox"
           }
          ],
          "scatterpolar": [
           {
            "marker": {
             "colorbar": {
              "outlinewidth": 0,
              "ticks": ""
             }
            },
            "type": "scatterpolar"
           }
          ],
          "scatterpolargl": [
           {
            "marker": {
             "colorbar": {
              "outlinewidth": 0,
              "ticks": ""
             }
            },
            "type": "scatterpolargl"
           }
          ],
          "scatterternary": [
           {
            "marker": {
             "colorbar": {
              "outlinewidth": 0,
              "ticks": ""
             }
            },
            "type": "scatterternary"
           }
          ],
          "surface": [
           {
            "colorbar": {
             "outlinewidth": 0,
             "ticks": ""
            },
            "colorscale": [
             [
              0,
              "#0d0887"
             ],
             [
              0.1111111111111111,
              "#46039f"
             ],
             [
              0.2222222222222222,
              "#7201a8"
             ],
             [
              0.3333333333333333,
              "#9c179e"
             ],
             [
              0.4444444444444444,
              "#bd3786"
             ],
             [
              0.5555555555555556,
              "#d8576b"
             ],
             [
              0.6666666666666666,
              "#ed7953"
             ],
             [
              0.7777777777777778,
              "#fb9f3a"
             ],
             [
              0.8888888888888888,
              "#fdca26"
             ],
             [
              1,
              "#f0f921"
             ]
            ],
            "type": "surface"
           }
          ],
          "table": [
           {
            "cells": {
             "fill": {
              "color": "#EBF0F8"
             },
             "line": {
              "color": "white"
             }
            },
            "header": {
             "fill": {
              "color": "#C8D4E3"
             },
             "line": {
              "color": "white"
             }
            },
            "type": "table"
           }
          ]
         },
         "layout": {
          "annotationdefaults": {
           "arrowcolor": "#2a3f5f",
           "arrowhead": 0,
           "arrowwidth": 1
          },
          "coloraxis": {
           "colorbar": {
            "outlinewidth": 0,
            "ticks": ""
           }
          },
          "colorscale": {
           "diverging": [
            [
             0,
             "#8e0152"
            ],
            [
             0.1,
             "#c51b7d"
            ],
            [
             0.2,
             "#de77ae"
            ],
            [
             0.3,
             "#f1b6da"
            ],
            [
             0.4,
             "#fde0ef"
            ],
            [
             0.5,
             "#f7f7f7"
            ],
            [
             0.6,
             "#e6f5d0"
            ],
            [
             0.7,
             "#b8e186"
            ],
            [
             0.8,
             "#7fbc41"
            ],
            [
             0.9,
             "#4d9221"
            ],
            [
             1,
             "#276419"
            ]
           ],
           "sequential": [
            [
             0,
             "#0d0887"
            ],
            [
             0.1111111111111111,
             "#46039f"
            ],
            [
             0.2222222222222222,
             "#7201a8"
            ],
            [
             0.3333333333333333,
             "#9c179e"
            ],
            [
             0.4444444444444444,
             "#bd3786"
            ],
            [
             0.5555555555555556,
             "#d8576b"
            ],
            [
             0.6666666666666666,
             "#ed7953"
            ],
            [
             0.7777777777777778,
             "#fb9f3a"
            ],
            [
             0.8888888888888888,
             "#fdca26"
            ],
            [
             1,
             "#f0f921"
            ]
           ],
           "sequentialminus": [
            [
             0,
             "#0d0887"
            ],
            [
             0.1111111111111111,
             "#46039f"
            ],
            [
             0.2222222222222222,
             "#7201a8"
            ],
            [
             0.3333333333333333,
             "#9c179e"
            ],
            [
             0.4444444444444444,
             "#bd3786"
            ],
            [
             0.5555555555555556,
             "#d8576b"
            ],
            [
             0.6666666666666666,
             "#ed7953"
            ],
            [
             0.7777777777777778,
             "#fb9f3a"
            ],
            [
             0.8888888888888888,
             "#fdca26"
            ],
            [
             1,
             "#f0f921"
            ]
           ]
          },
          "colorway": [
           "#636efa",
           "#EF553B",
           "#00cc96",
           "#ab63fa",
           "#FFA15A",
           "#19d3f3",
           "#FF6692",
           "#B6E880",
           "#FF97FF",
           "#FECB52"
          ],
          "font": {
           "color": "#2a3f5f"
          },
          "geo": {
           "bgcolor": "white",
           "lakecolor": "white",
           "landcolor": "#E5ECF6",
           "showlakes": true,
           "showland": true,
           "subunitcolor": "white"
          },
          "hoverlabel": {
           "align": "left"
          },
          "hovermode": "closest",
          "mapbox": {
           "style": "light"
          },
          "paper_bgcolor": "white",
          "plot_bgcolor": "#E5ECF6",
          "polar": {
           "angularaxis": {
            "gridcolor": "white",
            "linecolor": "white",
            "ticks": ""
           },
           "bgcolor": "#E5ECF6",
           "radialaxis": {
            "gridcolor": "white",
            "linecolor": "white",
            "ticks": ""
           }
          },
          "scene": {
           "xaxis": {
            "backgroundcolor": "#E5ECF6",
            "gridcolor": "white",
            "gridwidth": 2,
            "linecolor": "white",
            "showbackground": true,
            "ticks": "",
            "zerolinecolor": "white"
           },
           "yaxis": {
            "backgroundcolor": "#E5ECF6",
            "gridcolor": "white",
            "gridwidth": 2,
            "linecolor": "white",
            "showbackground": true,
            "ticks": "",
            "zerolinecolor": "white"
           },
           "zaxis": {
            "backgroundcolor": "#E5ECF6",
            "gridcolor": "white",
            "gridwidth": 2,
            "linecolor": "white",
            "showbackground": true,
            "ticks": "",
            "zerolinecolor": "white"
           }
          },
          "shapedefaults": {
           "line": {
            "color": "#2a3f5f"
           }
          },
          "ternary": {
           "aaxis": {
            "gridcolor": "white",
            "linecolor": "white",
            "ticks": ""
           },
           "baxis": {
            "gridcolor": "white",
            "linecolor": "white",
            "ticks": ""
           },
           "bgcolor": "#E5ECF6",
           "caxis": {
            "gridcolor": "white",
            "linecolor": "white",
            "ticks": ""
           }
          },
          "title": {
           "x": 0.05
          },
          "xaxis": {
           "automargin": true,
           "gridcolor": "white",
           "linecolor": "white",
           "ticks": "",
           "title": {
            "standoff": 15
           },
           "zerolinecolor": "white",
           "zerolinewidth": 2
          },
          "yaxis": {
           "automargin": true,
           "gridcolor": "white",
           "linecolor": "white",
           "ticks": "",
           "title": {
            "standoff": 15
           },
           "zerolinecolor": "white",
           "zerolinewidth": 2
          }
         }
        },
        "title": {
         "text": "General Assessment"
        },
        "xaxis": {
         "anchor": "y",
         "domain": [
          0,
          1
         ],
         "title": {
          "text": "Average Votes per Movie"
         }
        },
        "yaxis": {
         "anchor": "x",
         "domain": [
          0,
          1
         ],
         "title": {
          "text": "Weighted Score"
         }
        }
       }
      },
      "text/html": [
       "<div>                            <div id=\"dd4e1ae0-46f6-41de-a579-79ac3fa950c2\" class=\"plotly-graph-div\" style=\"height:525px; width:100%;\"></div>            <script type=\"text/javascript\">                require([\"plotly\"], function(Plotly) {                    window.PLOTLYENV=window.PLOTLYENV || {};                                    if (document.getElementById(\"dd4e1ae0-46f6-41de-a579-79ac3fa950c2\")) {                    Plotly.newPlot(                        \"dd4e1ae0-46f6-41de-a579-79ac3fa950c2\",                        [{\"hovertemplate\": \"<b>%{hovertext}</b><br><br>Genres=Documentary<br>Average Votes per Movie=%{x}<br>Weighted Score=%{y}<br>ADG per Movie=%{marker.size}<extra></extra>\", \"hovertext\": [\"Documentary\"], \"legendgroup\": \"Documentary\", \"marker\": {\"color\": \"#636efa\", \"size\": [5898058.0], \"sizemode\": \"area\", \"sizeref\": 36787.15888888889, \"symbol\": \"circle\"}, \"mode\": \"markers\", \"name\": \"Documentary\", \"orientation\": \"v\", \"showlegend\": true, \"type\": \"scatter\", \"x\": [45202.0], \"xaxis\": \"x\", \"y\": [7.29], \"yaxis\": \"y\"}, {\"hovertemplate\": \"<b>%{hovertext}</b><br><br>Genres=War<br>Average Votes per Movie=%{x}<br>Weighted Score=%{y}<br>ADG per Movie=%{marker.size}<extra></extra>\", \"hovertext\": [\"War\"], \"legendgroup\": \"War\", \"marker\": {\"color\": \"#EF553B\", \"size\": [8729613.0], \"sizemode\": \"area\", \"sizeref\": 36787.15888888889, \"symbol\": \"circle\"}, \"mode\": \"markers\", \"name\": \"War\", \"orientation\": \"v\", \"showlegend\": true, \"type\": \"scatter\", \"x\": [114956.0], \"xaxis\": \"x\", \"y\": [7.08], \"yaxis\": \"y\"}, {\"hovertemplate\": \"<b>%{hovertext}</b><br><br>Genres=Romance<br>Average Votes per Movie=%{x}<br>Weighted Score=%{y}<br>ADG per Movie=%{marker.size}<extra></extra>\", \"hovertext\": [\"Romance\"], \"legendgroup\": \"Romance\", \"marker\": {\"color\": \"#00cc96\", \"size\": [19416649.0], \"sizemode\": \"area\", \"sizeref\": 36787.15888888889, \"symbol\": \"circle\"}, \"mode\": \"markers\", \"name\": \"Romance\", \"orientation\": \"v\", \"showlegend\": true, \"type\": \"scatter\", \"x\": [86361.0], \"xaxis\": \"x\", \"y\": [6.66], \"yaxis\": \"y\"}, {\"hovertemplate\": \"<b>%{hovertext}</b><br><br>Genres=Drama<br>Average Votes per Movie=%{x}<br>Weighted Score=%{y}<br>ADG per Movie=%{marker.size}<extra></extra>\", \"hovertext\": [\"Drama\"], \"legendgroup\": \"Drama\", \"marker\": {\"color\": \"#ab63fa\", \"size\": [23597341.0], \"sizemode\": \"area\", \"sizeref\": 36787.15888888889, \"symbol\": \"circle\"}, \"mode\": \"markers\", \"name\": \"Drama\", \"orientation\": \"v\", \"showlegend\": true, \"type\": \"scatter\", \"x\": [122142.0], \"xaxis\": \"x\", \"y\": [7.07], \"yaxis\": \"y\"}, {\"hovertemplate\": \"<b>%{hovertext}</b><br><br>Genres=History<br>Average Votes per Movie=%{x}<br>Weighted Score=%{y}<br>ADG per Movie=%{marker.size}<extra></extra>\", \"hovertext\": [\"History\"], \"legendgroup\": \"History\", \"marker\": {\"color\": \"#FFA15A\", \"size\": [26016413.0], \"sizemode\": \"area\", \"sizeref\": 36787.15888888889, \"symbol\": \"circle\"}, \"mode\": \"markers\", \"name\": \"History\", \"orientation\": \"v\", \"showlegend\": true, \"type\": \"scatter\", \"x\": [105774.0], \"xaxis\": \"x\", \"y\": [7.39], \"yaxis\": \"y\"}, {\"hovertemplate\": \"<b>%{hovertext}</b><br><br>Genres=Music<br>Average Votes per Movie=%{x}<br>Weighted Score=%{y}<br>ADG per Movie=%{marker.size}<extra></extra>\", \"hovertext\": [\"Music\"], \"legendgroup\": \"Music\", \"marker\": {\"color\": \"#19d3f3\", \"size\": [26813429.0], \"sizemode\": \"area\", \"sizeref\": 36787.15888888889, \"symbol\": \"circle\"}, \"mode\": \"markers\", \"name\": \"Music\", \"orientation\": \"v\", \"showlegend\": true, \"type\": \"scatter\", \"x\": [96661.0], \"xaxis\": \"x\", \"y\": [7.14], \"yaxis\": \"y\"}, {\"hovertemplate\": \"<b>%{hovertext}</b><br><br>Genres=Biography<br>Average Votes per Movie=%{x}<br>Weighted Score=%{y}<br>ADG per Movie=%{marker.size}<extra></extra>\", \"hovertext\": [\"Biography\"], \"legendgroup\": \"Biography\", \"marker\": {\"color\": \"#FF6692\", \"size\": [27768417.0], \"sizemode\": \"area\", \"sizeref\": 36787.15888888889, \"symbol\": \"circle\"}, \"mode\": \"markers\", \"name\": \"Biography\", \"orientation\": \"v\", \"showlegend\": true, \"type\": \"scatter\", \"x\": [114460.0], \"xaxis\": \"x\", \"y\": [7.48], \"yaxis\": \"y\"}, {\"hovertemplate\": \"<b>%{hovertext}</b><br><br>Genres=Sport<br>Average Votes per Movie=%{x}<br>Weighted Score=%{y}<br>ADG per Movie=%{marker.size}<extra></extra>\", \"hovertext\": [\"Sport\"], \"legendgroup\": \"Sport\", \"marker\": {\"color\": \"#B6E880\", \"size\": [28551257.0], \"sizemode\": \"area\", \"sizeref\": 36787.15888888889, \"symbol\": \"circle\"}, \"mode\": \"markers\", \"name\": \"Sport\", \"orientation\": \"v\", \"showlegend\": true, \"type\": \"scatter\", \"x\": [104231.0], \"xaxis\": \"x\", \"y\": [7.31], \"yaxis\": \"y\"}, {\"hovertemplate\": \"<b>%{hovertext}</b><br><br>Genres=Crime<br>Average Votes per Movie=%{x}<br>Weighted Score=%{y}<br>ADG per Movie=%{marker.size}<extra></extra>\", \"hovertext\": [\"Crime\"], \"legendgroup\": \"Crime\", \"marker\": {\"color\": \"#FF97FF\", \"size\": [31180514.0], \"sizemode\": \"area\", \"sizeref\": 36787.15888888889, \"symbol\": \"circle\"}, \"mode\": \"markers\", \"name\": \"Crime\", \"orientation\": \"v\", \"showlegend\": true, \"type\": \"scatter\", \"x\": [149240.0], \"xaxis\": \"x\", \"y\": [6.87], \"yaxis\": \"y\"}, {\"hovertemplate\": \"<b>%{hovertext}</b><br><br>Genres=Musical<br>Average Votes per Movie=%{x}<br>Weighted Score=%{y}<br>ADG per Movie=%{marker.size}<extra></extra>\", \"hovertext\": [\"Musical\"], \"legendgroup\": \"Musical\", \"marker\": {\"color\": \"#FECB52\", \"size\": [31325700.0], \"sizemode\": \"area\", \"sizeref\": 36787.15888888889, \"symbol\": \"circle\"}, \"mode\": \"markers\", \"name\": \"Musical\", \"orientation\": \"v\", \"showlegend\": true, \"type\": \"scatter\", \"x\": [119649.0], \"xaxis\": \"x\", \"y\": [7.1], \"yaxis\": \"y\"}, {\"hovertemplate\": \"<b>%{hovertext}</b><br><br>Genres=Mystery<br>Average Votes per Movie=%{x}<br>Weighted Score=%{y}<br>ADG per Movie=%{marker.size}<extra></extra>\", \"hovertext\": [\"Mystery\"], \"legendgroup\": \"Mystery\", \"marker\": {\"color\": \"#636efa\", \"size\": [36107892.0], \"sizemode\": \"area\", \"sizeref\": 36787.15888888889, \"symbol\": \"circle\"}, \"mode\": \"markers\", \"name\": \"Mystery\", \"orientation\": \"v\", \"showlegend\": true, \"type\": \"scatter\", \"x\": [185372.0], \"xaxis\": \"x\", \"y\": [6.88], \"yaxis\": \"y\"}, {\"hovertemplate\": \"<b>%{hovertext}</b><br><br>Genres=Horror<br>Average Votes per Movie=%{x}<br>Weighted Score=%{y}<br>ADG per Movie=%{marker.size}<extra></extra>\", \"hovertext\": [\"Horror\"], \"legendgroup\": \"Horror\", \"marker\": {\"color\": \"#EF553B\", \"size\": [36498822.0], \"sizemode\": \"area\", \"sizeref\": 36787.15888888889, \"symbol\": \"circle\"}, \"mode\": \"markers\", \"name\": \"Horror\", \"orientation\": \"v\", \"showlegend\": true, \"type\": \"scatter\", \"x\": [162335.0], \"xaxis\": \"x\", \"y\": [6.11], \"yaxis\": \"y\"}, {\"hovertemplate\": \"<b>%{hovertext}</b><br><br>Genres=Thriller<br>Average Votes per Movie=%{x}<br>Weighted Score=%{y}<br>ADG per Movie=%{marker.size}<extra></extra>\", \"hovertext\": [\"Thriller\"], \"legendgroup\": \"Thriller\", \"marker\": {\"color\": \"#00cc96\", \"size\": [41330543.0], \"sizemode\": \"area\", \"sizeref\": 36787.15888888889, \"symbol\": \"circle\"}, \"mode\": \"markers\", \"name\": \"Thriller\", \"orientation\": \"v\", \"showlegend\": true, \"type\": \"scatter\", \"x\": [168548.0], \"xaxis\": \"x\", \"y\": [6.78], \"yaxis\": \"y\"}, {\"hovertemplate\": \"<b>%{hovertext}</b><br><br>Genres=Comedy<br>Average Votes per Movie=%{x}<br>Weighted Score=%{y}<br>ADG per Movie=%{marker.size}<extra></extra>\", \"hovertext\": [\"Comedy\"], \"legendgroup\": \"Comedy\", \"marker\": {\"color\": \"#ab63fa\", \"size\": [44783015.0], \"sizemode\": \"area\", \"sizeref\": 36787.15888888889, \"symbol\": \"circle\"}, \"mode\": \"markers\", \"name\": \"Comedy\", \"orientation\": \"v\", \"showlegend\": true, \"type\": \"scatter\", \"x\": [110892.0], \"xaxis\": \"x\", \"y\": [6.72], \"yaxis\": \"y\"}, {\"hovertemplate\": \"<b>%{hovertext}</b><br><br>Genres=Western<br>Average Votes per Movie=%{x}<br>Weighted Score=%{y}<br>ADG per Movie=%{marker.size}<extra></extra>\", \"hovertext\": [\"Western\"], \"legendgroup\": \"Western\", \"marker\": {\"color\": \"#FFA15A\", \"size\": [46013736.0], \"sizemode\": \"area\", \"sizeref\": 36787.15888888889, \"symbol\": \"circle\"}, \"mode\": \"markers\", \"name\": \"Western\", \"orientation\": \"v\", \"showlegend\": true, \"type\": \"scatter\", \"x\": [222094.0], \"xaxis\": \"x\", \"y\": [7.52], \"yaxis\": \"y\"}, {\"hovertemplate\": \"<b>%{hovertext}</b><br><br>Genres=Family<br>Average Votes per Movie=%{x}<br>Weighted Score=%{y}<br>ADG per Movie=%{marker.size}<extra></extra>\", \"hovertext\": [\"Family\"], \"legendgroup\": \"Family\", \"marker\": {\"color\": \"#19d3f3\", \"size\": [60672165.0], \"sizemode\": \"area\", \"sizeref\": 36787.15888888889, \"symbol\": \"circle\"}, \"mode\": \"markers\", \"name\": \"Family\", \"orientation\": \"v\", \"showlegend\": true, \"type\": \"scatter\", \"x\": [100272.0], \"xaxis\": \"x\", \"y\": [6.75], \"yaxis\": \"y\"}, {\"hovertemplate\": \"<b>%{hovertext}</b><br><br>Genres=Action<br>Average Votes per Movie=%{x}<br>Weighted Score=%{y}<br>ADG per Movie=%{marker.size}<extra></extra>\", \"hovertext\": [\"Action\"], \"legendgroup\": \"Action\", \"marker\": {\"color\": \"#FF6692\", \"size\": [70444882.0], \"sizemode\": \"area\", \"sizeref\": 36787.15888888889, \"symbol\": \"circle\"}, \"mode\": \"markers\", \"name\": \"Action\", \"orientation\": \"v\", \"showlegend\": true, \"type\": \"scatter\", \"x\": [193065.0], \"xaxis\": \"x\", \"y\": [6.9], \"yaxis\": \"y\"}, {\"hovertemplate\": \"<b>%{hovertext}</b><br><br>Genres=Fantasy<br>Average Votes per Movie=%{x}<br>Weighted Score=%{y}<br>ADG per Movie=%{marker.size}<extra></extra>\", \"hovertext\": [\"Fantasy\"], \"legendgroup\": \"Fantasy\", \"marker\": {\"color\": \"#B6E880\", \"size\": [71884745.0], \"sizemode\": \"area\", \"sizeref\": 36787.15888888889, \"symbol\": \"circle\"}, \"mode\": \"markers\", \"name\": \"Fantasy\", \"orientation\": \"v\", \"showlegend\": true, \"type\": \"scatter\", \"x\": [205647.0], \"xaxis\": \"x\", \"y\": [6.69], \"yaxis\": \"y\"}, {\"hovertemplate\": \"<b>%{hovertext}</b><br><br>Genres=Adventure<br>Average Votes per Movie=%{x}<br>Weighted Score=%{y}<br>ADG per Movie=%{marker.size}<extra></extra>\", \"hovertext\": [\"Adventure\"], \"legendgroup\": \"Adventure\", \"marker\": {\"color\": \"#FF97FF\", \"size\": [112993098.0], \"sizemode\": \"area\", \"sizeref\": 36787.15888888889, \"symbol\": \"circle\"}, \"mode\": \"markers\", \"name\": \"Adventure\", \"orientation\": \"v\", \"showlegend\": true, \"type\": \"scatter\", \"x\": [228015.0], \"xaxis\": \"x\", \"y\": [7.06], \"yaxis\": \"y\"}, {\"hovertemplate\": \"<b>%{hovertext}</b><br><br>Genres=Animation<br>Average Votes per Movie=%{x}<br>Weighted Score=%{y}<br>ADG per Movie=%{marker.size}<extra></extra>\", \"hovertext\": [\"Animation\"], \"legendgroup\": \"Animation\", \"marker\": {\"color\": \"#FECB52\", \"size\": [114604476.0], \"sizemode\": \"area\", \"sizeref\": 36787.15888888889, \"symbol\": \"circle\"}, \"mode\": \"markers\", \"name\": \"Animation\", \"orientation\": \"v\", \"showlegend\": true, \"type\": \"scatter\", \"x\": [132115.0], \"xaxis\": \"x\", \"y\": [7.25], \"yaxis\": \"y\"}, {\"hovertemplate\": \"<b>%{hovertext}</b><br><br>Genres=Sci-Fi<br>Average Votes per Movie=%{x}<br>Weighted Score=%{y}<br>ADG per Movie=%{marker.size}<extra></extra>\", \"hovertext\": [\"Sci-Fi\"], \"legendgroup\": \"Sci-Fi\", \"marker\": {\"color\": \"#636efa\", \"size\": [132433772.0], \"sizemode\": \"area\", \"sizeref\": 36787.15888888889, \"symbol\": \"circle\"}, \"mode\": \"markers\", \"name\": \"Sci-Fi\", \"orientation\": \"v\", \"showlegend\": true, \"type\": \"scatter\", \"x\": [387850.0], \"xaxis\": \"x\", \"y\": [7.13], \"yaxis\": \"y\"}],                        {\"legend\": {\"itemsizing\": \"constant\", \"title\": {\"text\": \"Genres\"}, \"tracegroupgap\": 0}, \"template\": {\"data\": {\"bar\": [{\"error_x\": {\"color\": \"#2a3f5f\"}, \"error_y\": {\"color\": \"#2a3f5f\"}, \"marker\": {\"line\": {\"color\": \"#E5ECF6\", \"width\": 0.5}}, \"type\": \"bar\"}], \"barpolar\": [{\"marker\": {\"line\": {\"color\": \"#E5ECF6\", \"width\": 0.5}}, \"type\": \"barpolar\"}], \"carpet\": [{\"aaxis\": {\"endlinecolor\": \"#2a3f5f\", \"gridcolor\": \"white\", \"linecolor\": \"white\", \"minorgridcolor\": \"white\", \"startlinecolor\": \"#2a3f5f\"}, \"baxis\": {\"endlinecolor\": \"#2a3f5f\", \"gridcolor\": \"white\", \"linecolor\": \"white\", \"minorgridcolor\": \"white\", \"startlinecolor\": \"#2a3f5f\"}, \"type\": \"carpet\"}], \"choropleth\": [{\"colorbar\": {\"outlinewidth\": 0, \"ticks\": \"\"}, \"type\": \"choropleth\"}], \"contour\": [{\"colorbar\": {\"outlinewidth\": 0, \"ticks\": \"\"}, \"colorscale\": [[0.0, \"#0d0887\"], [0.1111111111111111, \"#46039f\"], [0.2222222222222222, \"#7201a8\"], [0.3333333333333333, \"#9c179e\"], [0.4444444444444444, \"#bd3786\"], [0.5555555555555556, \"#d8576b\"], [0.6666666666666666, \"#ed7953\"], [0.7777777777777778, \"#fb9f3a\"], [0.8888888888888888, \"#fdca26\"], [1.0, \"#f0f921\"]], \"type\": \"contour\"}], \"contourcarpet\": [{\"colorbar\": {\"outlinewidth\": 0, \"ticks\": \"\"}, \"type\": \"contourcarpet\"}], \"heatmap\": [{\"colorbar\": {\"outlinewidth\": 0, \"ticks\": \"\"}, \"colorscale\": [[0.0, \"#0d0887\"], [0.1111111111111111, \"#46039f\"], [0.2222222222222222, \"#7201a8\"], [0.3333333333333333, \"#9c179e\"], [0.4444444444444444, \"#bd3786\"], [0.5555555555555556, \"#d8576b\"], [0.6666666666666666, \"#ed7953\"], [0.7777777777777778, \"#fb9f3a\"], [0.8888888888888888, \"#fdca26\"], [1.0, \"#f0f921\"]], \"type\": \"heatmap\"}], \"heatmapgl\": [{\"colorbar\": {\"outlinewidth\": 0, \"ticks\": \"\"}, \"colorscale\": [[0.0, \"#0d0887\"], [0.1111111111111111, \"#46039f\"], [0.2222222222222222, \"#7201a8\"], [0.3333333333333333, \"#9c179e\"], [0.4444444444444444, \"#bd3786\"], [0.5555555555555556, \"#d8576b\"], [0.6666666666666666, \"#ed7953\"], [0.7777777777777778, \"#fb9f3a\"], [0.8888888888888888, \"#fdca26\"], [1.0, \"#f0f921\"]], \"type\": \"heatmapgl\"}], \"histogram\": [{\"marker\": {\"colorbar\": {\"outlinewidth\": 0, \"ticks\": \"\"}}, \"type\": \"histogram\"}], \"histogram2d\": [{\"colorbar\": {\"outlinewidth\": 0, \"ticks\": \"\"}, \"colorscale\": [[0.0, \"#0d0887\"], [0.1111111111111111, \"#46039f\"], [0.2222222222222222, \"#7201a8\"], [0.3333333333333333, \"#9c179e\"], [0.4444444444444444, \"#bd3786\"], [0.5555555555555556, \"#d8576b\"], [0.6666666666666666, \"#ed7953\"], [0.7777777777777778, \"#fb9f3a\"], [0.8888888888888888, \"#fdca26\"], [1.0, \"#f0f921\"]], \"type\": \"histogram2d\"}], \"histogram2dcontour\": [{\"colorbar\": {\"outlinewidth\": 0, \"ticks\": \"\"}, \"colorscale\": [[0.0, \"#0d0887\"], [0.1111111111111111, \"#46039f\"], [0.2222222222222222, \"#7201a8\"], [0.3333333333333333, \"#9c179e\"], [0.4444444444444444, \"#bd3786\"], [0.5555555555555556, \"#d8576b\"], [0.6666666666666666, \"#ed7953\"], [0.7777777777777778, \"#fb9f3a\"], [0.8888888888888888, \"#fdca26\"], [1.0, \"#f0f921\"]], \"type\": \"histogram2dcontour\"}], \"mesh3d\": [{\"colorbar\": {\"outlinewidth\": 0, \"ticks\": \"\"}, \"type\": \"mesh3d\"}], \"parcoords\": [{\"line\": {\"colorbar\": {\"outlinewidth\": 0, \"ticks\": \"\"}}, \"type\": \"parcoords\"}], \"pie\": [{\"automargin\": true, \"type\": \"pie\"}], \"scatter\": [{\"marker\": {\"colorbar\": {\"outlinewidth\": 0, \"ticks\": \"\"}}, \"type\": \"scatter\"}], \"scatter3d\": [{\"line\": {\"colorbar\": {\"outlinewidth\": 0, \"ticks\": \"\"}}, \"marker\": {\"colorbar\": {\"outlinewidth\": 0, \"ticks\": \"\"}}, \"type\": \"scatter3d\"}], \"scattercarpet\": [{\"marker\": {\"colorbar\": {\"outlinewidth\": 0, \"ticks\": \"\"}}, \"type\": \"scattercarpet\"}], \"scattergeo\": [{\"marker\": {\"colorbar\": {\"outlinewidth\": 0, \"ticks\": \"\"}}, \"type\": \"scattergeo\"}], \"scattergl\": [{\"marker\": {\"colorbar\": {\"outlinewidth\": 0, \"ticks\": \"\"}}, \"type\": \"scattergl\"}], \"scattermapbox\": [{\"marker\": {\"colorbar\": {\"outlinewidth\": 0, \"ticks\": \"\"}}, \"type\": \"scattermapbox\"}], \"scatterpolar\": [{\"marker\": {\"colorbar\": {\"outlinewidth\": 0, \"ticks\": \"\"}}, \"type\": \"scatterpolar\"}], \"scatterpolargl\": [{\"marker\": {\"colorbar\": {\"outlinewidth\": 0, \"ticks\": \"\"}}, \"type\": \"scatterpolargl\"}], \"scatterternary\": [{\"marker\": {\"colorbar\": {\"outlinewidth\": 0, \"ticks\": \"\"}}, \"type\": \"scatterternary\"}], \"surface\": [{\"colorbar\": {\"outlinewidth\": 0, \"ticks\": \"\"}, \"colorscale\": [[0.0, \"#0d0887\"], [0.1111111111111111, \"#46039f\"], [0.2222222222222222, \"#7201a8\"], [0.3333333333333333, \"#9c179e\"], [0.4444444444444444, \"#bd3786\"], [0.5555555555555556, \"#d8576b\"], [0.6666666666666666, \"#ed7953\"], [0.7777777777777778, \"#fb9f3a\"], [0.8888888888888888, \"#fdca26\"], [1.0, \"#f0f921\"]], \"type\": \"surface\"}], \"table\": [{\"cells\": {\"fill\": {\"color\": \"#EBF0F8\"}, \"line\": {\"color\": \"white\"}}, \"header\": {\"fill\": {\"color\": \"#C8D4E3\"}, \"line\": {\"color\": \"white\"}}, \"type\": \"table\"}]}, \"layout\": {\"annotationdefaults\": {\"arrowcolor\": \"#2a3f5f\", \"arrowhead\": 0, \"arrowwidth\": 1}, \"coloraxis\": {\"colorbar\": {\"outlinewidth\": 0, \"ticks\": \"\"}}, \"colorscale\": {\"diverging\": [[0, \"#8e0152\"], [0.1, \"#c51b7d\"], [0.2, \"#de77ae\"], [0.3, \"#f1b6da\"], [0.4, \"#fde0ef\"], [0.5, \"#f7f7f7\"], [0.6, \"#e6f5d0\"], [0.7, \"#b8e186\"], [0.8, \"#7fbc41\"], [0.9, \"#4d9221\"], [1, \"#276419\"]], \"sequential\": [[0.0, \"#0d0887\"], [0.1111111111111111, \"#46039f\"], [0.2222222222222222, \"#7201a8\"], [0.3333333333333333, \"#9c179e\"], [0.4444444444444444, \"#bd3786\"], [0.5555555555555556, \"#d8576b\"], [0.6666666666666666, \"#ed7953\"], [0.7777777777777778, \"#fb9f3a\"], [0.8888888888888888, \"#fdca26\"], [1.0, \"#f0f921\"]], \"sequentialminus\": [[0.0, \"#0d0887\"], [0.1111111111111111, \"#46039f\"], [0.2222222222222222, \"#7201a8\"], [0.3333333333333333, \"#9c179e\"], [0.4444444444444444, \"#bd3786\"], [0.5555555555555556, \"#d8576b\"], [0.6666666666666666, \"#ed7953\"], [0.7777777777777778, \"#fb9f3a\"], [0.8888888888888888, \"#fdca26\"], [1.0, \"#f0f921\"]]}, \"colorway\": [\"#636efa\", \"#EF553B\", \"#00cc96\", \"#ab63fa\", \"#FFA15A\", \"#19d3f3\", \"#FF6692\", \"#B6E880\", \"#FF97FF\", \"#FECB52\"], \"font\": {\"color\": \"#2a3f5f\"}, \"geo\": {\"bgcolor\": \"white\", \"lakecolor\": \"white\", \"landcolor\": \"#E5ECF6\", \"showlakes\": true, \"showland\": true, \"subunitcolor\": \"white\"}, \"hoverlabel\": {\"align\": \"left\"}, \"hovermode\": \"closest\", \"mapbox\": {\"style\": \"light\"}, \"paper_bgcolor\": \"white\", \"plot_bgcolor\": \"#E5ECF6\", \"polar\": {\"angularaxis\": {\"gridcolor\": \"white\", \"linecolor\": \"white\", \"ticks\": \"\"}, \"bgcolor\": \"#E5ECF6\", \"radialaxis\": {\"gridcolor\": \"white\", \"linecolor\": \"white\", \"ticks\": \"\"}}, \"scene\": {\"xaxis\": {\"backgroundcolor\": \"#E5ECF6\", \"gridcolor\": \"white\", \"gridwidth\": 2, \"linecolor\": \"white\", \"showbackground\": true, \"ticks\": \"\", \"zerolinecolor\": \"white\"}, \"yaxis\": {\"backgroundcolor\": \"#E5ECF6\", \"gridcolor\": \"white\", \"gridwidth\": 2, \"linecolor\": \"white\", \"showbackground\": true, \"ticks\": \"\", \"zerolinecolor\": \"white\"}, \"zaxis\": {\"backgroundcolor\": \"#E5ECF6\", \"gridcolor\": \"white\", \"gridwidth\": 2, \"linecolor\": \"white\", \"showbackground\": true, \"ticks\": \"\", \"zerolinecolor\": \"white\"}}, \"shapedefaults\": {\"line\": {\"color\": \"#2a3f5f\"}}, \"ternary\": {\"aaxis\": {\"gridcolor\": \"white\", \"linecolor\": \"white\", \"ticks\": \"\"}, \"baxis\": {\"gridcolor\": \"white\", \"linecolor\": \"white\", \"ticks\": \"\"}, \"bgcolor\": \"#E5ECF6\", \"caxis\": {\"gridcolor\": \"white\", \"linecolor\": \"white\", \"ticks\": \"\"}}, \"title\": {\"x\": 0.05}, \"xaxis\": {\"automargin\": true, \"gridcolor\": \"white\", \"linecolor\": \"white\", \"ticks\": \"\", \"title\": {\"standoff\": 15}, \"zerolinecolor\": \"white\", \"zerolinewidth\": 2}, \"yaxis\": {\"automargin\": true, \"gridcolor\": \"white\", \"linecolor\": \"white\", \"ticks\": \"\", \"title\": {\"standoff\": 15}, \"zerolinecolor\": \"white\", \"zerolinewidth\": 2}}}, \"title\": {\"text\": \"General Assessment\"}, \"xaxis\": {\"anchor\": \"y\", \"domain\": [0.0, 1.0], \"title\": {\"text\": \"Average Votes per Movie\"}}, \"yaxis\": {\"anchor\": \"x\", \"domain\": [0.0, 1.0], \"title\": {\"text\": \"Weighted Score\"}}},                        {\"responsive\": true}                    ).then(function(){\n",
       "                            \n",
       "var gd = document.getElementById('dd4e1ae0-46f6-41de-a579-79ac3fa950c2');\n",
       "var x = new MutationObserver(function (mutations, observer) {{\n",
       "        var display = window.getComputedStyle(gd).display;\n",
       "        if (!display || display === 'none') {{\n",
       "            console.log([gd, 'removed!']);\n",
       "            Plotly.purge(gd);\n",
       "            observer.disconnect();\n",
       "        }}\n",
       "}});\n",
       "\n",
       "// Listen for the removal of the full notebook cells\n",
       "var notebookContainer = gd.closest('#notebook-container');\n",
       "if (notebookContainer) {{\n",
       "    x.observe(notebookContainer, {childList: true});\n",
       "}}\n",
       "\n",
       "// Listen for the clearing of the current output cell\n",
       "var outputEl = gd.closest('.output');\n",
       "if (outputEl) {{\n",
       "    x.observe(outputEl, {childList: true});\n",
       "}}\n",
       "\n",
       "                        })                };                });            </script>        </div>"
      ]
     },
     "metadata": {},
     "output_type": "display_data"
    }
   ],
   "source": [
    "#STEP 5:\n",
    "\n",
    "#Bubble Chart for balanced reccomendation\n",
    "\n",
    "import plotly.express as px\n",
    "\n",
    "fig = px.scatter(final_df, x=\"Average Votes per Movie\", y=\"Weighted Score\",\n",
    "\t         size=\"ADG per Movie\", color=\"Genres\",hover_name=\"Genres\", size_max=60,\n",
    "            title = 'General Assessment')\n",
    "\n",
    "fig.show()"
   ]
  },
  {
   "cell_type": "markdown",
   "metadata": {},
   "source": [
    "## Evaluation & Conclusion\n",
    "\n",
    "Our analysis has reuslted in the following findings:\n",
    "\n",
    "**1. Which genres generated the highest amount of domestic revenue per movie?**\n",
    "\n",
    "**Scifi, Animation and Adventure** dominate our per revenue analysis. Each genre averaged over 1 Billion Dollars in domestic gross, more than 2x the average across all Genres. \n",
    "\n",
    "\n",
    "**2. Which genres had the highest measurable amount of engagement?**\n",
    "\n",
    "**Scifi, Adventure, and Western** dominated our per voting/engagement analysis. In particular, Sci-Fi garnered an average 387k votes per movie, a staggering 2.5x the mean votes per genre. Adventure scored impressively as well, garnering ~228k votes, or 1.5x the mean votes per genre.\n",
    "\n",
    "\n",
    "**3. When an audience does engage, which genres garnered the most positive response?**\n",
    "\n",
    "**Western, Biography, and History** garnered the highest weighted scores, earning 7.52, 7.48 and 7.39 respectively. However, it is worth noting that the average weighted score for all genres rests at 7.06. This means that even our highest rated genre only scores 7% above the mean. \n",
    "\n",
    "Moreover, Genre's that experienced success in the prior 2 metrics such as Scifi, Adventure and Animation all scored above the average (7.13, 7.06, and 7.13 respectively).\n",
    "\n",
    "An overall analysis of all metrics (displayed in the Bubble Chart above), indicates Sci-Fi, Adventure and Western as clear favorites. However, as Microsoft will be launching a fledgeling studio, it would be best advised to strategically target genres that have not been fully saturated such as Adventure. Our analysis has shown that Animation is chosen as a genre almost half as much on average.\n",
    "\n",
    "With the results above, this analysis proposes 3 potential routes:\n",
    "\n",
    "1. Launch a Sci-Fi / Adventure film to compete for large shares of profitable markets off the bat\n",
    "2. Launch a Sci-Fi / Western and forego potential revenue streams from Adventure\n",
    "3. Launch a Sci-Fi / Animation Film to optimize for revenue generation and capitalize on an unerserved market\n",
    "\n",
    "**Analytical Critiques:**\n",
    "\n",
    "1. In order to round out our analysis, it would be helpful to integrate production cost to determine true profitability per Genre\n",
    "\n",
    "2. Analysis could be further improved by losing less data during merges by potentially using a fuzzy match loop.\n"
   ]
  }
 ],
 "metadata": {
  "kernelspec": {
   "display_name": "Python 3",
   "language": "python",
   "name": "python3"
  },
  "language_info": {
   "codemirror_mode": {
    "name": "ipython",
    "version": 3
   },
   "file_extension": ".py",
   "mimetype": "text/x-python",
   "name": "python",
   "nbconvert_exporter": "python",
   "pygments_lexer": "ipython3",
   "version": "3.8.5"
  }
 },
 "nbformat": 4,
 "nbformat_minor": 4
}
